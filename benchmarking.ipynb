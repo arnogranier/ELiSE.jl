{
 "cells": [
  {
   "cell_type": "code",
   "execution_count": 1,
   "metadata": {},
   "outputs": [],
   "source": [
    "include(\"src/Elise.jl\");"
   ]
  },
  {
   "cell_type": "code",
   "execution_count": 2,
   "metadata": {},
   "outputs": [],
   "source": [
    "Random.seed!(1234);"
   ]
  },
  {
   "cell_type": "markdown",
   "metadata": {},
   "source": [
    "---"
   ]
  },
  {
   "cell_type": "markdown",
   "metadata": {},
   "source": [
    "## Config"
   ]
  },
  {
   "cell_type": "code",
   "execution_count": 3,
   "metadata": {},
   "outputs": [
    {
     "name": "stdout",
     "output_type": "stream",
     "text": [
      "Config\n",
      "  dt: Float64 0.1\n",
      "  E_exc: Float64 1.0\n",
      "  E_inh: Float64 -1.0\n",
      "  g_l: Float64 0.1\n",
      "  g_den: Float64 2.0\n",
      "  g_e: Float64 0.3\n",
      "  g_i: Float64 0.9\n",
      "  δ: Float64 25.0\n",
      "  η: Float64 1.0e-5\n",
      "  λ: Float64 0.6\n",
      "  a: Float64 21.0\n",
      "  b: Float64 0.18\n"
     ]
    }
   ],
   "source": [
    "const cfg = Config()\n",
    "dump(cfg)"
   ]
  },
  {
   "cell_type": "markdown",
   "metadata": {},
   "source": [
    "---"
   ]
  },
  {
   "cell_type": "code",
   "execution_count": 4,
   "metadata": {},
   "outputs": [
    {
     "data": {
      "text/plain": [
       "τ_s_init (generic function with 1 method)"
      ]
     },
     "metadata": {},
     "output_type": "display_data"
    }
   ],
   "source": [
    "W_init(N,M) = rand(Normal(0., 0.0005), N, M);\n",
    "B_init(N_latent, N) = Float64.(rand(N_latent, N) .< 1.5/N);\n",
    "τ_d_init(N) = rand(Uniform(1., 20.), N)\n",
    "τ_s_init(N) = rand(Uniform(1., 20.), N)"
   ]
  },
  {
   "cell_type": "code",
   "execution_count": 5,
   "metadata": {},
   "outputs": [
    {
     "data": {
      "text/plain": [
       "N_lat (generic function with 1 method)"
      ]
     },
     "metadata": {},
     "output_type": "display_data"
    }
   ],
   "source": [
    "N_lat(N_out) = 2*N_out"
   ]
  },
  {
   "cell_type": "code",
   "execution_count": 6,
   "metadata": {},
   "outputs": [
    {
     "data": {
      "text/plain": [
       "(200.0, 1000)"
      ]
     },
     "metadata": {},
     "output_type": "display_data"
    }
   ],
   "source": [
    "TM, NT = 200., 1000"
   ]
  },
  {
   "cell_type": "code",
   "execution_count": 7,
   "metadata": {},
   "outputs": [
    {
     "name": "stderr",
     "output_type": "stream",
     "text": [
      "\u001b[32mProgress: 100%|█████████████████████████████████████████| Time: 0:13:09\u001b[39m\u001b[K\n"
     ]
    }
   ],
   "source": [
    "bench = benchmark(cfg::Config, 0., TM, \"Well Tempered Clavier/Preludes/\",\n",
    "(r,t;θ=.5) -> sum((r.>θ).&(t.>θ)) / sum((r.>θ).|(t.>θ)), NT,\n",
    "N_lat, W_init, B_init, τ_d_init, τ_s_init; n_test=25);"
   ]
  },
  {
   "cell_type": "code",
   "execution_count": 8,
   "metadata": {},
   "outputs": [],
   "source": [
    "bench_fixed = benchmark(cfg::Config, 0., TM, \"Well Tempered Clavier/Preludes/\",\n",
    "(r,t;θ=.5) -> sum((r.>θ).&(t.>θ)) / sum((r.>θ).|(t.>θ)), NT,\n",
    "N_lat, W_init, B_init, N->10. *ones(N), N->10. *ones(N); n_test=25);"
   ]
  },
  {
   "cell_type": "code",
   "execution_count": 9,
   "metadata": {},
   "outputs": [],
   "source": [
    "bench_dout_1 = benchmark(cfg::Config, 0., TM, \"Well Tempered Clavier/Preludes/\",\n",
    "(r,t;θ=.5) -> sum((r.>θ).&(t.>θ)) / sum((r.>θ).|(t.>θ)), NT,\n",
    "N_lat, W_init, (N_latent, N) -> Float64.(rand(N_latent, N) .< 1. /N), τ_d_init, τ_s_init; n_test=25);"
   ]
  },
  {
   "cell_type": "code",
   "execution_count": 10,
   "metadata": {},
   "outputs": [],
   "source": [
    "bench_dout_2 = benchmark(cfg::Config, 0., TM, \"Well Tempered Clavier/Preludes/\",\n",
    "(r,t;θ=.5) -> sum((r.>θ).&(t.>θ)) / sum((r.>θ).|(t.>θ)), NT,\n",
    "N_lat, W_init, (N_latent, N) -> Float64.(rand(N_latent, N) .< 2. /N), τ_d_init, τ_s_init; n_test=25);"
   ]
  },
  {
   "cell_type": "code",
   "execution_count": 11,
   "metadata": {},
   "outputs": [],
   "source": [
    "bench_20 = benchmark(cfg::Config, 0., TM, \"Well Tempered Clavier/Preludes/\",\n",
    "(r,t;θ=.5) -> sum((r.>θ).&(t.>θ)) / sum((r.>θ).|(t.>θ)), NT,\n",
    "N_out->20, W_init, B_init, τ_d_init, τ_s_init; n_test=25);"
   ]
  },
  {
   "cell_type": "code",
   "execution_count": 12,
   "metadata": {},
   "outputs": [],
   "source": [
    "bench_50 = benchmark(cfg::Config, 0., TM, \"Well Tempered Clavier/Preludes/\",\n",
    "(r,t;θ=.5) -> sum((r.>θ).&(t.>θ)) / sum((r.>θ).|(t.>θ)), NT,\n",
    "N_out->50, W_init, B_init, τ_d_init, τ_s_init; n_test=25);"
   ]
  },
  {
   "cell_type": "code",
   "execution_count": 13,
   "metadata": {},
   "outputs": [],
   "source": [
    "bench_100 = benchmark(cfg::Config, 0., TM, \"Well Tempered Clavier/Preludes/\",\n",
    "(r,t;θ=.5) -> sum((r.>θ).&(t.>θ)) / sum((r.>θ).|(t.>θ)), NT,\n",
    "N_out->100, W_init, B_init, τ_d_init, τ_s_init; n_test=25);"
   ]
  },
  {
   "cell_type": "code",
   "execution_count": 14,
   "metadata": {},
   "outputs": [],
   "source": [
    "bench_200 = benchmark(cfg::Config, 0., TM, \"Well Tempered Clavier/Preludes/\",\n",
    "(r,t;θ=.5) -> sum((r.>θ).&(t.>θ)) / sum((r.>θ).|(t.>θ)), NT,\n",
    "N_out->200, W_init, B_init, τ_d_init, τ_s_init; n_test=25);"
   ]
  },
  {
   "cell_type": "code",
   "execution_count": 15,
   "metadata": {},
   "outputs": [],
   "source": [
    "bench_300 = benchmark(cfg::Config, 0., TM, \"Well Tempered Clavier/Preludes/\",\n",
    "(r,t;θ=.5) -> sum((r.>θ).&(t.>θ)) / sum((r.>θ).|(t.>θ)), NT,\n",
    "N_out->300, W_init, B_init, τ_d_init, τ_s_init; n_test=25);"
   ]
  },
  {
   "cell_type": "code",
   "execution_count": 16,
   "metadata": {},
   "outputs": [
    {
     "data": {
      "text/html": [
       "<table>\n",
       "  <thead>\n",
       "    <tr class = \"header headerLastRow\">\n",
       "      <th style = \"text-align: right;\">File</th>\n",
       "      <th style = \"text-align: right;\">Classic</th>\n",
       "      <th style = \"text-align: right;\">Fixed</th>\n",
       "      <th style = \"text-align: right;\">dout=1</th>\n",
       "      <th style = \"text-align: right;\">dout=2</th>\n",
       "      <th style = \"text-align: right;\">20 lat</th>\n",
       "      <th style = \"text-align: right;\">50 lat</th>\n",
       "      <th style = \"text-align: right;\">100 lat</th>\n",
       "      <th style = \"text-align: right;\">200 lat</th>\n",
       "      <th style = \"text-align: right;\">300 lat</th>\n",
       "    </tr>\n",
       "  </thead>\n",
       "  <tbody>\n",
       "    <tr>\n",
       "      <td style = \"text-align: right;\">Prelude8.mid</td>\n",
       "      <td style = \"text-align: right;\">0.836466</td>\n",
       "      <td style = \"text-align: right;\">0.59625</td>\n",
       "      <td style = \"text-align: right;\">0.806391</td>\n",
       "      <td style = \"text-align: right;\">0.737918</td>\n",
       "      <td style = \"text-align: right;\">0.780075</td>\n",
       "      <td style = \"text-align: right;\">0.658135</td>\n",
       "      <td style = \"text-align: right;\">0.866419</td>\n",
       "      <td style = \"text-align: right;\">0.61</td>\n",
       "      <td style = \"text-align: right;\">0.831481</td>\n",
       "    </tr>\n",
       "    <tr>\n",
       "      <td style = \"text-align: right;\">Prelude23.mid</td>\n",
       "      <td style = \"text-align: right;\">0.7664</td>\n",
       "      <td style = \"text-align: right;\">0.638066</td>\n",
       "      <td style = \"text-align: right;\">0.742176</td>\n",
       "      <td style = \"text-align: right;\">0.875</td>\n",
       "      <td style = \"text-align: right;\">0.661538</td>\n",
       "      <td style = \"text-align: right;\">0.763693</td>\n",
       "      <td style = \"text-align: right;\">0.914474</td>\n",
       "      <td style = \"text-align: right;\">0.888889</td>\n",
       "      <td style = \"text-align: right;\">0.838762</td>\n",
       "    </tr>\n",
       "    <tr>\n",
       "      <td style = \"text-align: right;\">Prelude19.mid</td>\n",
       "      <td style = \"text-align: right;\">missing</td>\n",
       "      <td style = \"text-align: right;\">missing</td>\n",
       "      <td style = \"text-align: right;\">missing</td>\n",
       "      <td style = \"text-align: right;\">missing</td>\n",
       "      <td style = \"text-align: right;\">missing</td>\n",
       "      <td style = \"text-align: right;\">missing</td>\n",
       "      <td style = \"text-align: right;\">missing</td>\n",
       "      <td style = \"text-align: right;\">missing</td>\n",
       "      <td style = \"text-align: right;\">missing</td>\n",
       "    </tr>\n",
       "    <tr>\n",
       "      <td style = \"text-align: right;\">Prelude21.mid</td>\n",
       "      <td style = \"text-align: right;\">0.886574</td>\n",
       "      <td style = \"text-align: right;\">0.959135</td>\n",
       "      <td style = \"text-align: right;\">0.895981</td>\n",
       "      <td style = \"text-align: right;\">0.963768</td>\n",
       "      <td style = \"text-align: right;\">0.428312</td>\n",
       "      <td style = \"text-align: right;\">0.892774</td>\n",
       "      <td style = \"text-align: right;\">0.930456</td>\n",
       "      <td style = \"text-align: right;\">0.956835</td>\n",
       "      <td style = \"text-align: right;\">0.9</td>\n",
       "    </tr>\n",
       "    <tr>\n",
       "      <td style = \"text-align: right;\">Prelude18.mid</td>\n",
       "      <td style = \"text-align: right;\">0.904762</td>\n",
       "      <td style = \"text-align: right;\">0.881129</td>\n",
       "      <td style = \"text-align: right;\">0.769553</td>\n",
       "      <td style = \"text-align: right;\">0.915408</td>\n",
       "      <td style = \"text-align: right;\">0.80086</td>\n",
       "      <td style = \"text-align: right;\">0.796586</td>\n",
       "      <td style = \"text-align: right;\">0.938462</td>\n",
       "      <td style = \"text-align: right;\">0.865217</td>\n",
       "      <td style = \"text-align: right;\">0.912387</td>\n",
       "    </tr>\n",
       "    <tr>\n",
       "      <td style = \"text-align: right;\">Prelude4.mid</td>\n",
       "      <td style = \"text-align: right;\">0.945993</td>\n",
       "      <td style = \"text-align: right;\">0.938671</td>\n",
       "      <td style = \"text-align: right;\">0.93686</td>\n",
       "      <td style = \"text-align: right;\">0.960276</td>\n",
       "      <td style = \"text-align: right;\">0.840442</td>\n",
       "      <td style = \"text-align: right;\">0.953125</td>\n",
       "      <td style = \"text-align: right;\">0.942177</td>\n",
       "      <td style = \"text-align: right;\">0.975567</td>\n",
       "      <td style = \"text-align: right;\">0.972028</td>\n",
       "    </tr>\n",
       "    <tr>\n",
       "      <td style = \"text-align: right;\">Prelude9.mid</td>\n",
       "      <td style = \"text-align: right;\">0.967626</td>\n",
       "      <td style = \"text-align: right;\">0.967684</td>\n",
       "      <td style = \"text-align: right;\">0.904348</td>\n",
       "      <td style = \"text-align: right;\">0.965889</td>\n",
       "      <td style = \"text-align: right;\">0.850847</td>\n",
       "      <td style = \"text-align: right;\">0.896014</td>\n",
       "      <td style = \"text-align: right;\">0.851852</td>\n",
       "      <td style = \"text-align: right;\">0.960503</td>\n",
       "      <td style = \"text-align: right;\">0.965827</td>\n",
       "    </tr>\n",
       "    <tr>\n",
       "      <td style = \"text-align: right;\">Prelude20.mid</td>\n",
       "      <td style = \"text-align: right;\">missing</td>\n",
       "      <td style = \"text-align: right;\">missing</td>\n",
       "      <td style = \"text-align: right;\">missing</td>\n",
       "      <td style = \"text-align: right;\">missing</td>\n",
       "      <td style = \"text-align: right;\">missing</td>\n",
       "      <td style = \"text-align: right;\">missing</td>\n",
       "      <td style = \"text-align: right;\">missing</td>\n",
       "      <td style = \"text-align: right;\">missing</td>\n",
       "      <td style = \"text-align: right;\">missing</td>\n",
       "    </tr>\n",
       "    <tr>\n",
       "      <td style = \"text-align: right;\">Prelude3.mid</td>\n",
       "      <td style = \"text-align: right;\">0.790043</td>\n",
       "      <td style = \"text-align: right;\">0.33871</td>\n",
       "      <td style = \"text-align: right;\">0.321368</td>\n",
       "      <td style = \"text-align: right;\">0.630435</td>\n",
       "      <td style = \"text-align: right;\">0.704255</td>\n",
       "      <td style = \"text-align: right;\">0.575472</td>\n",
       "      <td style = \"text-align: right;\">0.910165</td>\n",
       "      <td style = \"text-align: right;\">0.523723</td>\n",
       "      <td style = \"text-align: right;\">0.690722</td>\n",
       "    </tr>\n",
       "    <tr>\n",
       "      <td style = \"text-align: right;\">Prelude5.mid</td>\n",
       "      <td style = \"text-align: right;\">0.86646</td>\n",
       "      <td style = \"text-align: right;\">0.812883</td>\n",
       "      <td style = \"text-align: right;\">0.853293</td>\n",
       "      <td style = \"text-align: right;\">0.880734</td>\n",
       "      <td style = \"text-align: right;\">0.0660661</td>\n",
       "      <td style = \"text-align: right;\">0.723529</td>\n",
       "      <td style = \"text-align: right;\">0.901587</td>\n",
       "      <td style = \"text-align: right;\">0.471883</td>\n",
       "      <td style = \"text-align: right;\">0.564103</td>\n",
       "    </tr>\n",
       "    <tr>\n",
       "      <td style = \"text-align: right;\">Prelude17.mid</td>\n",
       "      <td style = \"text-align: right;\">0.890698</td>\n",
       "      <td style = \"text-align: right;\">0.931116</td>\n",
       "      <td style = \"text-align: right;\">0.839644</td>\n",
       "      <td style = \"text-align: right;\">0.933014</td>\n",
       "      <td style = \"text-align: right;\">0.808791</td>\n",
       "      <td style = \"text-align: right;\">0.827133</td>\n",
       "      <td style = \"text-align: right;\">0.889908</td>\n",
       "      <td style = \"text-align: right;\">0.933333</td>\n",
       "      <td style = \"text-align: right;\">0.865909</td>\n",
       "    </tr>\n",
       "    <tr>\n",
       "      <td style = \"text-align: right;\">Prelude1.mid</td>\n",
       "      <td style = \"text-align: right;\">0.889113</td>\n",
       "      <td style = \"text-align: right;\">0.772467</td>\n",
       "      <td style = \"text-align: right;\">0.689266</td>\n",
       "      <td style = \"text-align: right;\">0.630551</td>\n",
       "      <td style = \"text-align: right;\">0.513793</td>\n",
       "      <td style = \"text-align: right;\">0.823077</td>\n",
       "      <td style = \"text-align: right;\">0.77963</td>\n",
       "      <td style = \"text-align: right;\">0.865759</td>\n",
       "      <td style = \"text-align: right;\">0.818713</td>\n",
       "    </tr>\n",
       "    <tr>\n",
       "      <td style = \"text-align: right;\">Prelude24.mid</td>\n",
       "      <td style = \"text-align: right;\">missing</td>\n",
       "      <td style = \"text-align: right;\">missing</td>\n",
       "      <td style = \"text-align: right;\">missing</td>\n",
       "      <td style = \"text-align: right;\">missing</td>\n",
       "      <td style = \"text-align: right;\">missing</td>\n",
       "      <td style = \"text-align: right;\">missing</td>\n",
       "      <td style = \"text-align: right;\">missing</td>\n",
       "      <td style = \"text-align: right;\">missing</td>\n",
       "      <td style = \"text-align: right;\">missing</td>\n",
       "    </tr>\n",
       "    <tr>\n",
       "      <td style = \"text-align: right;\">Prelude12.mid</td>\n",
       "      <td style = \"text-align: right;\">0.884521</td>\n",
       "      <td style = \"text-align: right;\">0.933584</td>\n",
       "      <td style = \"text-align: right;\">0.811005</td>\n",
       "      <td style = \"text-align: right;\">0.926342</td>\n",
       "      <td style = \"text-align: right;\">0.800948</td>\n",
       "      <td style = \"text-align: right;\">0.817751</td>\n",
       "      <td style = \"text-align: right;\">0.928661</td>\n",
       "      <td style = \"text-align: right;\">0.877778</td>\n",
       "      <td style = \"text-align: right;\">0.91677</td>\n",
       "    </tr>\n",
       "    <tr>\n",
       "      <td style = \"text-align: right;\">Prelude7.mid</td>\n",
       "      <td style = \"text-align: right;\">0.826152</td>\n",
       "      <td style = \"text-align: right;\">0.897833</td>\n",
       "      <td style = \"text-align: right;\">0.902669</td>\n",
       "      <td style = \"text-align: right;\">0.934921</td>\n",
       "      <td style = \"text-align: right;\">0.838906</td>\n",
       "      <td style = \"text-align: right;\">0.889062</td>\n",
       "      <td style = \"text-align: right;\">0.880249</td>\n",
       "      <td style = \"text-align: right;\">0.942029</td>\n",
       "      <td style = \"text-align: right;\">0.894819</td>\n",
       "    </tr>\n",
       "    <tr>\n",
       "      <td style = \"text-align: right;\">Prelude13.mid</td>\n",
       "      <td style = \"text-align: right;\">missing</td>\n",
       "      <td style = \"text-align: right;\">missing</td>\n",
       "      <td style = \"text-align: right;\">missing</td>\n",
       "      <td style = \"text-align: right;\">missing</td>\n",
       "      <td style = \"text-align: right;\">missing</td>\n",
       "      <td style = \"text-align: right;\">missing</td>\n",
       "      <td style = \"text-align: right;\">missing</td>\n",
       "      <td style = \"text-align: right;\">missing</td>\n",
       "      <td style = \"text-align: right;\">missing</td>\n",
       "    </tr>\n",
       "    <tr>\n",
       "      <td style = \"text-align: right;\">Prelude14.mid</td>\n",
       "      <td style = \"text-align: right;\">missing</td>\n",
       "      <td style = \"text-align: right;\">missing</td>\n",
       "      <td style = \"text-align: right;\">missing</td>\n",
       "      <td style = \"text-align: right;\">missing</td>\n",
       "      <td style = \"text-align: right;\">missing</td>\n",
       "      <td style = \"text-align: right;\">missing</td>\n",
       "      <td style = \"text-align: right;\">missing</td>\n",
       "      <td style = \"text-align: right;\">missing</td>\n",
       "      <td style = \"text-align: right;\">missing</td>\n",
       "    </tr>\n",
       "    <tr>\n",
       "      <td style = \"text-align: right;\">Prelude15.mid</td>\n",
       "      <td style = \"text-align: right;\">missing</td>\n",
       "      <td style = \"text-align: right;\">missing</td>\n",
       "      <td style = \"text-align: right;\">missing</td>\n",
       "      <td style = \"text-align: right;\">missing</td>\n",
       "      <td style = \"text-align: right;\">missing</td>\n",
       "      <td style = \"text-align: right;\">missing</td>\n",
       "      <td style = \"text-align: right;\">missing</td>\n",
       "      <td style = \"text-align: right;\">missing</td>\n",
       "      <td style = \"text-align: right;\">missing</td>\n",
       "    </tr>\n",
       "    <tr>\n",
       "      <td style = \"text-align: right;\">Prelude22.mid</td>\n",
       "      <td style = \"text-align: right;\">missing</td>\n",
       "      <td style = \"text-align: right;\">missing</td>\n",
       "      <td style = \"text-align: right;\">missing</td>\n",
       "      <td style = \"text-align: right;\">missing</td>\n",
       "      <td style = \"text-align: right;\">missing</td>\n",
       "      <td style = \"text-align: right;\">missing</td>\n",
       "      <td style = \"text-align: right;\">missing</td>\n",
       "      <td style = \"text-align: right;\">missing</td>\n",
       "      <td style = \"text-align: right;\">missing</td>\n",
       "    </tr>\n",
       "    <tr>\n",
       "      <td style = \"text-align: right;\">Prelude11.mid</td>\n",
       "      <td style = \"text-align: right;\">0.893023</td>\n",
       "      <td style = \"text-align: right;\">0.872437</td>\n",
       "      <td style = \"text-align: right;\">0.672065</td>\n",
       "      <td style = \"text-align: right;\">0.860927</td>\n",
       "      <td style = \"text-align: right;\">0.55106</td>\n",
       "      <td style = \"text-align: right;\">0.691684</td>\n",
       "      <td style = \"text-align: right;\">0.889908</td>\n",
       "      <td style = \"text-align: right;\">0.823913</td>\n",
       "      <td style = \"text-align: right;\">0.768018</td>\n",
       "    </tr>\n",
       "    <tr>\n",
       "      <td style = \"text-align: right;\">Prelude16.mid</td>\n",
       "      <td style = \"text-align: right;\">0.832095</td>\n",
       "      <td style = \"text-align: right;\">0.800587</td>\n",
       "      <td style = \"text-align: right;\">0.518193</td>\n",
       "      <td style = \"text-align: right;\">0.807299</td>\n",
       "      <td style = \"text-align: right;\">0.448</td>\n",
       "      <td style = \"text-align: right;\">0.766176</td>\n",
       "      <td style = \"text-align: right;\">0.615085</td>\n",
       "      <td style = \"text-align: right;\">0.66156</td>\n",
       "      <td style = \"text-align: right;\">0.676162</td>\n",
       "    </tr>\n",
       "    <tr>\n",
       "      <td style = \"text-align: right;\">Prelude10.mid</td>\n",
       "      <td style = \"text-align: right;\">0.430686</td>\n",
       "      <td style = \"text-align: right;\">0.849123</td>\n",
       "      <td style = \"text-align: right;\">0.49925</td>\n",
       "      <td style = \"text-align: right;\">0.769748</td>\n",
       "      <td style = \"text-align: right;\">0.60181</td>\n",
       "      <td style = \"text-align: right;\">0.44473</td>\n",
       "      <td style = \"text-align: right;\">0.469444</td>\n",
       "      <td style = \"text-align: right;\">0.898778</td>\n",
       "      <td style = \"text-align: right;\">0.897297</td>\n",
       "    </tr>\n",
       "    <tr>\n",
       "      <td style = \"text-align: right;\">Prelude2.mid</td>\n",
       "      <td style = \"text-align: right;\">0.553429</td>\n",
       "      <td style = \"text-align: right;\">0.345652</td>\n",
       "      <td style = \"text-align: right;\">0.566724</td>\n",
       "      <td style = \"text-align: right;\">0.826281</td>\n",
       "      <td style = \"text-align: right;\">0.371711</td>\n",
       "      <td style = \"text-align: right;\">0.486239</td>\n",
       "      <td style = \"text-align: right;\">0.633136</td>\n",
       "      <td style = \"text-align: right;\">0.820755</td>\n",
       "      <td style = \"text-align: right;\">0.661417</td>\n",
       "    </tr>\n",
       "    <tr>\n",
       "      <td style = \"text-align: right;\">Prelude6.mid</td>\n",
       "      <td style = \"text-align: right;\">0.561576</td>\n",
       "      <td style = \"text-align: right;\">0.695522</td>\n",
       "      <td style = \"text-align: right;\">0.288945</td>\n",
       "      <td style = \"text-align: right;\">0.548851</td>\n",
       "      <td style = \"text-align: right;\">0.264423</td>\n",
       "      <td style = \"text-align: right;\">0.165067</td>\n",
       "      <td style = \"text-align: right;\">0.370482</td>\n",
       "      <td style = \"text-align: right;\">0.357143</td>\n",
       "      <td style = \"text-align: right;\">0.788779</td>\n",
       "    </tr>\n",
       "  </tbody>\n",
       "</table>\n"
      ],
      "text/plain": [
       "HTML{String}(\"<table>\\n  <thead>\\n    <tr class = \\\"header headerLastRow\\\">\\n      <th style = \\\"text-align: right;\\\">File</th>\\n      <th style = \\\"text-align: right;\\\">Classic</th>\\n      <th style = \\\"text-align: right;\\\">Fixed</th>\\n      <th style = \\\"text-align: right;\\\">dout=1</th>\\n      <th style = \\\"text-align: right;\\\">dout=2</th>\\n      <th style = \\\"text-align: right;\\\">20 lat</th>\\n      <th style = \\\"text-align: right;\\\">50 lat</th>\\n      <th style = \\\"text-align: right;\\\">100 lat</th>\\n      <th style = \\\"text-align: right;\\\">200 lat</th>\\n      <th style = \\\"text-align: right;\\\">300 lat</th>\\n    </tr>\\n  </thead>\\n  <tbody>\\n    <tr>\\n      <td style = \\\"text-align: right;\\\">Prelude8.mid</td>\\n      <td style = \\\"text-align: right;\\\">0.836466</td>\\n      <td style = \\\"text-align: right;\\\">0.59625</td>\\n      <td style = \\\"text-align: right;\\\">0.806391</td>\\n      <td style = \\\"text-align: right;\\\">0.737918</td>\\n      <td style = \\\"text-align: right;\\\">0.780075</td>\\n      <td style = \\\"text-align: right;\\\">0.658135</td>\\n      <td style = \\\"text-align: right;\\\">0.866419</td>\\n      <td style = \\\"text-align: right;\\\">0.61</td>\\n      <td style = \\\"text-align: right;\\\">0.831481</td>\\n    </tr>\\n    <tr>\\n      <td style = \\\"text-align: right;\\\">Prelude23.mid</td>\\n      <td style = \\\"text-align: right;\\\">0.7664</td>\\n      <td style = \\\"text-align: right;\\\">0.638066</td>\\n      <td style = \\\"text-align: right;\\\">0.742176</td>\\n      <td style = \\\"text-align: right;\\\">0.875</td>\\n      <td style = \\\"text-align: right;\\\">0.661538</td>\\n      <td style = \\\"text-align: right;\\\">0.763693</td>\\n      <td style = \\\"text-align: right;\\\">0.914474</td>\\n      <td style = \\\"text-align: right;\\\">0.888889</td>\\n      <td style = \\\"text-align: right;\\\">0.838762</td>\\n    </tr>\\n    <tr>\\n      <td style = \\\"text-align: right;\\\">Prelude19.mid</td>\\n      <td style = \\\"text-align: right;\\\">missing</td>\\n      <td style = \\\"text-align: right;\\\">missing</td>\\n      <td style = \\\"text-align: right;\\\">missing</td>\\n      <td style = \\\"text-align: right;\\\">missing</td>\\n      <td style = \\\"text-align: right;\\\">missing</td>\\n      <td style = \\\"text-align: right;\\\">missing</td>\\n      <td style = \\\"text-align: right;\\\">missing</td>\\n      <td style = \\\"text-align: right;\\\">missing</td>\\n      <td style = \\\"text-align: right;\\\">missing</td>\\n    </tr>\\n    <tr>\\n      <td style = \\\"text-align: right;\\\">Prelude21.mid</td>\\n      <td style = \\\"text-align: right;\\\">0.886574</td>\\n      <td style = \\\"text-align: right;\\\">0.959135</td>\\n      <td style = \\\"text-align: right;\\\">0.895981</td>\\n      <td style = \\\"text-align: right;\\\">0.963768</td>\\n      <td style = \\\"text-align: right;\\\">0.428312</td>\\n      <td style = \\\"text-align: right;\\\">0.892774</td>\\n      <td style = \\\"text-align: right;\\\">0.930456</td>\\n      <td style = \\\"text-align: right;\\\">0.956835</td>\\n      <td style = \\\"text-align: right;\\\">0.9</td>\\n    </tr>\\n    <tr>\\n      <td style = \\\"text-align: right;\\\">Prelude18.mid</td>\\n      <td style = \\\"text-align: right;\\\">0.904762</td>\\n      <td style = \\\"text-align: right;\\\">0.881129</td>\\n      <td style = \\\"text-align: right;\\\">0.769553</td>\\n      <td style = \\\"text-align: right;\\\">0.915408</td>\\n      <td style = \\\"text-align: right;\\\">0.80086</td>\\n      <td style = \\\"text-align: right;\\\">0.796586</td>\\n      <td style = \\\"text-align: right;\\\">0.938462</td>\\n      <td style = \\\"text-align: right;\\\">0.865217</td>\\n      <td style = \\\"text-align: right;\\\">0.912387</td>\\n    </tr>\\n    <tr>\\n      <td style = \\\"text-align: right;\\\">Prelude4.mid</td>\\n      <td style = \\\"text-align: right;\\\">0.945993</td>\\n      <td style = \\\"text-align: right;\\\">0.938671</td>\\n      <td style = \\\"text-align: right;\\\">0.93686</td>\\n      <td style = \\\"text-align: right;\\\">0.960276</td>\\n      <td style = \\\"text-align: right;\\\">0.840442</td>\\n      <td style = \\\"text-align: right;\\\">0.953125</td>\\n      <td style = \\\"text-align: right;\\\">0.942177</td>\\n      <td style = \\\"text-align: right;\\\">0.975567</td>\\n      <td style = \\\"text-align: right;\\\">0.972028</td>\\n    </tr>\\n    <tr>\\n      <td style = \\\"text-align: right;\\\">Prelude9.mid</td>\\n      <td style = \\\"text-align: right;\\\">0.967626</td>\\n      <td style = \\\"text-align: right;\\\">0.967684</td>\\n      <td style = \\\"text-align: right;\\\">0.904348</td>\\n      <td style = \\\"text-align: right;\\\">0.965889</td>\\n      <td style = \\\"text-align: right;\\\">0.850847</td>\\n      <td style = \\\"text-align: right;\\\">0.896014</td>\\n      <td style = \\\"text-align: right;\\\">0.851852</td>\\n      <td style = \\\"text-align: right;\\\">0.960503</td>\\n      <td style = \\\"text-align: right;\\\">0.965827</td>\\n    </tr>\\n    <tr>\\n      <td style = \\\"text-align: right;\\\">Prelude20.mid</td>\\n      <td style = \\\"text-align: right;\\\">missing</td>\\n      <td style = \\\"text-align: right;\\\">missing</td>\\n      <td style = \\\"text-align: right;\\\">missing</td>\\n      <td style = \\\"text-align: right;\\\">missing</td>\\n      <td style = \\\"text-align: right;\\\">missing</td>\\n      <td style = \\\"text-align: right;\\\">missing</td>\\n      <td style = \\\"text-align: right;\\\">missing</td>\\n      <td style = \\\"text-align: right;\\\">missing</td>\\n      <td style = \\\"text-align: right;\\\">missing</td>\\n    </tr>\\n    <tr>\\n      <td style = \\\"text-align: right;\\\">Prelude3.mid</td>\\n      <td style = \\\"text-align: right;\\\">0.790043</td>\\n      <td style = \\\"text-align: right;\\\">0.33871</td>\\n      <td style = \\\"text-align: right;\\\">0.321368</td>\\n      <td style = \\\"text-align: right;\\\">0.630435</td>\\n      <td style = \\\"text-align: right;\\\">0.704255</td>\\n      <td style = \\\"text-align: right;\\\">0.575472</td>\\n      <td style = \\\"text-align: right;\\\">0.910165</td>\\n      <td style = \\\"text-align: right;\\\">0.523723</td>\\n      <td style = \\\"text-align: right;\\\">0.690722</td>\\n    </tr>\\n    <tr>\\n      <td style = \\\"text-align: right;\\\">Prelude5.mid</td>\\n      <td style = \\\"text-align: right;\\\">0.86646</td>\\n      <td style = \\\"text-align: right;\\\">0.812883</td>\\n      <td style = \\\"text-align: right;\\\">0.853293</td>\\n      <td style = \\\"text-align: right;\\\">0.880734</td>\\n      <td style = \\\"text-align: right;\\\">0.0660661</td>\\n      <td style = \\\"text-align: right;\\\">0.723529</td>\\n      <td style = \\\"text-align: right;\\\">0.901587</td>\\n      <td style = \\\"text-align: right;\\\">0.471883</td>\\n      <td style = \\\"text-align: right;\\\">0.564103</td>\\n    </tr>\\n    <tr>\\n      <td style = \\\"text-align: right;\\\">Prelude17.mid</td>\\n      <td style = \\\"text-align: right;\\\">0.890698</td>\\n      <td style = \\\"text-align: right;\\\">0.931116</td>\\n      <td style = \\\"text-align: right;\\\">0.839644</td>\\n      <td style = \\\"text-align: right;\\\">0.933014</td>\\n      <td style = \\\"text-align: right;\\\">0.808791</td>\\n      <td style = \\\"text-align: right;\\\">0.827133</td>\\n      <td style = \\\"text-align: right;\\\">0.889908</td>\\n      <td style = \\\"text-align: right;\\\">0.933333</td>\\n      <td style = \\\"text-align: right;\\\">0.865909</td>\\n    </tr>\\n    <tr>\\n      <td style = \\\"text-align: right;\\\">Prelude1.mid</td>\\n      <td style = \\\"text-align: right;\\\">0.889113</td>\\n      <td style = \\\"text-align: right;\\\">0.772467</td>\\n      <td style = \\\"text-align: right;\\\">0.689266</td>\\n      <td style = \\\"text-align: right;\\\">0.630551</td>\\n      <td style = \\\"text-align: right;\\\">0.513793</td>\\n      <td style = \\\"text-align: right;\\\">0.823077</td>\\n      <td style = \\\"text-align: right;\\\">0.77963</td>\\n      <td style = \\\"text-align: right;\\\">0.865759</td>\\n      <td style = \\\"text-align: right;\\\">0.818713</td>\\n    </tr>\\n    <tr>\\n      <td style = \\\"text-align: right;\\\">Prelude24.mid</td>\\n      <td style = \\\"text-align: right;\\\">missing</td>\\n      <td style = \\\"text-align: right;\\\">missing</td>\\n      <td style = \\\"text-align: right;\\\">missing</td>\\n      <td style = \\\"text-align: right;\\\">missing</td>\\n      <td style = \\\"text-align: right;\\\">missing</td>\\n      <td style = \\\"text-align: right;\\\">missing</td>\\n      <td style = \\\"text-align: right;\\\">missing</td>\\n      <td style = \\\"text-align: right;\\\">missing</td>\\n      <td style = \\\"text-align: right;\\\">missing</td>\\n    </tr>\\n    <tr>\\n      <td style = \\\"text-align: right;\\\">Prelude12.mid</td>\\n      <td style = \\\"text-align: right;\\\">0.884521</td>\\n      <td style = \\\"text-align: right;\\\">0.933584</td>\\n      <td style = \\\"text-align: right;\\\">0.811005</td>\\n      <td style = \\\"text-align: right;\\\">0.926342</td>\\n      <td style = \\\"text-align: right;\\\">0.800948</td>\\n      <td style = \\\"text-align: right;\\\">0.817751</td>\\n      <td style = \\\"text-align: right;\\\">0.928661</td>\\n      <td style = \\\"text-align: right;\\\">0.877778</td>\\n      <td style = \\\"text-align: right;\\\">0.91677</td>\\n    </tr>\\n    <tr>\\n      <td style = \\\"text-align: right;\\\">Prelude7.mid</td>\\n      <td style = \\\"text-align: right;\\\">0.826152</td>\\n      <td style = \\\"text-align: right;\\\">0.897833</td>\\n      <td style = \\\"text-align: right;\\\">0.902669</td>\\n      <td style = \\\"text-align: right;\\\">0.934921</td>\\n      <td style = \\\"text-align: right;\\\">0.838906</td>\\n      <td style = \\\"text-align: right;\\\">0.889062</td>\\n      <td style = \\\"text-align: right;\\\">0.880249</td>\\n      <td style = \\\"text-align: right;\\\">0.942029</td>\\n      <td style = \\\"text-align: right;\\\">0.894819</td>\\n    </tr>\\n    <tr>\\n      <td style = \\\"text-align: right;\\\">Prelude13.mid</td>\\n      <td style = \\\"text-align: right;\\\">missing</td>\\n      <td style = \\\"text-align: right;\\\">missing</td>\\n      <td style = \\\"text-align: right;\\\">missing</td>\\n      <td style = \\\"text-align: right;\\\">missing</td>\\n      <td style = \\\"text-align: right;\\\">missing</td>\\n      <td style = \\\"text-align: right;\\\">missing</td>\\n      <td style = \\\"text-align: right;\\\">missing</td>\\n      <td style = \\\"text-align: right;\\\">missing</td>\\n      <td style = \\\"text-align: right;\\\">missing</td>\\n    </tr>\\n    <tr>\\n      <td style = \\\"text-align: right;\\\">Prelude14.mid</td>\\n      <td style = \\\"text-align: right;\\\">missing</td>\\n      <td style = \\\"text-align: right;\\\">missing</td>\\n      <td style = \\\"text-align: right;\\\">missing</td>\\n      <td style = \\\"text-align: right;\\\">missing</td>\\n      <td style = \\\"text-align: right;\\\">missing</td>\\n      <td style = \\\"text-align: right;\\\">missing</td>\\n      <td style = \\\"text-align: right;\\\">missing</td>\\n      <td style = \\\"text-align: right;\\\">missing</td>\\n      <td style = \\\"text-align: right;\\\">missing</td>\\n    </tr>\\n    <tr>\\n      <td style = \\\"text-align: right;\\\">Prelude15.mid</td>\\n      <td style = \\\"text-align: right;\\\">missing</td>\\n      <td style = \\\"text-align: right;\\\">missing</td>\\n      <td style = \\\"text-align: right;\\\">missing</td>\\n      <td style = \\\"text-align: right;\\\">missing</td>\\n      <td style = \\\"text-align: right;\\\">missing</td>\\n      <td style = \\\"text-align: right;\\\">missing</td>\\n      <td style = \\\"text-align: right;\\\">missing</td>\\n      <td style = \\\"text-align: right;\\\">missing</td>\\n      <td style = \\\"text-align: right;\\\">missing</td>\\n    </tr>\\n    <tr>\\n      <td style = \\\"text-align: right;\\\">Prelude22.mid</td>\\n      <td style = \\\"text-align: right;\\\">missing</td>\\n      <td style = \\\"text-align: right;\\\">missing</td>\\n      <td style = \\\"text-align: right;\\\">missing</td>\\n      <td style = \\\"text-align: right;\\\">missing</td>\\n      <td style = \\\"text-align: right;\\\">missing</td>\\n      <td style = \\\"text-align: right;\\\">missing</td>\\n      <td style = \\\"text-align: right;\\\">missing</td>\\n      <td style = \\\"text-align: right;\\\">missing</td>\\n      <td style = \\\"text-align: right;\\\">missing</td>\\n    </tr>\\n    <tr>\\n      <td style = \\\"text-align: right;\\\">Prelude11.mid</td>\\n      <td style = \\\"text-align: right;\\\">0.893023</td>\\n      <td style = \\\"text-align: right;\\\">0.872437</td>\\n      <td style = \\\"text-align: right;\\\">0.672065</td>\\n      <td style = \\\"text-align: right;\\\">0.860927</td>\\n      <td style = \\\"text-align: right;\\\">0.55106</td>\\n      <td style = \\\"text-align: right;\\\">0.691684</td>\\n      <td style = \\\"text-align: right;\\\">0.889908</td>\\n      <td style = \\\"text-align: right;\\\">0.823913</td>\\n      <td style = \\\"text-align: right;\\\">0.768018</td>\\n    </tr>\\n    <tr>\\n      <td style = \\\"text-align: right;\\\">Prelude16.mid</td>\\n      <td style = \\\"text-align: right;\\\">0.832095</td>\\n      <td style = \\\"text-align: right;\\\">0.800587</td>\\n      <td style = \\\"text-align: right;\\\">0.518193</td>\\n      <td style = \\\"text-align: right;\\\">0.807299</td>\\n      <td style = \\\"text-align: right;\\\">0.448</td>\\n      <td style = \\\"text-align: right;\\\">0.766176</td>\\n      <td style = \\\"text-align: right;\\\">0.615085</td>\\n      <td style = \\\"text-align: right;\\\">0.66156</td>\\n      <td style = \\\"text-align: right;\\\">0.676162</td>\\n    </tr>\\n    <tr>\\n      <td style = \\\"text-align: right;\\\">Prelude10.mid</td>\\n      <td style = \\\"text-align: right;\\\">0.430686</td>\\n      <td style = \\\"text-align: right;\\\">0.849123</td>\\n      <td style = \\\"text-align: right;\\\">0.49925</td>\\n      <td style = \\\"text-align: right;\\\">0.769748</td>\\n      <td style = \\\"text-align: right;\\\">0.60181</td>\\n      <td style = \\\"text-align: right;\\\">0.44473</td>\\n      <td style = \\\"text-align: right;\\\">0.469444</td>\\n      <td style = \\\"text-align: right;\\\">0.898778</td>\\n      <td style = \\\"text-align: right;\\\">0.897297</td>\\n    </tr>\\n    <tr>\\n      <td style = \\\"text-align: right;\\\">Prelude2.mid</td>\\n      <td style = \\\"text-align: right;\\\">0.553429</td>\\n      <td style = \\\"text-align: right;\\\">0.345652</td>\\n      <td style = \\\"text-align: right;\\\">0.566724</td>\\n      <td style = \\\"text-align: right;\\\">0.826281</td>\\n      <td style = \\\"text-align: right;\\\">0.371711</td>\\n      <td style = \\\"text-align: right;\\\">0.486239</td>\\n      <td style = \\\"text-align: right;\\\">0.633136</td>\\n      <td style = \\\"text-align: right;\\\">0.820755</td>\\n      <td style = \\\"text-align: right;\\\">0.661417</td>\\n    </tr>\\n    <tr>\\n      <td style = \\\"text-align: right;\\\">Prelude6.mid</td>\\n      <td style = \\\"text-align: right;\\\">0.561576</td>\\n      <td style = \\\"text-align: right;\\\">0.695522</td>\\n      <td style = \\\"text-align: right;\\\">0.288945</td>\\n      <td style = \\\"text-align: right;\\\">0.548851</td>\\n      <td style = \\\"text-align: right;\\\">0.264423</td>\\n      <td style = \\\"text-align: right;\\\">0.165067</td>\\n      <td style = \\\"text-align: right;\\\">0.370482</td>\\n      <td style = \\\"text-align: right;\\\">0.357143</td>\\n      <td style = \\\"text-align: right;\\\">0.788779</td>\\n    </tr>\\n  </tbody>\\n</table>\\n\")"
      ]
     },
     "metadata": {},
     "output_type": "display_data"
    }
   ],
   "source": [
    "using PrettyTables\n",
    "data = hcat(collect(keys(bench)),\n",
    "(k->bench[k]).(collect(keys(bench))),\n",
    "(k->bench_fixed[k]).(collect(keys(bench))),\n",
    "(k->bench_dout_1[k]).(collect(keys(bench))),\n",
    "(k->bench_dout_2[k]).(collect(keys(bench))),\n",
    "(k->bench_20[k]).(collect(keys(bench))),\n",
    "(k->bench_50[k]).(collect(keys(bench))),\n",
    "(k->bench_100[k]).(collect(keys(bench))),\n",
    "(k->bench_200[k]).(collect(keys(bench))),\n",
    "(k->bench_300[k]).(collect(keys(bench))),\n",
    ")\n",
    "pretty_table(HTML, data; header=[\"File\", \"Classic\", \"Fixed\" ,\"dout=1\", \"dout=2\", \"20 lat\", \"50 lat\", \"100 lat\", \"200 lat\", \"300 lat\"])"
   ]
  },
  {
   "cell_type": "code",
   "execution_count": 17,
   "metadata": {},
   "outputs": [],
   "source": []
  }
 ],
 "metadata": {
  "kernelspec": {
   "display_name": "Julia 1.11.2",
   "language": "julia",
   "name": "julia-1.11"
  },
  "language_info": {
   "file_extension": ".jl",
   "mimetype": "application/julia",
   "name": "julia",
   "version": "1.11.2"
  }
 },
 "nbformat": 4,
 "nbformat_minor": 2
}
