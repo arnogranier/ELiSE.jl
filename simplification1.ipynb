{
 "cells": [
  {
   "cell_type": "code",
   "execution_count": 2,
   "metadata": {},
   "outputs": [],
   "source": [
    "using Distributions;\n",
    "using Images;"
   ]
  },
  {
   "cell_type": "markdown",
   "metadata": {},
   "source": [
    "---"
   ]
  },
  {
   "cell_type": "code",
   "execution_count": 3,
   "metadata": {},
   "outputs": [],
   "source": [
    "const dt::Float64 = 0.1\n",
    "const N_trials::Int = 4000\n",
    "const T::Int = 100;"
   ]
  },
  {
   "cell_type": "code",
   "execution_count": 4,
   "metadata": {},
   "outputs": [],
   "source": [
    "const N_out::Int = 10\n",
    "const N_latent::Int = 40\n",
    "\n",
    "const N::Int = N_out + N_latent;"
   ]
  },
  {
   "cell_type": "code",
   "execution_count": 5,
   "metadata": {},
   "outputs": [],
   "source": [
    "const M::Float64 = 1.25\n",
    "const θ::Float64 = 0.15;\n",
    "const E_exc::Float64 = 1\n",
    "const E_inh::Float64 = -1\n",
    "const gl::Float64 = 0.1\n",
    "const g_den::Float64 = 2.0\n",
    "const g_0::Float64 = 0.3\n",
    "const a::Float64 = 21\n",
    "const b::Float64 = 0.18\n",
    "const delta::Float64 = 25.\n",
    "\n",
    "rho(u) = 1. / (1. + exp(a*(b-u)))\n",
    "\n",
    "d_den::Vector{Float64} = round.(rand(Uniform(5., 15.), N), digits=1)\n",
    "d_som_exc::Vector{Float64} = round.(rand(Uniform(5., 15.), N), digits=1)\n",
    "d_som_inh::Vector{Float64} = d_som_exc .+ delta;"
   ]
  },
  {
   "cell_type": "code",
   "execution_count": 6,
   "metadata": {},
   "outputs": [
    {
     "data": {
      "text/plain": [
       "Normal{Float64}(μ=0.0, σ=0.05)"
      ]
     },
     "metadata": {},
     "output_type": "display_data"
    }
   ],
   "source": [
    "const ηl::Float64 = 0.0001\n",
    "const λ::Float64 = 0.6\n",
    "W_init = Normal(0., 0.05)"
   ]
  },
  {
   "cell_type": "markdown",
   "metadata": {},
   "source": [
    "---"
   ]
  },
  {
   "cell_type": "code",
   "execution_count": 7,
   "metadata": {},
   "outputs": [],
   "source": [
    "const B::Matrix{Float64} = g_0*Float64.(rand(N_latent, N) .< 2/N);"
   ]
  },
  {
   "cell_type": "markdown",
   "metadata": {},
   "source": [
    "---"
   ]
  },
  {
   "cell_type": "code",
   "execution_count": 8,
   "metadata": {},
   "outputs": [],
   "source": [
    "function create_queues!(ds::Vector{Float64})::Vector{Vector{Float64}}\n",
    "    qs = [Vector{Float64}() for _ in 1:N]\n",
    "    initialize!((q,d)) = (x->push!(q,x)).(rho.(zeros(Int(d ÷ dt))))\n",
    "    initialize!.(zip(qs, ds))\n",
    "    return qs\n",
    "end;"
   ]
  },
  {
   "cell_type": "markdown",
   "metadata": {},
   "source": [
    "---"
   ]
  },
  {
   "cell_type": "code",
   "execution_count": 9,
   "metadata": {},
   "outputs": [],
   "source": [
    "function memory!(r::Vector{Float64})\n",
    "    for (q_den, q_exc, q_inh, x) in zip(m_den, m_som_exc, m_som_inh, r)\n",
    "        push!(q_den, x)\n",
    "        push!(q_exc, x)\n",
    "        push!(q_inh, x)\n",
    "    end\n",
    "end;"
   ]
  },
  {
   "cell_type": "code",
   "execution_count": 10,
   "metadata": {},
   "outputs": [],
   "source": [
    "function step!(u::Vector{Float64},u_tgt::Vector{Float64},v::Vector{Float64},rbar::Vector{Float64},W::Matrix{Float64};teacher::Bool=true)\n",
    "    past_den_r = popfirst!.(m_den)\n",
    "    I_den = W * past_den_r\n",
    "    g_exc = B * popfirst!.(m_som_exc)\n",
    "    g_inh = B * popfirst!.(m_som_inh)\n",
    "    effective_alpha_t::Float64 = teacher ? (λ/(1-λ)) * (gl+g_den) : 0.\n",
    "    for i in 1:N_out\n",
    "        @inbounds u[i] += dt* (-(gl+g_den)*u[i] + g_den * v[i] + effective_alpha_t *(u_tgt[i] - u[i]) )\n",
    "    end\n",
    "    for i in N_out+1:N\n",
    "        @inbounds u[i] += dt* (-(gl+g_den)*u[i] + g_den * v[i] + g_exc[i-N_out] * (1. - u[i]) + g_inh[i-N_out] * (-1. - u[i]))\n",
    "    end\n",
    "    for i in 1:N\n",
    "        @inbounds v[i] += dt*(-gl*v[i] + I_den[i])\n",
    "        @inbounds rbar[i] += dt*(-gl*rbar[i] + ((gl*g_den)/(gl+g_den))*past_den_r[i])\n",
    "    end\n",
    "    r = rho.(u)\n",
    "    vstar = rho.((g_den/(gl+g_den))*v)\n",
    "    memory!(r)\n",
    "    for i in 1:N, j in 1:N\n",
    "        @inbounds W[i,j] += dt * ηl *(r[i]-vstar[i])*rbar[j]\n",
    "    end\n",
    "    return nothing;\n",
    "end;"
   ]
  },
  {
   "cell_type": "markdown",
   "metadata": {},
   "source": [
    "On my way to simplification:\n",
    "\n",
    "$$\\dot{v} = -g_l v + W\\rho(u_{t-\\tau_d})$$\n",
    "$$\\dot{u} = -g_l u + g_{d} (v-u) + \\mathbb{1}_{lat}\\left[g_eB \\rho(u_{t-\\tau_e}) \\odot (1-u) + g_iB \\rho(u_{t-\\tau_e-\\delta}) \\odot (-1-u)\\right] +\\mathbb{1}_{out}\\left[\\frac{\\lambda(g_l+g_{d})}{1-\\lambda}(u_{tgt}-u)\\right]$$\n",
    "$$\\dot{\\bar{r}} = -g_l\\bar{r} + \\frac{g_lg_{d}}{g_l+g_{d}} \\rho(u_{t-\\tau_d})$$\n",
    "$$\\dot{W} = \\eta\\left[\\rho(u)-\\rho\\left(\\frac{g_{d}}{g_l+g_{d}} v\\right)\\right]\\bar{r}^T$$"
   ]
  },
  {
   "cell_type": "markdown",
   "metadata": {},
   "source": [
    "---"
   ]
  },
  {
   "cell_type": "code",
   "execution_count": 10,
   "metadata": {},
   "outputs": [
    {
     "data": {
      "text/plain": [
       "train! (generic function with 1 method)"
      ]
     },
     "metadata": {},
     "output_type": "display_data"
    }
   ],
   "source": [
    "function train!(u::Vector{Float64}, v::Vector{Float64}, rbar::Vector{Float64}, W::Matrix{Float64}, target::Function, T::Int, n_trials::Int; test_every::Int=1000, θ::Float64=-60., dt::Float64=0.1)\n",
    "    for trial in 0:n_trials-1\n",
    "        for t in 0:dt:T-dt\n",
    "            step!(u, target(t), v, rbar, W, teacher=true)\n",
    "        end\n",
    "        (trial % test_every == 0) && test!(u, v, rbar, W, T, dt=dt, θ=θ)\n",
    "    end\n",
    "end"
   ]
  },
  {
   "cell_type": "code",
   "execution_count": 11,
   "metadata": {},
   "outputs": [],
   "source": [
    "function test!(u::Vector{Float64}, v::Vector{Float64}, rbar::Vector{Float64}, W::Matrix{Float64}, T::Int; dt::Float64=0.1, θ::Float64=-60)\n",
    "    u_prod = Vector{Vector{Float64}}()\n",
    "    for t in 0:dt:T-dt\n",
    "        step!(u, zeros(N_out), v, rbar, W, teacher=false)\n",
    "        isinteger(t) && push!(u_prod, u[1:N_out])\n",
    "    end\n",
    "    check(vv) = reduce(hcat, vv) .> θ\n",
    "    display(colors[1 .+ 2*check(u_prod) + check([target(t) for t in 0:T-1])])\n",
    "end\n",
    "colors = [colorant\"white\", colorant\"red\", colorant\"cyan\", colorant\"black\"];"
   ]
  },
  {
   "cell_type": "markdown",
   "metadata": {},
   "source": [
    "---"
   ]
  },
  {
   "cell_type": "code",
   "execution_count": 12,
   "metadata": {},
   "outputs": [],
   "source": [
    "v::Vector{Float64} = zeros(N)\n",
    "u::Vector{Float64} = zeros(N)\n",
    "rbar::Vector{Float64} = rho.(u);\n",
    "W::Matrix{Float64} = rand(W_init, N, N);"
   ]
  },
  {
   "cell_type": "code",
   "execution_count": 13,
   "metadata": {},
   "outputs": [],
   "source": [
    "m_den::Vector{Vector{Float64}} = create_queues!(d_den)\n",
    "m_som_exc::Vector{Vector{Float64}} = create_queues!(d_som_exc)\n",
    "m_som_inh::Vector{Vector{Float64}} = create_queues!(d_som_inh);"
   ]
  },
  {
   "cell_type": "code",
   "execution_count": 14,
   "metadata": {},
   "outputs": [
    {
     "data": {
      "text/plain": [
       "target (generic function with 1 method)"
      ]
     },
     "metadata": {},
     "output_type": "display_data"
    }
   ],
   "source": [
    "chords = [rand(N_out).>.75 for j in 1:10]\n",
    "target(t) = M*Float64.(chords[Int(t÷10+1)]);\n",
    "#broadcast.(Gray, (!).(mapreduce(permutedims,vcat,repeat(chords, inner=10))'))"
   ]
  },
  {
   "cell_type": "markdown",
   "metadata": {},
   "source": [
    "---"
   ]
  },
  {
   "cell_type": "code",
   "execution_count": 15,
   "metadata": {},
   "outputs": [
    {
     "data": {
      "image/png": "[encoded data removed]",
      "text/html": [
       "<img src=\"data:image/png;base64,iVBORw0KGgoAAAANSUhEUgAAAZAAAAAoCAIAAABfMzs3AAAABGdBTUEAALGPC/xhBQAAAAFzUkdCAK7OHOkAAAAgY0hSTQAAeiYAAICEAAD6AAAAgOgAAHUwAADqYAAAOpgAABdwnLpRPAAAAQdJREFUeAHtwVFqw1AQBMFemPtfefIfDCYQ+Xmlrgot0l2Uh5nhiJYTgiQtESRpiSBJS6Rok0G/lQdreWe4VvmcIElLBElaIkjSEkGrFH2lGY5oeafcR5CkJYIkLREkaYkgXWGGI1peGS7WousFSVoiSNISQZKWCDPoA1oepeWIGV4pF2vR9YIkLREkaYkgSUtkWqTbaNEe5W+CJC0RJGmJIElLpEg3MsMRLUfM8CRBkpYIkrREkKQlwgxHtBwxwxEtguFiLf+tfLGWJwmStESQpCWCJC0RWh6lReeUm5rhiJYjZjghSNISQZKWCJK0RIZDZjiiRbqj8kEtJwRJWiJI0hJBkpb4Abu0NomuKHu9AAAAAElFTkSuQmCC\">"
      ],
      "text/plain": [
       "10×100 Matrix{RGB{N0f8}}:\n",
       " RGB(0.0, 1.0, 1.0)  RGB(0.0, 1.0, 1.0)  …  RGB(1.0, 1.0, 1.0)\n",
       " RGB(1.0, 1.0, 1.0)  RGB(1.0, 1.0, 1.0)     RGB(1.0, 1.0, 1.0)\n",
       " RGB(1.0, 1.0, 1.0)  RGB(1.0, 1.0, 1.0)     RGB(1.0, 1.0, 1.0)\n",
       " RGB(1.0, 1.0, 1.0)  RGB(1.0, 1.0, 1.0)     RGB(0.0, 1.0, 1.0)\n",
       " RGB(1.0, 0.0, 0.0)  RGB(1.0, 0.0, 0.0)     RGB(1.0, 1.0, 1.0)\n",
       " RGB(0.0, 1.0, 1.0)  RGB(0.0, 1.0, 1.0)  …  RGB(1.0, 1.0, 1.0)\n",
       " RGB(1.0, 1.0, 1.0)  RGB(1.0, 1.0, 1.0)     RGB(1.0, 0.0, 0.0)\n",
       " RGB(1.0, 0.0, 0.0)  RGB(1.0, 0.0, 0.0)     RGB(1.0, 1.0, 1.0)\n",
       " RGB(1.0, 1.0, 1.0)  RGB(1.0, 1.0, 1.0)     RGB(1.0, 0.0, 0.0)\n",
       " RGB(0.0, 1.0, 1.0)  RGB(0.0, 1.0, 1.0)     RGB(1.0, 1.0, 1.0)"
      ]
     },
     "metadata": {},
     "output_type": "display_data"
    },
    {
     "data": {
      "image/png": "[encoded data removed]",
      "text/html": [
       "<img src=\"data:image/png;base64,iVBORw0KGgoAAAANSUhEUgAAAZAAAAAoCAIAAABfMzs3AAAABGdBTUEAALGPC/xhBQAAAAFzUkdCAK7OHOkAAAAgY0hSTQAAeiYAAICEAAD6AAAAgOgAAHUwAADqYAAAOpgAABdwnLpRPAAAATRJREFUeAHtwUFOQ0EMBcG25Ptf+SEWiCyCYJL5mVh0VSdB0lBVrCg2SXiV8K2RpCEaSRqikaQhGklzJawIszWSNEQjSUM0kjREI+l5VawoNkk4LbxOI0lDNJI0RCNJQzTSJsWNKo5IuFL4QcKKoEc0kjREI0lDNJI0RFPFikIPSdgtvJdwI+GIKlYUa4ofJFwp6FMjSUM0kjREI0lDNAkrgvTGElYETdJI0hCNJA3RSNIQXTwuSG+mih2KRQlHVLEi7FGc0UjSEI0kDdFI0hCdKr4Ua4onJBxRxREJJ4R/JmGHMETCCeGMRpKGaCRpiEaShuhK+BKuVawJF0iQtqviUcUTEo6oYoewppGkIRpJGqKRpCE6HFLFb4oLJNwTpDPCfcUZ4Q8STmgkaYhGkoZoJGmID1UmQocv/QClAAAAAElFTkSuQmCC\">"
      ],
      "text/plain": [
       "10×100 Matrix{RGB{N0f8}}:\n",
       " RGB(1.0, 1.0, 1.0)  RGB(1.0, 1.0, 1.0)  …  RGB(1.0, 1.0, 1.0)\n",
       " RGB(1.0, 1.0, 1.0)  RGB(1.0, 1.0, 1.0)     RGB(1.0, 1.0, 1.0)\n",
       " RGB(1.0, 1.0, 1.0)  RGB(1.0, 1.0, 1.0)     RGB(1.0, 1.0, 1.0)\n",
       " RGB(1.0, 1.0, 1.0)  RGB(1.0, 1.0, 1.0)     RGB(1.0, 1.0, 1.0)\n",
       " RGB(1.0, 0.0, 0.0)  RGB(1.0, 0.0, 0.0)     RGB(1.0, 1.0, 1.0)\n",
       " RGB(1.0, 1.0, 1.0)  RGB(1.0, 1.0, 1.0)  …  RGB(1.0, 1.0, 1.0)\n",
       " RGB(0.0, 1.0, 1.0)  RGB(0.0, 1.0, 1.0)     RGB(0.0, 0.0, 0.0)\n",
       " RGB(1.0, 0.0, 0.0)  RGB(0.0, 0.0, 0.0)     RGB(1.0, 1.0, 1.0)\n",
       " RGB(0.0, 1.0, 1.0)  RGB(1.0, 1.0, 1.0)     RGB(1.0, 0.0, 0.0)\n",
       " RGB(1.0, 1.0, 1.0)  RGB(1.0, 1.0, 1.0)     RGB(1.0, 1.0, 1.0)"
      ]
     },
     "metadata": {},
     "output_type": "display_data"
    },
    {
     "data": {
      "image/png": "[encoded data removed]",
      "text/html": [
       "<img src=\"data:image/png;base64,iVBORw0KGgoAAAANSUhEUgAAAZAAAAAoCAIAAABfMzs3AAAABGdBTUEAALGPC/xhBQAAAAFzUkdCAK7OHOkAAAAgY0hSTQAAeiYAAICEAAD6AAAAgOgAAHUwAADqYAAAOpgAABdwnLpRPAAAATtJREFUeAHtwUGuIkEMBcG05Ptf+c0KwQKEeuj6hemM6CRI2qf4QBXvhAUSdmgkaYhGkoZoJGmIRtJW4QMJV9JI0hCNJA3RSNIQjTRc8QWqOEM4KOFKGkkaopGkIRpJGqLRTyi+TBUrhbvwIGGLBK3XSNIQjSQN0UjSEE0VN4VWScJKYY/ihYSViheqeCYslqDPFO81kjREI0lDNJI0RJNwE6RjwpdJ0EzhvUaShmgkaYhGkobo4i5I5yg2qWKl8ELCGYqDqriSRpKGaCRpiEaShmiquCn+UMJK4a54UMVfCQ8SriRskjBZOCjhShpJGqKRpCEaSRqiSXgnzBYeJOh3FZtU8b/CBxLOUBxUxRnCMY0kDdFI0hCNJA3RYZMqninWSoJ+V9ivmCcclLBS8VwjSUM0kjREI0lD/AN9YESGF7alzgAAAABJRU5ErkJg\">"
      ],
      "text/plain": [
       "10×100 Matrix{RGB{N0f8}}:\n",
       " RGB(1.0, 1.0, 1.0)  RGB(1.0, 1.0, 1.0)  …  RGB(1.0, 1.0, 1.0)\n",
       " RGB(1.0, 1.0, 1.0)  RGB(1.0, 1.0, 1.0)     RGB(1.0, 1.0, 1.0)\n",
       " RGB(1.0, 1.0, 1.0)  RGB(1.0, 1.0, 1.0)     RGB(1.0, 1.0, 1.0)\n",
       " RGB(1.0, 1.0, 1.0)  RGB(1.0, 1.0, 1.0)     RGB(1.0, 1.0, 1.0)\n",
       " RGB(1.0, 0.0, 0.0)  RGB(0.0, 0.0, 0.0)     RGB(0.0, 1.0, 1.0)\n",
       " RGB(1.0, 1.0, 1.0)  RGB(1.0, 1.0, 1.0)  …  RGB(1.0, 1.0, 1.0)\n",
       " RGB(0.0, 1.0, 1.0)  RGB(1.0, 1.0, 1.0)     RGB(0.0, 0.0, 0.0)\n",
       " RGB(0.0, 0.0, 0.0)  RGB(0.0, 0.0, 0.0)     RGB(1.0, 1.0, 1.0)\n",
       " RGB(0.0, 1.0, 1.0)  RGB(0.0, 1.0, 1.0)     RGB(1.0, 0.0, 0.0)\n",
       " RGB(1.0, 1.0, 1.0)  RGB(1.0, 1.0, 1.0)     RGB(0.0, 1.0, 1.0)"
      ]
     },
     "metadata": {},
     "output_type": "display_data"
    },
    {
     "data": {
      "image/png": "[encoded data removed]",
      "text/html": [
       "<img src=\"data:image/png;base64,iVBORw0KGgoAAAANSUhEUgAAAZAAAAAoCAIAAABfMzs3AAAABGdBTUEAALGPC/xhBQAAAAFzUkdCAK7OHOkAAAAgY0hSTQAAeiYAAICEAAD6AAAAgOgAAHUwAADqYAAAOpgAABdwnLpRPAAAAS1JREFUeAHtwcFOI1EQBMEsqf//l2tPT/hghLQwY9pkxLRF0k5JeImWr5SfN0jSEoMkLTFI0hKDpLXa8pcMkrTEIElLDJK0xCDp+xKeCddqy18ySNISgyQtMUjSEoP0DeETCS/RcpQbtTxT9JMGSVpikKQlBklaYkg4gq7SlndUPtFyl/Ag4Qg3ajmKrjJI0hKDJC0xSNISQ8tRpH3Kgxa9r0GSlhgkaYlBkpaY8FyRdggPEl6i5Sg3SjjCeyofBklaYpCkJQZJWmKacIQP4WItz5SLJRzhPm3RNcqDlj+l5Sjvb5CkJQZJWmKQpCUmLf+rLNRyFOmHJBzhRi1HuVHCM+FagyQtMUjSEoMkLTHlPuFBwiu0RfpK+L3KL9DyTLnWIElLDJK0xCBJS/wDepVEhk/CJ9IAAAAASUVORK5C\">"
      ],
      "text/plain": [
       "10×100 Matrix{RGB{N0f8}}:\n",
       " RGB(1.0, 1.0, 1.0)  RGB(1.0, 1.0, 1.0)  …  RGB(1.0, 1.0, 1.0)\n",
       " RGB(1.0, 1.0, 1.0)  RGB(1.0, 1.0, 1.0)     RGB(1.0, 1.0, 1.0)\n",
       " RGB(1.0, 1.0, 1.0)  RGB(1.0, 1.0, 1.0)     RGB(1.0, 1.0, 1.0)\n",
       " RGB(1.0, 1.0, 1.0)  RGB(1.0, 1.0, 1.0)     RGB(1.0, 1.0, 1.0)\n",
       " RGB(1.0, 0.0, 0.0)  RGB(0.0, 0.0, 0.0)     RGB(1.0, 1.0, 1.0)\n",
       " RGB(1.0, 1.0, 1.0)  RGB(1.0, 1.0, 1.0)  …  RGB(1.0, 1.0, 1.0)\n",
       " RGB(0.0, 1.0, 1.0)  RGB(0.0, 1.0, 1.0)     RGB(1.0, 0.0, 0.0)\n",
       " RGB(1.0, 0.0, 0.0)  RGB(0.0, 0.0, 0.0)     RGB(1.0, 1.0, 1.0)\n",
       " RGB(0.0, 1.0, 1.0)  RGB(0.0, 1.0, 1.0)     RGB(0.0, 0.0, 0.0)\n",
       " RGB(1.0, 1.0, 1.0)  RGB(1.0, 1.0, 1.0)     RGB(1.0, 1.0, 1.0)"
      ]
     },
     "metadata": {},
     "output_type": "display_data"
    }
   ],
   "source": [
    "train!(u, v, rbar, W, target, T, N_trials, θ=θ, dt=dt)"
   ]
  },
  {
   "cell_type": "code",
   "execution_count": 15,
   "metadata": {},
   "outputs": [
    {
     "data": {
      "text/plain": [
       "BenchmarkTools.Trial: 10000 samples with 8 evaluations.\n",
       " Range \u001b[90m(\u001b[39m\u001b[36m\u001b[1mmin\u001b[22m\u001b[39m … \u001b[35mmax\u001b[39m\u001b[90m):  \u001b[39m\u001b[36m\u001b[1m3.571 μs\u001b[22m\u001b[39m … \u001b[35m 1.422 ms\u001b[39m  \u001b[90m┊\u001b[39m GC \u001b[90m(\u001b[39mmin … max\u001b[90m): \u001b[39m0.00% … 99.24%\n",
       " Time  \u001b[90m(\u001b[39m\u001b[34m\u001b[1mmedian\u001b[22m\u001b[39m\u001b[90m):     \u001b[39m\u001b[34m\u001b[1m3.764 μs              \u001b[22m\u001b[39m\u001b[90m┊\u001b[39m GC \u001b[90m(\u001b[39mmedian\u001b[90m):    \u001b[39m0.00%\n",
       " Time  \u001b[90m(\u001b[39m\u001b[32m\u001b[1mmean\u001b[22m\u001b[39m ± \u001b[32mσ\u001b[39m\u001b[90m):   \u001b[39m\u001b[32m\u001b[1m4.444 μs\u001b[22m\u001b[39m ± \u001b[32m18.725 μs\u001b[39m  \u001b[90m┊\u001b[39m GC \u001b[90m(\u001b[39mmean ± σ\u001b[90m):  \u001b[39m6.81% ±  1.71%\n",
       "\n",
       "  \u001b[39m▃\u001b[39m▇\u001b[39m▇\u001b[39m█\u001b[34m█\u001b[39m\u001b[39m▆\u001b[39m▅\u001b[39m▃\u001b[39m▂\u001b[39m▁\u001b[39m \u001b[39m \u001b[39m \u001b[39m \u001b[39m \u001b[39m \u001b[39m \u001b[39m \u001b[39m \u001b[32m \u001b[39m\u001b[39m \u001b[39m \u001b[39m \u001b[39m \u001b[39m \u001b[39m \u001b[39m \u001b[39m \u001b[39m \u001b[39m▂\u001b[39m▂\u001b[39m▂\u001b[39m▁\u001b[39m▂\u001b[39m▃\u001b[39m▃\u001b[39m▃\u001b[39m▂\u001b[39m▃\u001b[39m▃\u001b[39m▂\u001b[39m▂\u001b[39m▁\u001b[39m▁\u001b[39m \u001b[39m \u001b[39m \u001b[39m \u001b[39m \u001b[39m \u001b[39m \u001b[39m \u001b[39m \u001b[39m \u001b[39m \u001b[39m \u001b[39m \u001b[39m \u001b[39m \u001b[39m▂\n",
       "  \u001b[39m█\u001b[39m█\u001b[39m█\u001b[39m█\u001b[34m█\u001b[39m\u001b[39m█\u001b[39m█\u001b[39m█\u001b[39m█\u001b[39m█\u001b[39m█\u001b[39m█\u001b[39m█\u001b[39m█\u001b[39m▇\u001b[39m█\u001b[39m▇\u001b[39m█\u001b[39m▆\u001b[32m▆\u001b[39m\u001b[39m▆\u001b[39m▄\u001b[39m▄\u001b[39m▆\u001b[39m▃\u001b[39m▅\u001b[39m▄\u001b[39m▂\u001b[39m▆\u001b[39m█\u001b[39m█\u001b[39m█\u001b[39m█\u001b[39m█\u001b[39m█\u001b[39m█\u001b[39m█\u001b[39m█\u001b[39m█\u001b[39m█\u001b[39m█\u001b[39m█\u001b[39m█\u001b[39m█\u001b[39m█\u001b[39m█\u001b[39m█\u001b[39m▇\u001b[39m▇\u001b[39m▆\u001b[39m▆\u001b[39m▇\u001b[39m▆\u001b[39m▆\u001b[39m▆\u001b[39m▅\u001b[39m▅\u001b[39m▆\u001b[39m \u001b[39m█\n",
       "  3.57 μs\u001b[90m      \u001b[39m\u001b[90mHistogram: \u001b[39m\u001b[90m\u001b[1mlog(\u001b[22m\u001b[39m\u001b[90mfrequency\u001b[39m\u001b[90m\u001b[1m)\u001b[22m\u001b[39m\u001b[90m by time\u001b[39m     6.19 μs \u001b[0m\u001b[1m<\u001b[22m\n",
       "\n",
       " Memory estimate\u001b[90m: \u001b[39m\u001b[33m4.06 KiB\u001b[39m, allocs estimate\u001b[90m: \u001b[39m\u001b[33m18\u001b[39m."
      ]
     },
     "metadata": {},
     "output_type": "display_data"
    }
   ],
   "source": [
    "using BenchmarkTools\n",
    "u_tgt_bench::Vector{Float64} = M*Float64.(rand(N_out).>.75);\n",
    "@benchmark step!($u, $u_tgt_bench, $v, $rbar, $W)"
   ]
  },
  {
   "cell_type": "code",
   "execution_count": null,
   "metadata": {},
   "outputs": [],
   "source": []
  }
 ],
 "metadata": {
  "kernelspec": {
   "display_name": "Julia 1.11.1",
   "language": "julia",
   "name": "julia-1.11"
  },
  "language_info": {
   "file_extension": ".jl",
   "mimetype": "application/julia",
   "name": "julia",
   "version": "1.11.1"
  }
 },
 "nbformat": 4,
 "nbformat_minor": 2
}
