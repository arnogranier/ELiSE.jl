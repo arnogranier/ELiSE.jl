{
 "cells": [
  {
   "cell_type": "code",
   "execution_count": 36,
   "metadata": {},
   "outputs": [],
   "source": [
    "include(\"src/Elise.jl\");"
   ]
  },
  {
   "cell_type": "code",
   "execution_count": 25,
   "metadata": {},
   "outputs": [],
   "source": [
    "Random.seed!(1234);"
   ]
  },
  {
   "cell_type": "markdown",
   "metadata": {},
   "source": [
    "---"
   ]
  },
  {
   "cell_type": "markdown",
   "metadata": {},
   "source": [
    "## Config"
   ]
  },
  {
   "cell_type": "code",
   "execution_count": 26,
   "metadata": {},
   "outputs": [
    {
     "name": "stdout",
     "output_type": "stream",
     "text": [
      "Config\n",
      "  dt: Float64 0.1\n",
      "  E_exc: Float64 1.0\n",
      "  E_inh: Float64 -1.0\n",
      "  g_l: Float64 0.1\n",
      "  g_den: Float64 2.0\n",
      "  g_e: Float64 0.3\n",
      "  g_i: Float64 0.9\n",
      "  δ: Float64 25.0\n",
      "  η: Float64 1.0e-5\n",
      "  λ: Float64 0.6\n",
      "  a: Float64 21.0\n",
      "  b: Float64 0.18\n"
     ]
    },
    {
     "name": "stderr",
     "output_type": "stream",
     "text": [
      "WARNING: redefinition of constant Main.cfg. This may fail, cause incorrect answers, or produce other errors.\n"
     ]
    }
   ],
   "source": [
    "const cfg = Config(η=1e-5)\n",
    "dump(cfg)"
   ]
  },
  {
   "cell_type": "markdown",
   "metadata": {},
   "source": [
    "---"
   ]
  },
  {
   "cell_type": "markdown",
   "metadata": {},
   "source": [
    "## Data"
   ]
  },
  {
   "cell_type": "markdown",
   "metadata": {},
   "source": [
    "Reading target from midi file. We also get the needed number of output neurons (with possibly some silent in the middle, it is just the highest note - the lowest note) and the needed simulation time in ms."
   ]
  },
  {
   "cell_type": "code",
   "execution_count": 27,
   "metadata": {},
   "outputs": [],
   "source": [
    "Target::Matrix{Bool} = from_midi(\"Well Tempered Clavier/Preludes/Prelude4.mid\");\n",
    "target = t->Float64.(Target[:,1 + floor(Int,t*cfg.dt)]);"
   ]
  },
  {
   "cell_type": "code",
   "execution_count": 28,
   "metadata": {},
   "outputs": [
    {
     "data": {
      "image/png": "[encoded data removed]",
      "text/html": [
       "<img src=\"data:image/png;base64,iVBORw0KGgoAAAANSUhEUgAAAT4AAABiCAAAAADsaODUAAAABGdBTUEAALGPC/xhBQAAAAFzUkdCAK7OHOkAAAAgY0hSTQAAeiYAAICEAAD6AAAAgOgAAHUwAADqYAAAOpgAABdwnLpRPAAAAP9JREFUeAHtwcFpBEEAxEANKP+U1wH4M7gXDHeqkgwkA8lAMpAMJAPJQDKQDCQDyUAykAwkA8lAMpAMJAPJQDKQDCQD+TIPb5IM5Msc3iQZSAaSgWQgGUgGkoEPdw6f4eFNkoGH73J4k2Qglx7uHL6JZCCXDvlNMpCXPdw53Hm4c7jz8CbJQF52uPNw5/Cuw5skA/knh08gGciHeLhzeJNkIB/i8B8kA8lAMpAMJAPJQDKQDCQDyUAykAwkA8lAMpAMJAPJQDKQDCQDH/J3koGH/J1kIBlIBpKBZCAZSAaSgWQgGUgGkoFkIBlIBpKBZCAZSAaSgWQgGUgGkoFk8AP8NAuOAmj8rwAAAABJRU5ErkJg\">"
      ],
      "text/plain": [
       "49×159 Matrix{Gray{Float64}}:\n",
       " 0.0  0.0  0.0  0.0  0.0  0.0  0.0  0.0  …  0.0  0.0  0.0  0.0  0.0  0.0  0.0\n",
       " 0.0  0.0  0.0  0.0  0.0  0.0  0.0  0.0     0.0  0.0  0.0  0.0  0.0  0.0  0.0\n",
       " 0.0  0.0  0.0  0.0  0.0  0.0  0.0  0.0     0.0  0.0  0.0  0.0  0.0  0.0  0.0\n",
       " 0.0  0.0  0.0  0.0  0.0  0.0  0.0  0.0     0.0  0.0  0.0  0.0  0.0  0.0  0.0\n",
       " 0.0  0.0  0.0  0.0  0.0  0.0  0.0  0.0     0.0  0.0  0.0  0.0  0.0  0.0  0.0\n",
       " 0.0  0.0  0.0  0.0  0.0  0.0  0.0  0.0  …  0.0  0.0  0.0  0.0  0.0  0.0  0.0\n",
       " 0.0  0.0  0.0  0.0  0.0  0.0  0.0  0.0     0.0  0.0  0.0  0.0  0.0  0.0  0.0\n",
       " 0.0  0.0  0.0  0.0  0.0  0.0  0.0  0.0     0.0  0.0  0.0  0.0  0.0  0.0  0.0\n",
       " 0.0  0.0  0.0  0.0  0.0  0.0  0.0  0.0     0.0  0.0  0.0  0.0  0.0  0.0  0.0\n",
       " 0.0  0.0  0.0  0.0  0.0  0.0  0.0  0.0     0.0  0.0  0.0  0.0  0.0  0.0  0.0\n",
       " ⋮                        ⋮              ⋱                 ⋮              \n",
       " 0.0  0.0  0.0  0.0  0.0  0.0  0.0  0.0  …  0.0  0.0  0.0  0.0  0.0  0.0  0.0\n",
       " 0.0  0.0  0.0  0.0  0.0  0.0  0.0  0.0     0.0  0.0  0.0  0.0  0.0  0.0  0.0\n",
       " 0.0  0.0  0.0  0.0  0.0  0.0  0.0  0.0     0.0  0.0  0.0  0.0  0.0  0.0  0.0\n",
       " 0.0  0.0  0.0  0.0  0.0  0.0  0.0  0.0     0.0  0.0  0.0  0.0  0.0  0.0  0.0\n",
       " 0.0  0.0  0.0  0.0  0.0  0.0  0.0  0.0     0.0  0.0  0.0  0.0  0.0  0.0  0.0\n",
       " 0.0  0.0  0.0  0.0  0.0  0.0  0.0  0.0  …  0.0  0.0  0.0  0.0  0.0  0.0  0.0\n",
       " 0.0  0.0  0.0  0.0  0.0  0.0  0.0  0.0     0.0  0.0  0.0  0.0  0.0  0.0  0.0\n",
       " 0.0  0.0  0.0  0.0  0.0  0.0  0.0  0.0     0.0  0.0  0.0  0.0  0.0  0.0  0.0\n",
       " 0.0  0.0  0.0  0.0  0.0  0.0  0.0  0.0     0.0  0.0  0.0  0.0  0.0  0.0  0.0"
      ]
     },
     "metadata": {},
     "output_type": "display_data"
    }
   ],
   "source": [
    "T_min::Float64 = 0.\n",
    "T_max::Float64 = 158 #T_end = size(Target, 2) / cfg.dt - cfg.dt\n",
    "Gray.(reduce(hcat,[target(t) for t in T_min:T_max]))"
   ]
  },
  {
   "cell_type": "markdown",
   "metadata": {},
   "source": [
    "---"
   ]
  },
  {
   "cell_type": "markdown",
   "metadata": {},
   "source": [
    "## Parameters"
   ]
  },
  {
   "cell_type": "code",
   "execution_count": 29,
   "metadata": {},
   "outputs": [
    {
     "data": {
      "text/plain": [
       "(N = 196, N_latent = 147, N_out = 49)"
      ]
     },
     "metadata": {},
     "output_type": "display_data"
    }
   ],
   "source": [
    "N_out::Int = size(Target, 1)\n",
    "N_latent::Int = 3 * N_out;\n",
    "N::Int = N_out + N_latent;\n",
    "(N=N, N_latent=N_latent, N_out=N_out)"
   ]
  },
  {
   "cell_type": "code",
   "execution_count": 30,
   "metadata": {},
   "outputs": [
    {
     "name": "stderr",
     "output_type": "stream",
     "text": [
      "WARNING: redefinition of constant Main.B. This may fail, cause incorrect answers, or produce other errors.\n",
      "WARNING: redefinition of constant Main.τ_d. This may fail, cause incorrect answers, or produce other errors.\n",
      "WARNING: redefinition of constant Main.τ_s. This may fail, cause incorrect answers, or produce other errors.\n"
     ]
    }
   ],
   "source": [
    "W::Matrix{Float64} = rand(Normal(0., 0.0005), N, N);\n",
    "const B::Matrix{Float64} = Float64.(rand(N_latent, N) .< 1.5/N);\n",
    "const τ_d::Vector{Float64} = rand(Uniform(1., 20.), N);\n",
    "const τ_s::Vector{Float64} = rand(Uniform(1., 20.), N);"
   ]
  },
  {
   "cell_type": "code",
   "execution_count": 31,
   "metadata": {},
   "outputs": [],
   "source": [
    "args = [W, B, τ_d, τ_s, cfg, target, T_min, T_max];"
   ]
  },
  {
   "cell_type": "markdown",
   "metadata": {},
   "source": [
    "---"
   ]
  },
  {
   "cell_type": "markdown",
   "metadata": {},
   "source": [
    "## Training "
   ]
  },
  {
   "cell_type": "code",
   "execution_count": 32,
   "metadata": {},
   "outputs": [],
   "source": [
    "train!(args..., 100)"
   ]
  },
  {
   "cell_type": "markdown",
   "metadata": {},
   "source": [
    "---"
   ]
  },
  {
   "cell_type": "markdown",
   "metadata": {},
   "source": [
    "## Testing"
   ]
  },
  {
   "cell_type": "code",
   "execution_count": 33,
   "metadata": {},
   "outputs": [
    {
     "data": {
      "text/plain": [
       "0.8976744186046511"
      ]
     },
     "metadata": {},
     "output_type": "display_data"
    }
   ],
   "source": [
    "θ::Float64 = 0.5;\n",
    "metric = (r,t;θ=θ) -> sum((r.>θ).&(t.>θ)) / sum((r.>θ).|(t.>θ))\n",
    "test!(args..., metric, N_out)"
   ]
  },
  {
   "cell_type": "code",
   "execution_count": 34,
   "metadata": {},
   "outputs": [],
   "source": [
    "N_run::Int = 5\n",
    "nudge_on_run_nb(n) = n % 4 == 0\n",
    "r, u, v = run!(args..., N_run, nudge_on_run_nb);"
   ]
  },
  {
   "cell_type": "code",
   "execution_count": 37,
   "metadata": {},
   "outputs": [
    {
     "data": {
      "image/png": "[encoded data removed]",
      "text/html": [
       "<img src=\"data:image/png;base64,iVBORw0KGgoAAAANSUhEUgAAAxsAAACTCAIAAABpt5O2AAAABGdBTUEAALGPC/xhBQAAAAFzUkdCAK7OHOkAAAAgY0hSTQAAeiYAAICEAAD6AAAAgOgAAHUwAADqYAAAOpgAABdwnLpRPAAACMFJREFUeAHtwdFtG8kCRNH70Qk4EGYxKZSz2S9FwRRcCSkLhvDemlgCMuxdS9OYpjy454z//e9/6IxuL7cvf31BZ3R7uX356ws6o9vL7ctfX9AZ3V5uX/76gk5qIEmSpDkDSZIkzRlIkiRpzkCSJElzBpIkSZozkCRJ0pyBJEmS5gwkSZI0ZyBJkqQ5A0mSJM0ZSJIkac5AkiRJcwaSJEmaM5AkSdKcgSRJkuYMJEmSNGcgSZKkOQNJkiTNGUiSJGnOQJIkSXMGkiRJmjOQJEnSnIEkSZLmDCRJkjRnIEmSpDkDSZIkzRlIkiRpzkCSJElzBpIkSZozkCRJ0pyBJEmS5gy0RFvW2tjKd0GHKA8ta21shaADlbuWtTa28l3Qsdqy1saGlmjLcgMt0Za1tstWvgs6RHloWWu7bIWgA5W7lrW2y1a+CzpWW9baLhtaoi3LDbREW9a6Xq5FByoPLWtdL9eiY5W7lrWul2vRCm1Z63q5oiXastxASyRhuaADhYeE5YKOFe4SlgtaIQk6qSQsN9ASSVjslaADhYeExV4JOla4S1jslaAVkrDYK1ojCcsNtEQS1rq93IIOFB4S1rq93IKOFe4S1rq93IJWSMJat5cbWiIJyw0kSZI0ZyBJkqQ5A0mSJM0ZSJIkac5AkiRJcwaSJEmaM5AkSdKcgSRJkuYMJEmSNGe0Zbck6F3astbG1pbdkqB/Vd5oWWtja8teSdB/Kg8ta21sbdktAYL+S7lrWWtja8tuSdC7tGW50ZbdkqB3acta22Vry25J0L8qb7SstV22tuyVBP2n8tCy1nbZ2rJbAgT9l3LXstZ22dqyWxL0Lm1ZbrRFx2vLWtfLtS06RnmjZa3r5doWHaY8tKx1vVzboiOVu5a1rpdrW3S8tiw3kqDjJWG5JOgY4Y2E5ZKgw4SHhOWSoCOFu4TlkqDjJWG5kQQdLwmLvZIEHSO8kbDYK0nQYcJDwmKvJEFHCncJi72SBB0vCcuNJOh4SVjr9nJLgo4R3khY6/ZyS4IOEx4S1rq93JKgI4W7hLVuL7ck6HhJWG4woS27JUGfUblr2SsJ+pTKXcteSdAn1pbdEiDok2rLbknQsQYT2rJbEvQZlbuWvZKgT6ncteyVBH1ibdktAYI+qbbslgQdazChLTqdctei0yl3LTqptuik2qJPbDAhCTqdcJeg0wl3CTqpJOikkqBPbDAhCTqdcJeg0wl3CTqpJOikkqBPbDAhCTqdcJeg0wl3CTqpJOikkqBPbPAkbdktCTu1Zbck7NSWtTa28l04VvlJy25J+IDyRstuCT8Kv1fuWtba2Mo/wlHKr7TslgDhA8pDy24JPwm/V6BlrY2t/CAcpfyoZbeEh/ABBVp2S/gX4XfastTGVghP0JbdkrBTW3ZLwk5tWW7wJG3ZLQk7tWW3JOzUlrW2y1a+C8cqP2nZLQkfUN5o2S3hR+H3yl3LWttlK/8IRym/0rJbAoQPKA8tuyX8JPxegZa1tstWfhCOUn7UslvCQ/iAAi27JfyL8DttWWq7bIXwBG3ZLQk7tWW3JOzUluUGT9KWZ2jLM7RlrevlWlYoP2lZpbzRsla5a1nrermWw5VfaVmoPLQsV6BlrevlWhYpP2pZrkDLU7RlqevlWp6jLc/Qlmdoy3KDJ0nCXv0beyXhCZKwXFgh/CTh48pdWz4mPCSsFe4SlguHC7+SsEuBFigfE+4SlguQsFxYJPwoYbe2/KN8TBKeIgmrhedIwl79G3sl4QmSsNzgSZKwV//GXkl4giQs9kpYIfwk4ePKXVs+JjwkrBXuEhZ7JRwu/ErCLgVaoHxMuEtYLkDCYq+ERcKPEnZryz/KxyThKZKw1ivhOZKwV//GXkl4giQsN3iSJOz29WvZ69u38ARJWOv2cgsrhJ8k7Pb1a/mY8PDtG2uFu4S1bi+3cLjwKwm7ff0KlI8Jd9++sVyAhLVuL7ewSPhRwm5fv/JQPibfvvEUSVjq9nILz5GE3b5+LXt9+xaeIAnLDf5ASdDphLsEnVGABJ1VEnROSdA7DP5ASdDphLsEnVGABJ1VEnROSdA7DP5ASdDphLsEnVGABJ1VEnROSdA7DPRubdktCfpcyhsteyVBn1K5a9ktCfqkCrTslnAX9Bm1ZbckrDbQu7VltyTocylvtOyVBH1K5a5ltyTokyrQslvCXdBn1JbdkrDaQO/WFp1IeaNFp1PuWnRGBVp0Um35owz0bknQiYQ3EnQ64S5BZxQgQSeVhD/KQO+WBJ1IeCNBpxPuEnRGARJ0Ukn4owz0bknQiYQ3EnQ64S5BZxQgQSeVhD/KQJIkSXMGkiRJmjOQJEnSnIEkSZLmDCRJkjRnIEmSpDkDSZIkzRlIkiRpzkCSJElzBpIkSZozkCRJ0pyBJEmS5gwkSZI0ZyBJkqQ5A0mSJM0ZSJIkac5AkiRJcwaSJEmaM5AkSdKcgSRJkuYMJEmSNGcgSZKkOQNJkiTNGUiSJGnOQJIkSXMGkiRJmjOQJEnSnIEkSZLmDCRJkjRnIEmSpDmjLTqjja0tOqONrS06o42tLTqjja0tOqnRFp3RdtnaojPaLltbdEbbZWuLzmi7bG3RSY226Iyul2tbdEbXy7UtOqPr5doWndH1cm2LTmokQSeVBJ1UEnRSSdBJJUEnNZKgU3olCTqlV5KgU3olCTqlV5KgkxpJ0BndXm5J0BndXm5J0BndXm5J0BndXm5J0EkNJEmSNGcgSZKkOQNJkiTNGUiSJGnOQJIkSXMGkiRJmjOQJEnSnIEkSZLmDCRJkjRnIEmSpDkDSZIkzRlIkiRpzkCSJElzBpIkSZozkCRJ0pyBJEmS5gwkSZI0ZyBJkqQ5A0mSJM0ZSJIkac5AkiRJcwaSJEmaM5AkSdKcgSRJkuYMJEmSNGcgSZKkOQNJkiTNGUiSJGnOQJIkSXMGkiRJmjOQJEnSnIEkSZLmDCRJkjRnIEmSpDkDSZIkzRlIkiRpzkCSJElz/g9MkYLa+B6ubAAAAABJRU5ErkJg\">"
      ],
      "text/plain": [
       "147×795 Matrix{RGB{N0f8}}:\n",
       " RGB(1.0, 1.0, 1.0)  RGB(1.0, 1.0, 1.0)  …  RGB(1.0, 1.0, 1.0)\n",
       " RGB(1.0, 1.0, 1.0)  RGB(1.0, 1.0, 1.0)     RGB(1.0, 1.0, 1.0)\n",
       " RGB(1.0, 1.0, 1.0)  RGB(1.0, 1.0, 1.0)     RGB(1.0, 1.0, 1.0)\n",
       " RGB(1.0, 1.0, 1.0)  RGB(1.0, 1.0, 1.0)     RGB(1.0, 1.0, 1.0)\n",
       " RGB(1.0, 1.0, 1.0)  RGB(1.0, 1.0, 1.0)     RGB(1.0, 1.0, 1.0)\n",
       " RGB(1.0, 1.0, 1.0)  RGB(1.0, 1.0, 1.0)  …  RGB(1.0, 1.0, 1.0)\n",
       " RGB(1.0, 1.0, 1.0)  RGB(1.0, 1.0, 1.0)     RGB(1.0, 1.0, 1.0)\n",
       " RGB(1.0, 1.0, 1.0)  RGB(1.0, 1.0, 1.0)     RGB(1.0, 1.0, 1.0)\n",
       " RGB(1.0, 1.0, 1.0)  RGB(1.0, 1.0, 1.0)     RGB(1.0, 1.0, 1.0)\n",
       " RGB(1.0, 1.0, 1.0)  RGB(1.0, 1.0, 1.0)     RGB(1.0, 1.0, 1.0)\n",
       " ⋮                                       ⋱  \n",
       " RGB(1.0, 1.0, 1.0)  RGB(1.0, 1.0, 1.0)     RGB(1.0, 1.0, 1.0)\n",
       " RGB(1.0, 1.0, 1.0)  RGB(1.0, 1.0, 1.0)     RGB(1.0, 1.0, 1.0)\n",
       " RGB(1.0, 1.0, 1.0)  RGB(1.0, 1.0, 1.0)  …  RGB(1.0, 1.0, 1.0)\n",
       " RGB(1.0, 1.0, 1.0)  RGB(1.0, 1.0, 1.0)     RGB(1.0, 1.0, 1.0)\n",
       " RGB(1.0, 1.0, 1.0)  RGB(1.0, 1.0, 1.0)     RGB(1.0, 1.0, 1.0)\n",
       " RGB(1.0, 1.0, 1.0)  RGB(1.0, 1.0, 1.0)     RGB(1.0, 1.0, 1.0)\n",
       " RGB(1.0, 1.0, 1.0)  RGB(1.0, 1.0, 1.0)     RGB(1.0, 1.0, 1.0)\n",
       " RGB(1.0, 1.0, 1.0)  RGB(1.0, 1.0, 1.0)  …  RGB(1.0, 1.0, 1.0)\n",
       " RGB(1.0, 1.0, 1.0)  RGB(1.0, 1.0, 1.0)     RGB(1.0, 1.0, 1.0)"
      ]
     },
     "metadata": {},
     "output_type": "display_data"
    }
   ],
   "source": [
    "plot(r[1:N_out,:], target, T_min, T_max, N_run, θ, ratio=(3,1))"
   ]
  },
  {
   "cell_type": "code",
   "execution_count": null,
   "metadata": {},
   "outputs": [],
   "source": [
    "using BenchmarkTools\n",
    "\n",
    "u, v, rbar, m_den, m_som_exc, m_som_inh = initialize(τ_d, τ_s, cfg)\n",
    "u_tgt_bench::Vector{Float64} = Float64.(rand(N_out).>3/4);\n",
    "\n",
    "@benchmark step!($u, $u_tgt_bench, $v, $rbar, $W, $B, $cfg, $m_den, $m_som_exc, $m_som_inh)"
   ]
  }
 ],
 "metadata": {
  "kernelspec": {
   "display_name": "Julia 1.11.2",
   "language": "julia",
   "name": "julia-1.11"
  },
  "language_info": {
   "file_extension": ".jl",
   "mimetype": "application/julia",
   "name": "julia",
   "version": "1.11.2"
  }
 },
 "nbformat": 4,
 "nbformat_minor": 2
}
