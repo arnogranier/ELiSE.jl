{
 "cells": [
  {
   "cell_type": "code",
   "execution_count": 1,
   "metadata": {},
   "outputs": [],
   "source": [
    "using Distributions;\n",
    "using Images;"
   ]
  },
  {
   "cell_type": "markdown",
   "metadata": {},
   "source": [
    "---"
   ]
  },
  {
   "cell_type": "markdown",
   "metadata": {},
   "source": [
    "## Parameters\n",
    "As in the preprint Supp Table 1. A few from the experimental setup are missing."
   ]
  },
  {
   "cell_type": "code",
   "execution_count": 2,
   "metadata": {},
   "outputs": [],
   "source": [
    "const dt::Float64 = 0.1\n",
    "const N_trials::Int = 10000\n",
    "const T::Int = 100;"
   ]
  },
  {
   "cell_type": "code",
   "execution_count": 3,
   "metadata": {},
   "outputs": [],
   "source": [
    "const N_out::Int = 13\n",
    "const N_latent::Int = 30\n",
    "const p0::Float64 = 0.04\n",
    "const p::Float64 = 0.2\n",
    "const q::Float64 = 0.15\n",
    "\n",
    "const N::Int = N_out + N_latent;"
   ]
  },
  {
   "cell_type": "code",
   "execution_count": 4,
   "metadata": {},
   "outputs": [],
   "source": [
    "const E1::Float64 = -70\n",
    "const E_exc::Float64 = 0\n",
    "const E_inh::Float64 = -75\n",
    "const gl::Float64 = 0.1\n",
    "const g_den::Float64 = 2.0\n",
    "const g_exc_0::Float64 = 0.3\n",
    "const g_inh_0::Float64 = 6.0\n",
    "const a::Float64 = 0.3\n",
    "const b::Float64 = -58.\n",
    "d_den_init = Uniform(5., 15.)\n",
    "d_som_init = Uniform(5., 15.)\n",
    "const delta::Float64 = 25.\n",
    "\n",
    "rho(u) = 1. / (1. + exp(a*(b-u)))\n",
    "\n",
    "d_den::Vector{Float64} = round.(rand(d_den_init, N), digits=1)\n",
    "d_som_exc::Vector{Float64} = round.(rand(d_som_init, N), digits=1)\n",
    "d_som_inh::Vector{Float64} = d_som_exc .+ delta;\n"
   ]
  },
  {
   "cell_type": "code",
   "execution_count": 5,
   "metadata": {},
   "outputs": [],
   "source": [
    "const η0::Float64 = 0.0001\n",
    "const ηl::Float64 = 0.001\n",
    "const λ::Float64 = 0.6\n",
    "W_init = Normal(0., 0.5)\n",
    "\n",
    "lrs::Matrix{Float64} = mapreduce(permutedims, vcat, [[(i<=N_out && j<=N_out) ? η0 : ηl for j in 1:N] for i in 1:N]); #ugly, but necessary for not checking if i<N_out etc in step"
   ]
  },
  {
   "cell_type": "markdown",
   "metadata": {},
   "source": [
    "Since you did this nice analysis, might as well: "
   ]
  },
  {
   "cell_type": "code",
   "execution_count": 6,
   "metadata": {},
   "outputs": [],
   "source": [
    "P(k) = (k == 0) ? p0 : (1-p0) * p^((k^2-k)/2) * (1-p^k)\n",
    "D_nout = DiscreteNonParametric(0:N_latent, P.(0:N_latent));"
   ]
  },
  {
   "cell_type": "markdown",
   "metadata": {},
   "source": [
    "---"
   ]
  },
  {
   "cell_type": "markdown",
   "metadata": {},
   "source": [
    "## Somato-somatic scafold\n",
    "\n",
    "Just an implementation of what is described in the paper. I did check if $d_{out}$ follow the correct distribution. Could certainly be better but this is by no mean a bottleneck. I just have the feeling that it might be overly complex for no practical reason."
   ]
  },
  {
   "cell_type": "code",
   "execution_count": 7,
   "metadata": {},
   "outputs": [],
   "source": [
    "B::Matrix{Float64} = zeros(N_latent, N)\n",
    "fatigued = []\n",
    "nudged = vcat(1:N_out)\n",
    "latent = vcat(N_out+1:N)\n",
    "previously_accepted = Dict(i=>0 for i in latent)\n",
    "while !isempty(nudged)\n",
    "    i = rand(nudged)\n",
    "    X = rand(D_nout)\n",
    "    for c in 1:X\n",
    "        j = rand(latent)\n",
    "        while rand() > q^previously_accepted[j] || j==i\n",
    "            j = rand(latent)\n",
    "        end\n",
    "        previously_accepted[j] += 1\n",
    "        (j in fatigued || j in nudged) || push!(nudged, j)\n",
    "        B[j-N_out,i] = 1\n",
    "    end\n",
    "    deleteat!(nudged, findall(nudged.==i))\n",
    "    push!(fatigued, i)\n",
    "end"
   ]
  },
  {
   "cell_type": "markdown",
   "metadata": {},
   "source": [
    "---"
   ]
  },
  {
   "cell_type": "markdown",
   "metadata": {},
   "source": [
    "## Memory\n",
    "\n",
    "Here I took a shitty approach in term of memory, but it makes things easier in terms of later indexing. I use 3 `Vector{Queue{Float64}}`, one for each delay type (dendritic, somatic excitatory, somatic inhibitory). Within a `Vector{Queue{Float64}}` for one type of delay, I start by filling in all the queues with $d_i/\\texttt{dt}$ initial values. Then at every step I use `pop!` once on every queue to get my delayed values, and at the end I `push!` once to every queue the current $r_i$ to the queue. In that sense, I do not need to index an history to get the delayed values, rather the length of each queue acts as the delay. Indexing a complete history is probably better, I just thought this was a funny implementation, and it shouldn't be much slower on CPU to be honest. Bellow are the functions that create and add to the queues. The `pop!` are in the `step!` function bellow.\n",
    "\n",
    "_In fact these are implemented as `Vector{Vector{Float64}}` because Julia has no implementation of `Queue` that is better than `push!(::Vector{Float64}, ::Float64)` and `popfirst!(::Vector{Float64})` but that's a detail._\n",
    "\n"
   ]
  },
  {
   "cell_type": "code",
   "execution_count": 8,
   "metadata": {},
   "outputs": [],
   "source": [
    "function create_queues!(ds::Vector{Float64})::Vector{Vector{Float64}}\n",
    "    qs = [Vector{Float64}() for _ in 1:N]\n",
    "    initialize!((q,d)) = (x->push!(q,x)).(rho.(E1*ones(Int(d ÷ dt))))\n",
    "    initialize!.(zip(qs, ds))\n",
    "    return qs\n",
    "end;"
   ]
  },
  {
   "cell_type": "code",
   "execution_count": 9,
   "metadata": {},
   "outputs": [],
   "source": [
    "function memory!(r::Vector{Float64})\n",
    "    for (q_den, q_exc, q_inh, x) in zip(m_den, m_som_exc, m_som_inh, r)\n",
    "        push!(q_den, x)\n",
    "        push!(q_exc, x)\n",
    "        push!(q_inh, x)\n",
    "    end\n",
    "end;"
   ]
  },
  {
   "cell_type": "markdown",
   "metadata": {},
   "source": [
    "---"
   ]
  },
  {
   "cell_type": "markdown",
   "metadata": {},
   "source": [
    "## Step\n",
    "\n",
    "Quite straightforwardly implementing the equations. Here I did try to not be too dirty, as I don't want to wait for hours afterwards. \n",
    "I first do the (3) matrix multiplications that I found useful in implementing the equations. I then do the assignments in loops as it is the more performant way to do things in Julia on CPU. The 2 matrix multplications for somato-somatic synapses might be better as indexing...\n",
    "The structure is: \n",
    "```julia\n",
    "for output neurons\n",
    "    intrinsic u update\n",
    "    if teacher\n",
    "        teacher nudging\n",
    "    end\n",
    "end\n",
    "for latent neurons\n",
    "    u update\n",
    "end\n",
    "for all neurons # this could be done twice in the previous loops ... \n",
    "    v update    # ... but it's ugly\n",
    "    rbar update\n",
    "end\n",
    "update memory # it has been rolled already by the pop! in the u and v updates!\n",
    "for all somato-dendritic weights\n",
    "    plasticity\n",
    "end\n",
    "```\n",
    "This function `step!` is benchmarked at the end of this notebook, and on my hardware (cpu) takes around 4μs, so that's for dt ms of simulations. In other words, we are at approximatively 25x 'real'time."
   ]
  },
  {
   "cell_type": "code",
   "execution_count": null,
   "metadata": {},
   "outputs": [],
   "source": [
    "function step!(u::Vector{Float64},u_tgt::Vector{Float64},v::Vector{Float64},rbar::Vector{Float64},W::Matrix{Float64};teacher::Bool=true)\n",
    "    past_den_r = popfirst!.(m_den)\n",
    "    I_den = W * past_den_r\n",
    "    g_exc = g_exc_0 * B * max.(popfirst!.(m_som_exc), rho(E1))\n",
    "    g_inh = g_inh_0 * B * min.(popfirst!.(m_som_inh), rho(E1))\n",
    "    for i in 1:N_out\n",
    "        @inbounds u[i] += dt * (-gl*(v[i] .- E1) + g_den*(v[i]-u[i])) \n",
    "        if teacher \n",
    "            @inbounds u[i] += dt * (λ/(1-λ) * (gl+g_den) / (E_inh - E_exc)) * ((E_inh - u_tgt[i]) * (E_exc - u[i]) + (u_tgt[i]-E_exc) * (E_inh - u[i]))\n",
    "        end\n",
    "    end\n",
    "    for i in N_out+1:N\n",
    "        @inbounds u[i] += dt * (-gl*(v[i] .- E1) + g_den*(v[i]-u[i]) + g_exc[i-N_out] * (E_exc - u[i]) + g_inh[i-N_out] * (E_inh - u[i]))\n",
    "    end\n",
    "    for i in 1:N\n",
    "        @inbounds v[i] += dt * (-gl*(v[i] .- E1) + I_den[i])\n",
    "        @inbounds rbar[i] += dt * (-gl*rbar[i] .+ ((gl*g_den)/(gl+g_den)) * past_den_r[i])\n",
    "    end\n",
    "    r = rho.(u)\n",
    "    rstar = rho.((g_den/(gl+g_den))*v.+(gl*E1)/(gl+g_den))\n",
    "    memory!(r)\n",
    "    for i in 1:N, j in 1:N\n",
    "        @inbounds W[i,j] += dt*lrs[i,j]*(r[i]-rstar[i])*rbar[j]\n",
    "    end\n",
    "    return nothing;\n",
    "end;"
   ]
  },
  {
   "cell_type": "markdown",
   "metadata": {},
   "source": [
    "---"
   ]
  },
  {
   "cell_type": "code",
   "execution_count": 11,
   "metadata": {},
   "outputs": [
    {
     "data": {
      "text/plain": [
       "train! (generic function with 1 method)"
      ]
     },
     "metadata": {},
     "output_type": "display_data"
    }
   ],
   "source": [
    "function train!(u::Vector{Float64}, v::Vector{Float64}, rbar::Vector{Float64}, W::Matrix{Float64}, target::Function, T::Int, n_trials::Int; test_every::Int=1000, θ::Float64=-60., dt::Float64=0.1)\n",
    "    for trial in 0:n_trials-1\n",
    "        for t in 0:dt:T-dt\n",
    "            step!(u, target(t), v, rbar, W, teacher=true)\n",
    "        end\n",
    "        (trial % test_every == 0) && test!(u, v, rbar, W, T, dt=dt, θ=θ)\n",
    "    end\n",
    "end"
   ]
  },
  {
   "cell_type": "markdown",
   "metadata": {},
   "source": [
    "---"
   ]
  },
  {
   "cell_type": "markdown",
   "metadata": {},
   "source": [
    "## Testing and plotting\n",
    "\n",
    "I was quite proud of my idea of showing in black the times where the produced/replayed output agrees with the target and then in two different colors when only the target or the produced output was on. Then I remembered that Ben presented something like this at the Xmas symposium last year ahah. Anyway that's what I do for testing, much quantitative. See plot bellow produced by `train!` (in fact, by the calls of `test!` in `train!`)."
   ]
  },
  {
   "cell_type": "code",
   "execution_count": 12,
   "metadata": {},
   "outputs": [],
   "source": [
    "function test!(u::Vector{Float64}, v::Vector{Float64}, rbar::Vector{Float64}, W::Matrix{Float64}, T::Int; dt::Float64=0.1, θ::Float64=-60)\n",
    "    u_prod = Vector{Vector{Float64}}()\n",
    "    for t in 0:dt:T-dt\n",
    "        step!(u, zeros(N_out), v, rbar, W, teacher=false)\n",
    "        isinteger(t) && push!(u_prod, u[1:N_out])\n",
    "    end\n",
    "    check(vv) = reduce(hcat, vv) .> θ\n",
    "    display(colors[1 .+ 2*check(u_prod) + check([target(t) for t in 0:T-1])])\n",
    "end\n",
    "colors = [colorant\"white\", colorant\"red\", colorant\"cyan\", colorant\"black\"];"
   ]
  },
  {
   "cell_type": "markdown",
   "metadata": {},
   "source": [
    "---"
   ]
  },
  {
   "cell_type": "markdown",
   "metadata": {},
   "source": [
    "## Variables and target"
   ]
  },
  {
   "cell_type": "code",
   "execution_count": 13,
   "metadata": {},
   "outputs": [],
   "source": [
    "v::Vector{Float64} = E1*ones(N)\n",
    "u::Vector{Float64} = E1*ones(N)\n",
    "rbar::Vector{Float64} = rho.(u);\n",
    "W::Matrix{Float64} = rand(W_init, N, N);"
   ]
  },
  {
   "cell_type": "code",
   "execution_count": 14,
   "metadata": {},
   "outputs": [],
   "source": [
    "m_den::Vector{Vector{Float64}} = create_queues!(d_den)\n",
    "m_som_exc::Vector{Vector{Float64}} = create_queues!(d_som_exc)\n",
    "m_som_inh::Vector{Vector{Float64}} = create_queues!(d_som_inh);"
   ]
  },
  {
   "cell_type": "code",
   "execution_count": 15,
   "metadata": {},
   "outputs": [
    {
     "data": {
      "image/png": "[encoded data removed]",
      "text/html": [
       "<img src=\"data:image/png;base64,iVBORw0KGgoAAAANSUhEUgAAASwAAAAnCAAAAACQpireAAAABGdBTUEAALGPC/xhBQAAAAFzUkdCAK7OHOkAAAAgY0hSTQAAeiYAAICEAAD6AAAAgOgAAHUwAADqYAAAOpgAABdwnLpRPAAAAL5JREFUaAXtwYGJAzAQA8E9UP8tKx0I4WCc529GJhkS87+IVROrJiKTDIk5N/wisWpi1cQXzC3mjSERqyZWTURDYpLhnLllSEwiVk2smojMOfPGkJhkSMSqiVUT0ZCYX2SSITGJWDWxaiIyyZCYZEjMLeacWDWxauIR8/eIVROrJr5gbhkS84ZYNbFqGs6ZW0wynDPnxKqJVZO5ZUhMMiQmGc4NiVg1sWriGnPOvGESsWpi1cQjQ2J+kVg1sWofaGggks6oukkAAAAASUVORK5C\">"
      ],
      "text/plain": [
       "13×100 Matrix{Gray{Bool}}:\n",
       " 1  1  1  1  1  1  1  1  1  1  0  0  0  …  1  1  1  1  1  1  1  1  1  1  1  1\n",
       " 1  1  1  1  1  1  1  1  1  1  1  1  1     0  0  0  0  0  0  0  0  0  0  0  0\n",
       " 1  1  1  1  1  1  1  1  1  1  1  1  1     1  1  0  0  0  0  0  0  0  0  0  0\n",
       " 1  1  1  1  1  1  1  1  1  1  0  0  0     0  0  1  1  1  1  1  1  1  1  1  1\n",
       " 1  1  1  1  1  1  1  1  1  1  1  1  1     1  1  0  0  0  0  0  0  0  0  0  0\n",
       " 1  1  1  1  1  1  1  1  1  1  0  0  0  …  0  0  1  1  1  1  1  1  1  1  1  1\n",
       " 1  1  1  1  1  1  1  1  1  1  1  1  1     1  1  1  1  1  1  1  1  1  1  1  1\n",
       " 1  1  1  1  1  1  1  1  1  1  1  1  1     1  1  1  1  1  1  1  1  1  1  1  1\n",
       " 1  1  1  1  1  1  1  1  1  1  1  1  1     1  1  1  1  1  1  1  1  1  1  1  1\n",
       " 0  0  0  0  0  0  0  0  0  0  0  0  0     1  1  1  1  1  1  1  1  1  1  1  1\n",
       " 1  1  1  1  1  1  1  1  1  1  1  1  1  …  1  1  0  0  0  0  0  0  0  0  0  0\n",
       " 1  1  1  1  1  1  1  1  1  1  1  1  1     1  1  1  1  1  1  1  1  1  1  1  1\n",
       " 1  1  1  1  1  1  1  1  1  1  1  1  1     1  1  1  1  1  1  1  1  1  1  1  1"
      ]
     },
     "metadata": {},
     "output_type": "display_data"
    }
   ],
   "source": [
    "chords = [rand(N_out).>.75 for j in 1:10]\n",
    "target(t) = E1*ones(N_out) + 20*Float64.(chords[Int(t÷10+1)]);\n",
    "broadcast.(Gray, (!).(mapreduce(permutedims,vcat,repeat(chords, inner=10))'))"
   ]
  },
  {
   "cell_type": "markdown",
   "metadata": {},
   "source": [
    "---"
   ]
  },
  {
   "cell_type": "markdown",
   "metadata": {},
   "source": [
    "Bellow, red is target only, cyan is produced only, black is both, white is neither"
   ]
  },
  {
   "cell_type": "code",
   "execution_count": 19,
   "metadata": {},
   "outputs": [
    {
     "data": {
      "image/png": "[encoded data removed]",
      "text/html": [
       "<img src=\"data:image/png;base64,iVBORw0KGgoAAAANSUhEUgAAASwAAAAnCAIAAAA6r+JVAAAABGdBTUEAALGPC/xhBQAAAAFzUkdCAK7OHOkAAAAgY0hSTQAAeiYAAICEAAD6AAAAgOgAAHUwAADqYAAAOpgAABdwnLpRPAAAARhJREFUeAHtwVGKVAEQBMEs6PtfuYTFHfxQBLWn90lGTFuWJCxpkf4Xg6RTg6RTE74rfyL8WsuShCUtv1O+mAQ92SDp1CDp1PB3yoUWvbToDRJ2DJJODZJOTVmTsKRlScLjtOglYUnLjkHSqUHSqQnflX+t5XFa9AYJS1qWJOwYJJ0aJJ2asiZhSYserWVJwpKWHYOkU4OkU8OeliUJS1qWJCxp0UvL0wySTg2STg16jxbpZwZJpwZJp4ZP4asrn1r0krCkRfsGSacGSaeGhA/lOVr00rIk4XFanmaQdGqQdGrS8qEIEpa0LElY0rIk4XESdgySTg2STk3RD1oep0Vv0LJjkHRqkHRq0HskLGnRkw2STg2STn0DETxLgXUNpJIAAAAASUVORK5C\">"
      ],
      "text/plain": [
       "13×100 Matrix{RGB{N0f8}}:\n",
       " RGB(1.0, 1.0, 1.0)  RGB(1.0, 1.0, 1.0)  …  RGB(1.0, 1.0, 1.0)\n",
       " RGB(0.0, 1.0, 1.0)  RGB(1.0, 1.0, 1.0)     RGB(1.0, 0.0, 0.0)\n",
       " RGB(0.0, 1.0, 1.0)  RGB(1.0, 1.0, 1.0)     RGB(1.0, 0.0, 0.0)\n",
       " RGB(1.0, 1.0, 1.0)  RGB(1.0, 1.0, 1.0)     RGB(1.0, 1.0, 1.0)\n",
       " RGB(0.0, 1.0, 1.0)  RGB(1.0, 1.0, 1.0)     RGB(1.0, 0.0, 0.0)\n",
       " RGB(1.0, 1.0, 1.0)  RGB(1.0, 1.0, 1.0)  …  RGB(1.0, 1.0, 1.0)\n",
       " RGB(1.0, 1.0, 1.0)  RGB(1.0, 1.0, 1.0)     RGB(1.0, 1.0, 1.0)\n",
       " RGB(1.0, 1.0, 1.0)  RGB(1.0, 1.0, 1.0)     RGB(1.0, 1.0, 1.0)\n",
       " RGB(1.0, 1.0, 1.0)  RGB(0.0, 1.0, 1.0)     RGB(1.0, 1.0, 1.0)\n",
       " RGB(1.0, 0.0, 0.0)  RGB(1.0, 0.0, 0.0)     RGB(1.0, 1.0, 1.0)\n",
       " RGB(0.0, 1.0, 1.0)  RGB(1.0, 1.0, 1.0)  …  RGB(1.0, 0.0, 0.0)\n",
       " RGB(1.0, 1.0, 1.0)  RGB(1.0, 1.0, 1.0)     RGB(1.0, 1.0, 1.0)\n",
       " RGB(1.0, 1.0, 1.0)  RGB(1.0, 1.0, 1.0)     RGB(1.0, 1.0, 1.0)"
      ]
     },
     "metadata": {},
     "output_type": "display_data"
    },
    {
     "data": {
      "image/png": "[encoded data removed]",
      "text/html": [
       "<img src=\"data:image/png;base64,iVBORw0KGgoAAAANSUhEUgAAASwAAAAnCAIAAAA6r+JVAAAABGdBTUEAALGPC/xhBQAAAAFzUkdCAK7OHOkAAAAgY0hSTQAAeiYAAICEAAD6AAAAgOgAAHUwAADqYAAAOpgAABdwnLpRPAAAAWpJREFUeAHtwVFu4zAQRMHXwNz/yp0fawEjS1gMTY+UdFXZZoEYk9jEZsBE3EwREa2KiGhV4sH8hBmz2URiE5sFooNE3FkREa2KiGhV3JHNJZkONvEBEgNiSRERrYqIaFVmG4kFYsxmE4nbsRkwf4/EPHGCzTPzYJYUEdGqiIhWJSaYGTYLTAeb2EYcJDaxmWdOkNijiIhWRUS0KrOLJN7BfGMTN2QONptIPBOviRNsTjMTiohoVUREq2Ib27yD+EZiE5tNJDaxmWd+KZtn5uqKiGhVRESr4vLMg3gP08Em4n+KiGhVRESr4j7MwSb+kXhF/IjNPBNziohoVUREq0Limbg8m7cyd2bzipkgDhLzRCubAXNRRUS0KiKiVclmwPwV4iCxic0mEq+YCeZgs0CMSXycWCOxRxERrYqIaFUmMAeb27GJg9nGZo8iIloVEdGqiGXiBIlNbAZMJ/MgPkcsMQ2KiGhVRESrLw7dY3z9iqB3AAAAAElFTkSuQmCC\">"
      ],
      "text/plain": [
       "13×100 Matrix{RGB{N0f8}}:\n",
       " RGB(1.0, 1.0, 1.0)  RGB(1.0, 1.0, 1.0)  …  RGB(1.0, 1.0, 1.0)\n",
       " RGB(0.0, 1.0, 1.0)  RGB(1.0, 1.0, 1.0)     RGB(0.0, 0.0, 0.0)\n",
       " RGB(0.0, 1.0, 1.0)  RGB(1.0, 1.0, 1.0)     RGB(0.0, 0.0, 0.0)\n",
       " RGB(1.0, 1.0, 1.0)  RGB(1.0, 1.0, 1.0)     RGB(1.0, 1.0, 1.0)\n",
       " RGB(0.0, 1.0, 1.0)  RGB(0.0, 1.0, 1.0)     RGB(1.0, 0.0, 0.0)\n",
       " RGB(1.0, 1.0, 1.0)  RGB(1.0, 1.0, 1.0)  …  RGB(1.0, 1.0, 1.0)\n",
       " RGB(1.0, 1.0, 1.0)  RGB(1.0, 1.0, 1.0)     RGB(1.0, 1.0, 1.0)\n",
       " RGB(1.0, 1.0, 1.0)  RGB(1.0, 1.0, 1.0)     RGB(1.0, 1.0, 1.0)\n",
       " RGB(1.0, 1.0, 1.0)  RGB(1.0, 1.0, 1.0)     RGB(1.0, 1.0, 1.0)\n",
       " RGB(1.0, 0.0, 0.0)  RGB(1.0, 0.0, 0.0)     RGB(1.0, 1.0, 1.0)\n",
       " RGB(0.0, 1.0, 1.0)  RGB(0.0, 1.0, 1.0)  …  RGB(0.0, 0.0, 0.0)\n",
       " RGB(1.0, 1.0, 1.0)  RGB(1.0, 1.0, 1.0)     RGB(1.0, 1.0, 1.0)\n",
       " RGB(1.0, 1.0, 1.0)  RGB(1.0, 1.0, 1.0)     RGB(1.0, 1.0, 1.0)"
      ]
     },
     "metadata": {},
     "output_type": "display_data"
    },
    {
     "data": {
      "image/png": "[encoded data removed]",
      "text/html": [
       "<img src=\"data:image/png;base64,iVBORw0KGgoAAAANSUhEUgAAASwAAAAnCAIAAAA6r+JVAAAABGdBTUEAALGPC/xhBQAAAAFzUkdCAK7OHOkAAAAgY0hSTQAAeiYAAICEAAD6AAAAgOgAAHUwAADqYAAAOpgAABdwnLpRPAAAAXpJREFUeAHtwYGK20AQRMHXMP//yx0QpxCds/jO2vVIuKvKNmtIYhGbHzMRl1ZERKsiIlqV+GIms81UYifxY+I3bAbMRUki7qyIiFZFRLQqduI7cy1mZxM728QyYiexRhERrYqIaFVmGYkjMYnNgPkF8UDidmyOzAeT2IjZbAbMKUVEtCoiolWJIXOOzZG5FvPAJpYRO4lFbGYwX8ROYkCcUkREqyIiWpVZRRKL2Dxj4nLMzmYNScwgHthszGRFRLQqIqJVsYxt1pDEM+IlNotILGLzjPkUtrmbIiJaFRHRqrgP8T5mNpuI/ykiolUREa2K+zA7m/hL4khMYjNgYpoiIloVEdGqkNiI+7A5Mh/M5shMIrER34mrshkwF1VERKsiIlqVbAbM55HYiNlsTjBjEkfiFeaBzca8QoxJvJ04R2KNIiJaFRHRqkz8w2Zj7sPmyFyCGRLvYyaxWaOIiFZFRLQqYiWxk1jE5shci+gknjOdiohoVUREqz+/f2iA5iaCCQAAAABJRU5ErkJg\">"
      ],
      "text/plain": [
       "13×100 Matrix{RGB{N0f8}}:\n",
       " RGB(1.0, 1.0, 1.0)  RGB(1.0, 1.0, 1.0)  …  RGB(1.0, 1.0, 1.0)\n",
       " RGB(0.0, 1.0, 1.0)  RGB(1.0, 1.0, 1.0)     RGB(0.0, 0.0, 0.0)\n",
       " RGB(0.0, 1.0, 1.0)  RGB(0.0, 1.0, 1.0)     RGB(0.0, 0.0, 0.0)\n",
       " RGB(1.0, 1.0, 1.0)  RGB(1.0, 1.0, 1.0)     RGB(1.0, 1.0, 1.0)\n",
       " RGB(0.0, 1.0, 1.0)  RGB(0.0, 1.0, 1.0)     RGB(0.0, 0.0, 0.0)\n",
       " RGB(1.0, 1.0, 1.0)  RGB(1.0, 1.0, 1.0)  …  RGB(1.0, 1.0, 1.0)\n",
       " RGB(1.0, 1.0, 1.0)  RGB(1.0, 1.0, 1.0)     RGB(1.0, 1.0, 1.0)\n",
       " RGB(1.0, 1.0, 1.0)  RGB(1.0, 1.0, 1.0)     RGB(1.0, 1.0, 1.0)\n",
       " RGB(1.0, 1.0, 1.0)  RGB(1.0, 1.0, 1.0)     RGB(1.0, 1.0, 1.0)\n",
       " RGB(1.0, 0.0, 0.0)  RGB(0.0, 0.0, 0.0)     RGB(1.0, 1.0, 1.0)\n",
       " RGB(0.0, 1.0, 1.0)  RGB(0.0, 1.0, 1.0)  …  RGB(0.0, 0.0, 0.0)\n",
       " RGB(1.0, 1.0, 1.0)  RGB(1.0, 1.0, 1.0)     RGB(1.0, 1.0, 1.0)\n",
       " RGB(1.0, 1.0, 1.0)  RGB(1.0, 1.0, 1.0)     RGB(1.0, 1.0, 1.0)"
      ]
     },
     "metadata": {},
     "output_type": "display_data"
    },
    {
     "data": {
      "image/png": "[encoded data removed]",
      "text/html": [
       "<img src=\"data:image/png;base64,iVBORw0KGgoAAAANSUhEUgAAASwAAAAnCAIAAAA6r+JVAAAABGdBTUEAALGPC/xhBQAAAAFzUkdCAK7OHOkAAAAgY0hSTQAAeiYAAICEAAD6AAAAgOgAAHUwAADqYAAAOpgAABdwnLpRPAAAAXlJREFUeAHtwYFq40AQRMHXMP//y32wWHCKs3ESaTMS7qqyzRqSWMTmFRNxD0VEtCoiolWJB3My2ywiMYgp8Ss2E+aqJAYRt1RERKsiIloVG/FgLs9mMAE2g4nziY3EGkVEtCoiolWZZST2xElsXjE/IDYSt2OzZ96YxCDOZjNhDikiolUREa1KfGROYrNnLspsbOJs4onEIjYT5hBJTIhDiohoVUREqzKrSGIRmwkTl2Oe2KwhiQlxjM2EOaSIiFZFRLQqlrHNGpKYEMfYLCKxiM2EeTu2uZsiIloVEdGqiC+Zk9hEfKaIiFZFRLQqbsg2b09sJBaxGUwsVEREqyIiWhUSg7gPmz3zdszGZhGJQdyHzZ65uiIiWhUR0apks2femMQgzmbzivkViT1xEpvBHCKeSPwV8WCmxDdIrFFERKsiIlqVif/YDOY+bPbMtZiPxN8xr5lvsFmjiIhWRUS0KmIB8URiEZvBXIK4FvFgLqqIiFZFRLT6ByIVaX4+VWodAAAAAElFTkSuQmCC\">"
      ],
      "text/plain": [
       "13×100 Matrix{RGB{N0f8}}:\n",
       " RGB(1.0, 1.0, 1.0)  RGB(1.0, 1.0, 1.0)  …  RGB(1.0, 1.0, 1.0)\n",
       " RGB(0.0, 1.0, 1.0)  RGB(1.0, 1.0, 1.0)     RGB(0.0, 0.0, 0.0)\n",
       " RGB(0.0, 1.0, 1.0)  RGB(0.0, 1.0, 1.0)     RGB(0.0, 0.0, 0.0)\n",
       " RGB(1.0, 1.0, 1.0)  RGB(1.0, 1.0, 1.0)     RGB(1.0, 1.0, 1.0)\n",
       " RGB(0.0, 1.0, 1.0)  RGB(0.0, 1.0, 1.0)     RGB(0.0, 0.0, 0.0)\n",
       " RGB(1.0, 1.0, 1.0)  RGB(1.0, 1.0, 1.0)  …  RGB(1.0, 1.0, 1.0)\n",
       " RGB(1.0, 1.0, 1.0)  RGB(1.0, 1.0, 1.0)     RGB(1.0, 1.0, 1.0)\n",
       " RGB(1.0, 1.0, 1.0)  RGB(1.0, 1.0, 1.0)     RGB(1.0, 1.0, 1.0)\n",
       " RGB(1.0, 1.0, 1.0)  RGB(1.0, 1.0, 1.0)     RGB(1.0, 1.0, 1.0)\n",
       " RGB(1.0, 0.0, 0.0)  RGB(0.0, 0.0, 0.0)     RGB(1.0, 1.0, 1.0)\n",
       " RGB(0.0, 1.0, 1.0)  RGB(0.0, 1.0, 1.0)  …  RGB(0.0, 0.0, 0.0)\n",
       " RGB(1.0, 1.0, 1.0)  RGB(1.0, 1.0, 1.0)     RGB(1.0, 1.0, 1.0)\n",
       " RGB(1.0, 1.0, 1.0)  RGB(1.0, 1.0, 1.0)     RGB(1.0, 1.0, 1.0)"
      ]
     },
     "metadata": {},
     "output_type": "display_data"
    },
    {
     "data": {
      "image/png": "[encoded data removed]",
      "text/html": [
       "<img src=\"data:image/png;base64,iVBORw0KGgoAAAANSUhEUgAAASwAAAAnCAIAAAA6r+JVAAAABGdBTUEAALGPC/xhBQAAAAFzUkdCAK7OHOkAAAAgY0hSTQAAeiYAAICEAAD6AAAAgOgAAHUwAADqYAAAOpgAABdwnLpRPAAAAXZJREFUeAHtwYFu1EAQRMHX0vz/LzfSKkbYwbmAdxmb66qyzVRiI7GIzQkT8TBFRLQqIqJViQ9mDrOxWURiEEfiGps9c3sSg4hHKiKiVRERrYqN+GBuz2YwATaDiYUksUYREa2KiGhVZhmJQcxmc8L8AfGJxOPY7Jn3JYlFbE6YS4qIaFVERKsSR2YSm8HclPnEJtaTxCI2e2YOSZwQlxQR0aqIiFZlVpHEIjYnTDyAbaYSG4k9MYnNYCYrIqJVERGtimVss4YkTohrbF4xf0MSi9i8Yv5zZmPzNEVEtCoiolURXzJz2Cbid4qIaFVERKvigWwTP0kMYjabEyamKSKiVRERrQqJQTyHzZ55YzaDmUwSJ8Rd2eyZuysiolUREa1KNnvmjUkMYjabE+YaiRPiGps9M4ck/hVxZI7EN0isUUREqyIiWpWJX9gM5jlsTpjAvGa+wWaNIiJaFRHRqoiVxEZiEZs9cy+ikzgy91JERKsiIlr9APevan7vd6tkAAAAAElFTkSuQmCC\">"
      ],
      "text/plain": [
       "13×100 Matrix{RGB{N0f8}}:\n",
       " RGB(1.0, 1.0, 1.0)  RGB(1.0, 1.0, 1.0)  …  RGB(1.0, 1.0, 1.0)\n",
       " RGB(0.0, 1.0, 1.0)  RGB(1.0, 1.0, 1.0)     RGB(0.0, 0.0, 0.0)\n",
       " RGB(0.0, 1.0, 1.0)  RGB(0.0, 1.0, 1.0)     RGB(0.0, 0.0, 0.0)\n",
       " RGB(1.0, 1.0, 1.0)  RGB(1.0, 1.0, 1.0)     RGB(1.0, 1.0, 1.0)\n",
       " RGB(0.0, 1.0, 1.0)  RGB(0.0, 1.0, 1.0)     RGB(0.0, 0.0, 0.0)\n",
       " RGB(1.0, 1.0, 1.0)  RGB(1.0, 1.0, 1.0)  …  RGB(1.0, 1.0, 1.0)\n",
       " RGB(1.0, 1.0, 1.0)  RGB(1.0, 1.0, 1.0)     RGB(1.0, 1.0, 1.0)\n",
       " RGB(1.0, 1.0, 1.0)  RGB(1.0, 1.0, 1.0)     RGB(1.0, 1.0, 1.0)\n",
       " RGB(1.0, 1.0, 1.0)  RGB(1.0, 1.0, 1.0)     RGB(1.0, 1.0, 1.0)\n",
       " RGB(1.0, 0.0, 0.0)  RGB(0.0, 0.0, 0.0)     RGB(1.0, 1.0, 1.0)\n",
       " RGB(0.0, 1.0, 1.0)  RGB(0.0, 1.0, 1.0)  …  RGB(0.0, 0.0, 0.0)\n",
       " RGB(1.0, 1.0, 1.0)  RGB(1.0, 1.0, 1.0)     RGB(1.0, 1.0, 1.0)\n",
       " RGB(1.0, 1.0, 1.0)  RGB(1.0, 1.0, 1.0)     RGB(1.0, 1.0, 1.0)"
      ]
     },
     "metadata": {},
     "output_type": "display_data"
    },
    {
     "data": {
      "image/png": "[encoded data removed]",
      "text/html": [
       "<img src=\"data:image/png;base64,iVBORw0KGgoAAAANSUhEUgAAASwAAAAnCAIAAAA6r+JVAAAABGdBTUEAALGPC/xhBQAAAAFzUkdCAK7OHOkAAAAgY0hSTQAAeiYAAICEAAD6AAAAgOgAAHUwAADqYAAAOpgAABdwnLpRPAAAAXxJREFUeAHtwQGqpEAQRMGXUPe/ci40DqwDImj3L2UyomwzlfiQWMTmgIl4mSIiWhUR0arExsxhPmwWkRjEN3GPzQHzVBJ7It6kiIhWRUS0Kj7ExjyezWACbPZMLCAxiMmKiGhVRESrMstIDGI2mwPmFkm8js2e+WESg5jN5oy5ooiIVkVEtCrxzUxiM5jXsE38AYlBzGazZyaRGMQhcUUREa2KiGhVZhVJLGJzwMQb2AxmNolBbMQkNgfMLUVEtCoiolWxjG3WkMQBcY/NGXOJxCBmszljfobNYF6jiIhWRUS0Kl7IbMRyZhKbwUTsFBHRqoiIVsUb2QwmQGIQs9nsmZiviIhWRUS0KiQG8R42e+aH2QxmNolBbMTj2eyZpysiolUREa1KNgfM75EYxGw2B8w9EmfEJTYHzD0Sg1hObMwV4kNijSIiWhUR0apM/MdmMO9hc8b8LnOL+bBZo4iIVkVEtCriT0hiEZs981CigfhmnqWIiFZFRLT6BxBFa368Y6aqAAAAAElFTkSuQmCC\">"
      ],
      "text/plain": [
       "13×100 Matrix{RGB{N0f8}}:\n",
       " RGB(1.0, 1.0, 1.0)  RGB(1.0, 1.0, 1.0)  …  RGB(1.0, 1.0, 1.0)\n",
       " RGB(0.0, 1.0, 1.0)  RGB(1.0, 1.0, 1.0)     RGB(0.0, 0.0, 0.0)\n",
       " RGB(0.0, 1.0, 1.0)  RGB(0.0, 1.0, 1.0)     RGB(0.0, 0.0, 0.0)\n",
       " RGB(1.0, 1.0, 1.0)  RGB(1.0, 1.0, 1.0)     RGB(1.0, 1.0, 1.0)\n",
       " RGB(0.0, 1.0, 1.0)  RGB(0.0, 1.0, 1.0)     RGB(0.0, 0.0, 0.0)\n",
       " RGB(1.0, 1.0, 1.0)  RGB(1.0, 1.0, 1.0)  …  RGB(1.0, 1.0, 1.0)\n",
       " RGB(1.0, 1.0, 1.0)  RGB(1.0, 1.0, 1.0)     RGB(1.0, 1.0, 1.0)\n",
       " RGB(1.0, 1.0, 1.0)  RGB(1.0, 1.0, 1.0)     RGB(1.0, 1.0, 1.0)\n",
       " RGB(1.0, 1.0, 1.0)  RGB(1.0, 1.0, 1.0)     RGB(1.0, 1.0, 1.0)\n",
       " RGB(1.0, 0.0, 0.0)  RGB(0.0, 0.0, 0.0)     RGB(1.0, 1.0, 1.0)\n",
       " RGB(0.0, 1.0, 1.0)  RGB(0.0, 1.0, 1.0)  …  RGB(0.0, 0.0, 0.0)\n",
       " RGB(1.0, 1.0, 1.0)  RGB(1.0, 1.0, 1.0)     RGB(1.0, 1.0, 1.0)\n",
       " RGB(1.0, 1.0, 1.0)  RGB(1.0, 1.0, 1.0)     RGB(1.0, 1.0, 1.0)"
      ]
     },
     "metadata": {},
     "output_type": "display_data"
    },
    {
     "data": {
      "image/png": "[encoded data removed]",
      "text/html": [
       "<img src=\"data:image/png;base64,iVBORw0KGgoAAAANSUhEUgAAASwAAAAnCAIAAAA6r+JVAAAABGdBTUEAALGPC/xhBQAAAAFzUkdCAK7OHOkAAAAgY0hSTQAAeiYAAICEAAD6AAAAgOgAAHUwAADqYAAAOpgAABdwnLpRPAAAAXNJREFUeAHtwQGKIzEQBMEs6P9/uY4TXtgxCINH2rZwRZRt9pDEJjYTJuIwRUS0KiKiVYlnZg3bbCIxiGfiHpsr8/EkrkScpIiIVkVEtCpOZDOYAJsrExtIDGKxIiJaFRHRqswuktjEZsLcIonj2FyZ7yWJTWxeMe8oIqJVERGtSjwza9jmNLaJPyAxiNVsrswiEoOYEu8oIqJVERGtyuwiiU1sJkycwGYwq0kM4kEsYjNhbikiolUREa2KbWyzhyQmxD02E+YeiSuxiM0r5mvYDOYYRUS0KiKiVXEg8yC2M4vYXJmI/4qIaFVERKviRDaDCZAYxGo2EyaWKSKiVRERrQqJQZzD5sp8MZvBrCYxiGfiU9lcmU9XRESrIiJalWwmzPeRGMRqNhPmHolXxFtsJsw9EoPYTjyYd4gfEnsUEdGqiIhWZeIXm8Gcw+YVE28yP2z2KCKiVRERrYr4E5LYxObKfDrRQDyYz1JERKsiIlr9A8R8aX/VQddnAAAAAElFTkSuQmCC\">"
      ],
      "text/plain": [
       "13×100 Matrix{RGB{N0f8}}:\n",
       " RGB(1.0, 1.0, 1.0)  RGB(1.0, 1.0, 1.0)  …  RGB(1.0, 1.0, 1.0)\n",
       " RGB(0.0, 1.0, 1.0)  RGB(0.0, 1.0, 1.0)     RGB(0.0, 0.0, 0.0)\n",
       " RGB(0.0, 1.0, 1.0)  RGB(0.0, 1.0, 1.0)     RGB(0.0, 0.0, 0.0)\n",
       " RGB(1.0, 1.0, 1.0)  RGB(1.0, 1.0, 1.0)     RGB(1.0, 1.0, 1.0)\n",
       " RGB(0.0, 1.0, 1.0)  RGB(0.0, 1.0, 1.0)     RGB(0.0, 0.0, 0.0)\n",
       " RGB(1.0, 1.0, 1.0)  RGB(1.0, 1.0, 1.0)  …  RGB(1.0, 1.0, 1.0)\n",
       " RGB(1.0, 1.0, 1.0)  RGB(1.0, 1.0, 1.0)     RGB(1.0, 1.0, 1.0)\n",
       " RGB(1.0, 1.0, 1.0)  RGB(1.0, 1.0, 1.0)     RGB(1.0, 1.0, 1.0)\n",
       " RGB(1.0, 1.0, 1.0)  RGB(1.0, 1.0, 1.0)     RGB(1.0, 1.0, 1.0)\n",
       " RGB(1.0, 0.0, 0.0)  RGB(0.0, 0.0, 0.0)     RGB(1.0, 1.0, 1.0)\n",
       " RGB(0.0, 1.0, 1.0)  RGB(0.0, 1.0, 1.0)  …  RGB(0.0, 0.0, 0.0)\n",
       " RGB(1.0, 1.0, 1.0)  RGB(1.0, 1.0, 1.0)     RGB(1.0, 1.0, 1.0)\n",
       " RGB(1.0, 1.0, 1.0)  RGB(1.0, 1.0, 1.0)     RGB(1.0, 1.0, 1.0)"
      ]
     },
     "metadata": {},
     "output_type": "display_data"
    },
    {
     "data": {
      "image/png": "[encoded data removed]",
      "text/html": [
       "<img src=\"data:image/png;base64,iVBORw0KGgoAAAANSUhEUgAAASwAAAAnCAIAAAA6r+JVAAAABGdBTUEAALGPC/xhBQAAAAFzUkdCAK7OHOkAAAAgY0hSTQAAeiYAAICEAAD6AAAAgOgAAHUwAADqYAAAOpgAABdwnLpRPAAAAXFJREFUeAHtwQGq3DAQRMHXMPe/cocIf4gWTCCWMhbbVWWbPSSxic0NE3GYIiJaFRHRqsQns4ZtNpEYxCfxjM3MvJ7ETMRJiohoVUREq+JENoMJsJmZ2EBiEIsVEdGqiIhWZXaRxCY2N8wzEoM4h83MfC9JbGJzwzxSRESrIiJalfhk1rDNcWwGExtJYhObmVlEYiYu4pEiIloVEdGqzC6S2MTmhokD2GYTiUFcxCI2M7NGERGtiohoVWxjmz0kcUM8Y3PDPCMxE4vY/I35GjaDOUYREa2KiGhVHMhcxHZmEZuZifitiIhWRUS0Kk5kM5gAiUGsZnPDxDJFRLQqIqJVITGIc9jMzBezGcxqEoP4JN7KZmberoiIVkVEtCrZzMwXkxjEajY3zDMSN8QzNjfMMxKDeDvxQ2KPIiJaFRHRqkz8wWYw57C5YQJxMf/C/LDZo4iIVkVEtCri/5AYxGo2M/NSopO4mHcpIqJVERGtfgFYy2l/QGXmbwAAAABJRU5ErkJg\">"
      ],
      "text/plain": [
       "13×100 Matrix{RGB{N0f8}}:\n",
       " RGB(1.0, 1.0, 1.0)  RGB(1.0, 1.0, 1.0)  …  RGB(1.0, 1.0, 1.0)\n",
       " RGB(0.0, 1.0, 1.0)  RGB(0.0, 1.0, 1.0)     RGB(0.0, 0.0, 0.0)\n",
       " RGB(0.0, 1.0, 1.0)  RGB(0.0, 1.0, 1.0)     RGB(0.0, 0.0, 0.0)\n",
       " RGB(1.0, 1.0, 1.0)  RGB(1.0, 1.0, 1.0)     RGB(1.0, 1.0, 1.0)\n",
       " RGB(0.0, 1.0, 1.0)  RGB(0.0, 1.0, 1.0)     RGB(0.0, 0.0, 0.0)\n",
       " RGB(1.0, 1.0, 1.0)  RGB(1.0, 1.0, 1.0)  …  RGB(1.0, 1.0, 1.0)\n",
       " RGB(1.0, 1.0, 1.0)  RGB(1.0, 1.0, 1.0)     RGB(1.0, 1.0, 1.0)\n",
       " RGB(1.0, 1.0, 1.0)  RGB(1.0, 1.0, 1.0)     RGB(1.0, 1.0, 1.0)\n",
       " RGB(1.0, 1.0, 1.0)  RGB(1.0, 1.0, 1.0)     RGB(1.0, 1.0, 1.0)\n",
       " RGB(1.0, 0.0, 0.0)  RGB(0.0, 0.0, 0.0)     RGB(1.0, 1.0, 1.0)\n",
       " RGB(0.0, 1.0, 1.0)  RGB(0.0, 1.0, 1.0)  …  RGB(0.0, 0.0, 0.0)\n",
       " RGB(1.0, 1.0, 1.0)  RGB(1.0, 1.0, 1.0)     RGB(1.0, 1.0, 1.0)\n",
       " RGB(1.0, 1.0, 1.0)  RGB(1.0, 1.0, 1.0)     RGB(1.0, 1.0, 1.0)"
      ]
     },
     "metadata": {},
     "output_type": "display_data"
    },
    {
     "data": {
      "image/png": "[encoded data removed]",
      "text/html": [
       "<img src=\"data:image/png;base64,iVBORw0KGgoAAAANSUhEUgAAASwAAAAnCAIAAAA6r+JVAAAABGdBTUEAALGPC/xhBQAAAAFzUkdCAK7OHOkAAAAgY0hSTQAAeiYAAICEAAD6AAAAgOgAAHUwAADqYAAAOpgAABdwnLpRPAAAAXpJREFUeAHtwdFKBDEQRNFb0P//yyWGVYwQfJjEnmHrnLLNIRKD2M1mwUQ8TBERrYqIaFXiN7OJzWA2k8SCuMZmZm5PYibiSYqIaFVERKvii3kM28Q3m5mJAyRmYo8iIloVEdGqzCmSOMRmwVwjMYjnsFkw70diELvZzMweRUS0KiKiVYnfzB62eRybwcRJEoPYzWZmNpFYEJcUEdGqiIhWZY6RGMRuNgsmnsBmMLtJzMQl5ovNgrmkiIhWRUS0Ks6xGcxmklgQ19gsmGskZmITm7+Yt2EzM3dXRESrIiJaFQ9kXsRxZhObmYn4VEREqyIiWhVPZDOYAIlB7GYzM7FfERGtiohoVUgM4jlsZuaN2QxmN4mZuD2bBXNTRUS0KiKiVclmwbwfiUHsZrNgrpFYENfYzMwmEjNxnHgxS2JN4owiIloVEdGqTPxgM5jnsFkwdyf+j/mbWbM5o4iIVkVEtCrif0gMYjebmbkXcQvixdxLERGtioho9QHicWx65LWFPQAAAABJRU5ErkJg\">"
      ],
      "text/plain": [
       "13×100 Matrix{RGB{N0f8}}:\n",
       " RGB(1.0, 1.0, 1.0)  RGB(1.0, 1.0, 1.0)  …  RGB(1.0, 1.0, 1.0)\n",
       " RGB(0.0, 1.0, 1.0)  RGB(0.0, 1.0, 1.0)     RGB(0.0, 0.0, 0.0)\n",
       " RGB(0.0, 1.0, 1.0)  RGB(1.0, 1.0, 1.0)     RGB(0.0, 0.0, 0.0)\n",
       " RGB(1.0, 1.0, 1.0)  RGB(1.0, 1.0, 1.0)     RGB(1.0, 1.0, 1.0)\n",
       " RGB(0.0, 1.0, 1.0)  RGB(0.0, 1.0, 1.0)     RGB(0.0, 0.0, 0.0)\n",
       " RGB(1.0, 1.0, 1.0)  RGB(1.0, 1.0, 1.0)  …  RGB(1.0, 1.0, 1.0)\n",
       " RGB(1.0, 1.0, 1.0)  RGB(1.0, 1.0, 1.0)     RGB(1.0, 1.0, 1.0)\n",
       " RGB(1.0, 1.0, 1.0)  RGB(1.0, 1.0, 1.0)     RGB(1.0, 1.0, 1.0)\n",
       " RGB(1.0, 1.0, 1.0)  RGB(1.0, 1.0, 1.0)     RGB(1.0, 1.0, 1.0)\n",
       " RGB(1.0, 0.0, 0.0)  RGB(0.0, 0.0, 0.0)     RGB(1.0, 1.0, 1.0)\n",
       " RGB(0.0, 1.0, 1.0)  RGB(0.0, 1.0, 1.0)  …  RGB(0.0, 0.0, 0.0)\n",
       " RGB(1.0, 1.0, 1.0)  RGB(1.0, 1.0, 1.0)     RGB(1.0, 1.0, 1.0)\n",
       " RGB(1.0, 1.0, 1.0)  RGB(1.0, 1.0, 1.0)     RGB(1.0, 1.0, 1.0)"
      ]
     },
     "metadata": {},
     "output_type": "display_data"
    },
    {
     "data": {
      "image/png": "[encoded data removed]",
      "text/html": [
       "<img src=\"data:image/png;base64,iVBORw0KGgoAAAANSUhEUgAAASwAAAAnCAIAAAA6r+JVAAAABGdBTUEAALGPC/xhBQAAAAFzUkdCAK7OHOkAAAAgY0hSTQAAeiYAAICEAAD6AAAAgOgAAHUwAADqYAAAOpgAABdwnLpRPAAAAW1JREFUeAHtwVFqAzEQRMHXMPe/cocIGyLDfq2UWeGuKtvsIYlNbC6YiMMUEdGqiIhWJT6ZNWyzicQgPol7bGbm8SRmIk5SRESrIiJaFSeyGUyAzczEBhKDWKyIiFZFRLQqs4skNrG5YO6RGMQ5bGbme0liE5uZWaOIiFZFRLQq8cmsYZvj2AwmdpIYxGo2M7OIxEysUUREqyIiWpXZRRKb2FwwcQKbwSwmiZlYxGYwL2aNIiJaFRHRqtjGNntI4oK4x+aCuUdiJhaxuWC+jm1OU0REqyIiWhUHMi9iO7OIzcxE/CoiolUREa2KE9kMJkBiEKvZXDCxTBERrYqIaFVIDOIcNjPzxWwGs5rEID6Jp7KZmacrIqJVERGtSjYz88UkBrGazQVzj8RMLGJzwdwiiUOIN4k9iohoVUREqzLxh81gzmEzM09nXsTTmTebPYqIaFVERKsi/oUkNrGZmYcSDcSLeagiIloVEdHqB41zan22qimzAAAAAElFTkSuQmCC\">"
      ],
      "text/plain": [
       "13×100 Matrix{RGB{N0f8}}:\n",
       " RGB(1.0, 1.0, 1.0)  RGB(1.0, 1.0, 1.0)  …  RGB(1.0, 1.0, 1.0)\n",
       " RGB(0.0, 1.0, 1.0)  RGB(0.0, 1.0, 1.0)     RGB(0.0, 0.0, 0.0)\n",
       " RGB(0.0, 1.0, 1.0)  RGB(0.0, 1.0, 1.0)     RGB(0.0, 0.0, 0.0)\n",
       " RGB(1.0, 1.0, 1.0)  RGB(1.0, 1.0, 1.0)     RGB(1.0, 1.0, 1.0)\n",
       " RGB(0.0, 1.0, 1.0)  RGB(0.0, 1.0, 1.0)     RGB(0.0, 0.0, 0.0)\n",
       " RGB(1.0, 1.0, 1.0)  RGB(1.0, 1.0, 1.0)  …  RGB(1.0, 1.0, 1.0)\n",
       " RGB(1.0, 1.0, 1.0)  RGB(1.0, 1.0, 1.0)     RGB(1.0, 1.0, 1.0)\n",
       " RGB(1.0, 1.0, 1.0)  RGB(1.0, 1.0, 1.0)     RGB(1.0, 1.0, 1.0)\n",
       " RGB(1.0, 1.0, 1.0)  RGB(1.0, 1.0, 1.0)     RGB(1.0, 1.0, 1.0)\n",
       " RGB(1.0, 0.0, 0.0)  RGB(0.0, 0.0, 0.0)     RGB(1.0, 1.0, 1.0)\n",
       " RGB(0.0, 1.0, 1.0)  RGB(0.0, 1.0, 1.0)  …  RGB(0.0, 0.0, 0.0)\n",
       " RGB(1.0, 1.0, 1.0)  RGB(1.0, 1.0, 1.0)     RGB(1.0, 1.0, 1.0)\n",
       " RGB(1.0, 1.0, 1.0)  RGB(1.0, 1.0, 1.0)     RGB(1.0, 1.0, 1.0)"
      ]
     },
     "metadata": {},
     "output_type": "display_data"
    }
   ],
   "source": [
    "train!(u, v, rbar, W, target, T, N_trials)"
   ]
  },
  {
   "cell_type": "markdown",
   "metadata": {},
   "source": [
    "---"
   ]
  },
  {
   "cell_type": "code",
   "execution_count": 17,
   "metadata": {},
   "outputs": [
    {
     "ename": "MethodError",
     "evalue": "MethodError: no method matching +(::Float64, ::Vector{Float64})\nFor element-wise addition, use broadcasting with dot syntax: scalar .+ array\nThe function `+` exists, but no method is defined for this combination of argument types.\n\nClosest candidates are:\n  +(::Any, ::Any, !Matched::Any, !Matched::Any...)\n   @ Base operators.jl:596\n  +(!Matched::ChainRulesCore.ZeroTangent, ::Any)\n   @ ChainRulesCore ~/.julia/packages/ChainRulesCore/6Pucz/src/tangent_arithmetic.jl:99\n  +(::Any, !Matched::ChainRulesCore.NotImplemented)\n   @ ChainRulesCore ~/.julia/packages/ChainRulesCore/6Pucz/src/tangent_arithmetic.jl:25\n  ...\n",
     "output_type": "error",
     "traceback": [
      "MethodError: no method matching +(::Float64, ::Vector{Float64})\n",
      "For element-wise addition, use broadcasting with dot syntax: scalar .+ array\n",
      "The function `+` exists, but no method is defined for this combination of argument types.\n",
      "\n",
      "Closest candidates are:\n",
      "  +(::Any, ::Any, !Matched::Any, !Matched::Any...)\n",
      "   @ Base operators.jl:596\n",
      "  +(!Matched::ChainRulesCore.ZeroTangent, ::Any)\n",
      "   @ ChainRulesCore ~/.julia/packages/ChainRulesCore/6Pucz/src/tangent_arithmetic.jl:99\n",
      "  +(::Any, !Matched::ChainRulesCore.NotImplemented)\n",
      "   @ ChainRulesCore ~/.julia/packages/ChainRulesCore/6Pucz/src/tangent_arithmetic.jl:25\n",
      "  ...\n",
      "\n",
      "\n",
      "Stacktrace:\n",
      "  [1] +\n",
      "    @ ./operators.jl:596 [inlined]\n",
      "  [2] step!(u::Vector{Float64}, u_tgt::Vector{Float64}, v::Vector{Float64}, rbar::Vector{Float64}, W::Matrix{Float64}; teacher::Bool)\n",
      "    @ Main ~/elise/jl_notebook_cell_df34fa98e69747e1a8f8a730347b8e2f_X24sZmlsZQ==.jl:13\n",
      "  [3] step!(u::Vector{Float64}, u_tgt::Vector{Float64}, v::Vector{Float64}, rbar::Vector{Float64}, W::Matrix{Float64})\n",
      "    @ Main ~/elise/jl_notebook_cell_df34fa98e69747e1a8f8a730347b8e2f_X24sZmlsZQ==.jl:1\n",
      "  [4] var\"##core#236\"(u#231::Vector{Float64}, u_tgt_bench#232::Vector{Float64}, v#233::Vector{Float64}, rbar#234::Vector{Float64}, W#235::Matrix{Float64})\n",
      "    @ Main ~/.julia/packages/BenchmarkTools/QNsku/src/execution.jl:561\n",
      "  [5] var\"##sample#237\"(::Tuple{Vector{Float64}, Vector{Float64}, Vector{Float64}, Vector{Float64}, Matrix{Float64}}, __params::BenchmarkTools.Parameters)\n",
      "    @ Main ~/.julia/packages/BenchmarkTools/QNsku/src/execution.jl:570\n",
      "  [6] _lineartrial(b::BenchmarkTools.Benchmark, p::BenchmarkTools.Parameters; maxevals::Int64, kwargs::@Kwargs{})\n",
      "    @ BenchmarkTools ~/.julia/packages/BenchmarkTools/QNsku/src/execution.jl:187\n",
      "  [7] _lineartrial(b::BenchmarkTools.Benchmark, p::BenchmarkTools.Parameters)\n",
      "    @ BenchmarkTools ~/.julia/packages/BenchmarkTools/QNsku/src/execution.jl:182\n",
      "  [8] #invokelatest#2\n",
      "    @ ./essentials.jl:1055 [inlined]\n",
      "  [9] invokelatest\n",
      "    @ ./essentials.jl:1052 [inlined]\n",
      " [10] #lineartrial#46\n",
      "    @ ~/.julia/packages/BenchmarkTools/QNsku/src/execution.jl:51 [inlined]\n",
      " [11] lineartrial\n",
      "    @ ~/.julia/packages/BenchmarkTools/QNsku/src/execution.jl:50 [inlined]\n",
      " [12] tune!(b::BenchmarkTools.Benchmark, p::BenchmarkTools.Parameters; progressid::Nothing, nleaves::Float64, ndone::Float64, verbose::Bool, pad::String, kwargs::@Kwargs{})\n",
      "    @ BenchmarkTools ~/.julia/packages/BenchmarkTools/QNsku/src/execution.jl:300\n",
      " [13] tune!\n",
      "    @ ~/.julia/packages/BenchmarkTools/QNsku/src/execution.jl:289 [inlined]\n",
      " [14] tune!(b::BenchmarkTools.Benchmark)\n",
      "    @ BenchmarkTools ~/.julia/packages/BenchmarkTools/QNsku/src/execution.jl:289\n",
      " [15] top-level scope\n",
      "    @ ~/.julia/packages/BenchmarkTools/QNsku/src/execution.jl:447"
     ]
    }
   ],
   "source": [
    "using BenchmarkTools\n",
    "u_tgt_bench::Vector{Float64} = E1*ones(N_out) + 20*Float64.(rand(N_out).<.5);\n",
    "@benchmark step!($u, $u_tgt_bench, $v, $rbar, $W)"
   ]
  },
  {
   "cell_type": "code",
   "execution_count": 22,
   "metadata": {},
   "outputs": [
    {
     "data": {
      "text/plain": [
       "5×5 BitMatrix:\n",
       " 0  1  1  1  1\n",
       " 0  0  0  1  1\n",
       " 0  0  1  0  0\n",
       " 0  0  1  1  0\n",
       " 0  1  1  1  0"
      ]
     },
     "metadata": {},
     "output_type": "display_data"
    }
   ],
   "source": [
    "B = rand(5,5) .> .5"
   ]
  },
  {
   "cell_type": "code",
   "execution_count": 24,
   "metadata": {},
   "outputs": [
    {
     "data": {
      "text/plain": [
       "5-element Vector{Float64}:\n",
       " 0.3297323374549852\n",
       " 0.9427890686311824\n",
       " 0.44575677018439686\n",
       " 0.08188552230794499\n",
       " 0.5834159777484291"
      ]
     },
     "metadata": {},
     "output_type": "display_data"
    }
   ],
   "source": [
    "x = rand(5)"
   ]
  },
  {
   "cell_type": "code",
   "execution_count": 25,
   "metadata": {},
   "outputs": [
    {
     "data": {
      "text/plain": [
       "5-element Vector{Float64}:\n",
       " 0.8509566615632478\n",
       " 0.32607595197434647\n",
       " 0.8398049255735904\n",
       " 0.5067924871167251\n",
       " 0.8799956387019922"
      ]
     },
     "metadata": {},
     "output_type": "display_data"
    }
   ],
   "source": [
    "y = rand(5)"
   ]
  },
  {
   "cell_type": "code",
   "execution_count": 26,
   "metadata": {},
   "outputs": [
    {
     "data": {
      "text/plain": [
       "5-element Vector{Float64}:\n",
       " 1.2366720577505235\n",
       " 0.5549024834769716\n",
       " 0.37434873120863144\n",
       " 0.41584769871792693\n",
       " 0.7232685417828472"
      ]
     },
     "metadata": {},
     "output_type": "display_data"
    }
   ],
   "source": [
    "B * (x .* y)"
   ]
  },
  {
   "cell_type": "code",
   "execution_count": 27,
   "metadata": {},
   "outputs": [
    {
     "data": {
      "text/plain": [
       "5-element Vector{Float64}:\n",
       " 1.7477350748470384\n",
       " 0.2169388199808429\n",
       " 0.37434873120863144\n",
       " 0.26740514972016444\n",
       " 1.2939731847993357"
      ]
     },
     "metadata": {},
     "output_type": "display_data"
    }
   ],
   "source": [
    "B*x .* y"
   ]
  },
  {
   "cell_type": "code",
   "execution_count": null,
   "metadata": {},
   "outputs": [],
   "source": []
  }
 ],
 "metadata": {
  "kernelspec": {
   "display_name": "Julia 1.11.1",
   "language": "julia",
   "name": "julia-1.11"
  },
  "language_info": {
   "file_extension": ".jl",
   "mimetype": "application/julia",
   "name": "julia",
   "version": "1.11.1"
  }
 },
 "nbformat": 4,
 "nbformat_minor": 2
}
