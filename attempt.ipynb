{
 "cells": [
  {
   "cell_type": "code",
   "execution_count": 1,
   "metadata": {},
   "outputs": [],
   "source": [
    "using Distributions;\n",
    "using Images;"
   ]
  },
  {
   "cell_type": "markdown",
   "metadata": {},
   "source": [
    "---"
   ]
  },
  {
   "cell_type": "markdown",
   "metadata": {},
   "source": [
    "## Parameters\n",
    "As in the preprint Supp Table 1. A few from the experimental setup are missing."
   ]
  },
  {
   "cell_type": "code",
   "execution_count": 2,
   "metadata": {},
   "outputs": [],
   "source": [
    "const dt::Float64 = 0.1\n",
    "const N_trials::Int = 10000\n",
    "const T::Int = 100;"
   ]
  },
  {
   "cell_type": "code",
   "execution_count": 3,
   "metadata": {},
   "outputs": [],
   "source": [
    "const N_out::Int = 13\n",
    "const N_latent::Int = 30\n",
    "const p0::Float64 = 0.04\n",
    "const p::Float64 = 0.2\n",
    "const q::Float64 = 0.15\n",
    "\n",
    "const N::Int = N_out + N_latent;"
   ]
  },
  {
   "cell_type": "code",
   "execution_count": 4,
   "metadata": {},
   "outputs": [],
   "source": [
    "const E1::Float64 = -70\n",
    "const E_exc::Float64 = 0\n",
    "const E_inh::Float64 = -75\n",
    "const gl::Float64 = 0.1\n",
    "const g_den::Float64 = 2.0\n",
    "const g_exc_0::Float64 = 0.3\n",
    "const g_inh_0::Float64 = 6.0\n",
    "const a::Float64 = 0.3\n",
    "const b::Float64 = -58.\n",
    "d_den_init = Uniform(5., 15.)\n",
    "d_som_init = Uniform(5., 15.)\n",
    "const delta::Float64 = 25.\n",
    "\n",
    "rho(u) = 1. / (1. + exp(a*(b-u)))\n",
    "\n",
    "d_den::Vector{Float64} = round.(rand(d_den_init, N), digits=1)\n",
    "d_som_exc::Vector{Float64} = round.(rand(d_som_init, N), digits=1)\n",
    "d_som_inh::Vector{Float64} = d_som_exc .+ delta;\n"
   ]
  },
  {
   "cell_type": "code",
   "execution_count": 5,
   "metadata": {},
   "outputs": [],
   "source": [
    "const η0::Float64 = 0.0001\n",
    "const ηl::Float64 = 0.001\n",
    "const λ::Float64 = 0.6\n",
    "W_init = Normal(0., 0.5)\n",
    "\n",
    "lrs::Matrix{Float64} = mapreduce(permutedims, vcat, [[(i<=N_out && j<=N_out) ? η0 : ηl for j in 1:N] for i in 1:N]); #ugly, but necessary for not checking if i<N_out etc in step"
   ]
  },
  {
   "cell_type": "markdown",
   "metadata": {},
   "source": [
    "Since you did this nice analysis, might as well: "
   ]
  },
  {
   "cell_type": "code",
   "execution_count": 6,
   "metadata": {},
   "outputs": [],
   "source": [
    "P(k) = (k == 0) ? p0 : (1-p0) * p^((k^2-k)/2) * (1-p^k)\n",
    "D_nout = DiscreteNonParametric(0:N_latent, P.(0:N_latent));"
   ]
  },
  {
   "cell_type": "markdown",
   "metadata": {},
   "source": [
    "---"
   ]
  },
  {
   "cell_type": "markdown",
   "metadata": {},
   "source": [
    "## Somato-somatic scafold\n",
    "\n",
    "Just an implementation of what is described in the paper. I did check if $d_{out}$ follow the correct distribution. Could certainly be better but this is by no mean a bottleneck. I just have the feeling that it might be overly complex for no practical reason."
   ]
  },
  {
   "cell_type": "code",
   "execution_count": 7,
   "metadata": {},
   "outputs": [],
   "source": [
    "B::Matrix{Float64} = zeros(N_latent, N)\n",
    "fatigued = []\n",
    "nudged = vcat(1:N_out)\n",
    "latent = vcat(N_out+1:N)\n",
    "previously_accepted = Dict(i=>0 for i in latent)\n",
    "while !isempty(nudged)\n",
    "    i = rand(nudged)\n",
    "    X = rand(D_nout)\n",
    "    for c in 1:X\n",
    "        j = rand(latent)\n",
    "        while rand() > q^previously_accepted[j] || j==i\n",
    "            j = rand(latent)\n",
    "        end\n",
    "        previously_accepted[j] += 1\n",
    "        (j in fatigued || j in nudged) || push!(nudged, j)\n",
    "        B[j-N_out,i] = 1\n",
    "    end\n",
    "    deleteat!(nudged, findall(nudged.==i))\n",
    "    push!(fatigued, i)\n",
    "end"
   ]
  },
  {
   "cell_type": "markdown",
   "metadata": {},
   "source": [
    "---"
   ]
  },
  {
   "cell_type": "markdown",
   "metadata": {},
   "source": [
    "## Memory\n",
    "\n",
    "Here I took a shitty approach in term of memory, but it makes things easier in terms of later indexing. I use 3 `Vector{Queue{Float64}}`, one for each delay type (dendritic, somatic excitatory, somatic inhibitory). Within a `Vector{Queue{Float64}}` for one type of delay, I start by filling in all the queues with $d_i/\\texttt{dt}$ initial values. Then at every step I use `pop!` once on every queue to get my delayed values, and at the end I `push!` once to every queue the current $r_i$ to the queue. In that sense, I do not need to index an history to get the delayed values, rather the length of each queue acts as the delay. Indexing a complete history is probably better, I just thought this was a funny implementation, and it shouldn't be much slower on CPU to be honest. Bellow are the functions that create and add to the queues. The `pop!` are in the `step!` function bellow.\n",
    "\n",
    "_In fact these are implemented as `Vector{Vector{Float64}}` because Julia has no implementation of `Queue` that is better than `push!(::Vector{Float64}, ::Float64)` and `popfirst!(::Vector{Float64})` but that's a detail._\n",
    "\n"
   ]
  },
  {
   "cell_type": "code",
   "execution_count": 9,
   "metadata": {},
   "outputs": [],
   "source": [
    "function create_queues!(ds::Vector{Float64})::Vector{Vector{Float64}}\n",
    "    qs = [Vector{Float64}() for _ in 1:N]\n",
    "    initialize!((q,d)) = (x->push!(q,x)).(rho.(E1*ones(Int(d ÷ dt))))\n",
    "    initialize!.(zip(qs, ds))\n",
    "    return qs\n",
    "end;"
   ]
  },
  {
   "cell_type": "code",
   "execution_count": 10,
   "metadata": {},
   "outputs": [],
   "source": [
    "function memory!(r::Vector{Float64})\n",
    "    for (q_den, q_exc, q_inh, x) in zip(m_den, m_som_exc, m_som_inh, r)\n",
    "        push!(q_den, x)\n",
    "        push!(q_exc, x)\n",
    "        push!(q_inh, x)\n",
    "    end\n",
    "end;"
   ]
  },
  {
   "cell_type": "markdown",
   "metadata": {},
   "source": [
    "---"
   ]
  },
  {
   "cell_type": "markdown",
   "metadata": {},
   "source": [
    "## Step\n",
    "\n",
    "Quite straightforwardly implementing the equations. Here I did try to not be too dirty, as I don't want to wait for hours afterwards. \n",
    "I first do the (3) matrix multiplications that I found useful in implementing the equations. I then do the assignments in loops as it is the more performant way to do things in Julia on CPU. The 2 matrix multplications for somato-somatic synapses might be better as indexing...\n",
    "The structure is: \n",
    "```julia\n",
    "for output neurons\n",
    "    intrinsic u update\n",
    "    if teacher\n",
    "        teacher nudging\n",
    "    end\n",
    "end\n",
    "for latent neurons\n",
    "    u update\n",
    "end\n",
    "for all neurons # this could be done twice in the previous loops ... \n",
    "    v update    # ... but it's ugly\n",
    "    rbar update\n",
    "end\n",
    "update memory # it has been rolled already by the pop! in the u and v updates!\n",
    "for all somato-dendritic weights\n",
    "    plasticity\n",
    "end\n",
    "```\n",
    "This function `step!` is benchmarked at the end of this notebook, and on my hardware (cpu) takes around 4μs, so that's for dt ms of simulations. In other words, we are at approximatively 25x 'real'time."
   ]
  },
  {
   "cell_type": "code",
   "execution_count": 11,
   "metadata": {},
   "outputs": [],
   "source": [
    "function step!(u::Vector{Float64},u_tgt::Vector{Float64},v::Vector{Float64},rbar::Vector{Float64},W::Matrix{Float64};teacher::Bool=true)\n",
    "    past_den_r = popfirst!.(m_den)\n",
    "    I_den = W * past_den_r\n",
    "    g_exc = g_exc_0 * B * max.(popfirst!.(m_som_exc), rho(E1))\n",
    "    g_inh = g_inh_0 * B * min.(popfirst!.(m_som_inh), rho(E1))\n",
    "    for i in 1:N_out\n",
    "        @inbounds u[i] += dt * (-gl*(u[i] .- E1) + g_den*(v[i]-u[i])) \n",
    "        if teacher \n",
    "            @inbounds u[i] += dt * (λ/(1-λ) * (gl+g_den) / (E_inh - E_exc)) * ((E_inh - u_tgt[i]) * (E_exc - u[i]) + (u_tgt[i]-E_exc) * (E_inh - u[i]))\n",
    "        end\n",
    "    end\n",
    "    for i in N_out+1:N\n",
    "        @inbounds u[i] += dt * (-gl*(u[i] .- E1) + g_den*(v[i]-u[i]) + g_exc[i-N_out] * (E_exc - u[i]) + g_inh[i-N_out] * (E_inh - u[i]))\n",
    "    end\n",
    "    for i in 1:N\n",
    "        @inbounds v[i] += dt * (-gl*(v[i] .- E1) + I_den[i])\n",
    "        @inbounds rbar[i] += dt * (-gl*rbar[i] .+ ((gl*g_den)/(gl+g_den)) * past_den_r[i])\n",
    "    end\n",
    "    r = rho.(u)\n",
    "    rstar = rho.((g_den/(gl+g_den))*v.+(gl*E1)/(gl+g_den))\n",
    "    memory!(r)\n",
    "    for i in 1:N, j in 1:N\n",
    "        @inbounds W[i,j] += dt*lrs[i,j]*(r[i]-rstar[i])*rbar[j]\n",
    "    end\n",
    "    return nothing;\n",
    "end;"
   ]
  },
  {
   "cell_type": "markdown",
   "metadata": {},
   "source": [
    "---"
   ]
  },
  {
   "cell_type": "code",
   "execution_count": 12,
   "metadata": {},
   "outputs": [
    {
     "data": {
      "text/plain": [
       "train! (generic function with 1 method)"
      ]
     },
     "metadata": {},
     "output_type": "display_data"
    }
   ],
   "source": [
    "function train!(u::Vector{Float64}, v::Vector{Float64}, rbar::Vector{Float64}, W::Matrix{Float64}, target::Function, T::Int, n_trials::Int; test_every::Int=1000, θ::Float64=-60., dt::Float64=0.1)\n",
    "    for trial in 0:n_trials-1\n",
    "        for t in 0:dt:T-dt\n",
    "            step!(u, target(t), v, rbar, W, teacher=true)\n",
    "        end\n",
    "        (trial % test_every == 0) && test!(u, v, rbar, W, T, dt=dt, θ=θ)\n",
    "    end\n",
    "end"
   ]
  },
  {
   "cell_type": "markdown",
   "metadata": {},
   "source": [
    "---"
   ]
  },
  {
   "cell_type": "markdown",
   "metadata": {},
   "source": [
    "## Testing and plotting\n",
    "\n",
    "I was quite proud of my idea of showing in black the times where the produced/replayed output agrees with the target and then in two different colors when only the target or the produced output was on. Then I remembered that Ben presented something like this at the Xmas symposium last year ahah. Anyway that's what I do for testing, much quantitative. See plot bellow produced by `train!` (in fact, by the calls of `test!` in `train!`)."
   ]
  },
  {
   "cell_type": "code",
   "execution_count": 13,
   "metadata": {},
   "outputs": [],
   "source": [
    "function test!(u::Vector{Float64}, v::Vector{Float64}, rbar::Vector{Float64}, W::Matrix{Float64}, T::Int; dt::Float64=0.1, θ::Float64=-60)\n",
    "    u_prod = Vector{Vector{Float64}}()\n",
    "    for t in 0:dt:T-dt\n",
    "        step!(u, zeros(N_out), v, rbar, W, teacher=false)\n",
    "        isinteger(t) && push!(u_prod, u[1:N_out])\n",
    "    end\n",
    "    check(vv) = reduce(hcat, vv) .> θ\n",
    "    display(colors[1 .+ 2*check(u_prod) + check([target(t) for t in 0:T-1])])\n",
    "end\n",
    "colors = [colorant\"white\", colorant\"red\", colorant\"cyan\", colorant\"black\"];"
   ]
  },
  {
   "cell_type": "markdown",
   "metadata": {},
   "source": [
    "---"
   ]
  },
  {
   "cell_type": "markdown",
   "metadata": {},
   "source": [
    "## Variables and target"
   ]
  },
  {
   "cell_type": "code",
   "execution_count": 25,
   "metadata": {},
   "outputs": [],
   "source": [
    "v::Vector{Float64} = E1*ones(N)\n",
    "u::Vector{Float64} = E1*ones(N)\n",
    "rbar::Vector{Float64} = rho.(u);\n",
    "W::Matrix{Float64} = rand(W_init, N, N);"
   ]
  },
  {
   "cell_type": "code",
   "execution_count": 26,
   "metadata": {},
   "outputs": [],
   "source": [
    "m_den::Vector{Vector{Float64}} = create_queues!(d_den)\n",
    "m_som_exc::Vector{Vector{Float64}} = create_queues!(d_som_exc)\n",
    "m_som_inh::Vector{Vector{Float64}} = create_queues!(d_som_inh);"
   ]
  },
  {
   "cell_type": "code",
   "execution_count": 27,
   "metadata": {},
   "outputs": [
    {
     "data": {
      "image/png": "[encoded data removed]",
      "text/html": [
       "<img src=\"data:image/png;base64,iVBORw0KGgoAAAANSUhEUgAAASwAAAAnCAAAAACQpireAAAABGdBTUEAALGPC/xhBQAAAAFzUkdCAK7OHOkAAAAgY0hSTQAAeiYAAICEAAD6AAAAgOgAAHUwAADqYAAAOpgAABdwnLpRPAAAALpJREFUaAXtwYFpADEQA8E9UP8tKx0cwo9xEjQjc27YmP9GVExUTMM5sxk25u8RFRMVkzk3bMxvNGzMRlRMVEzDOXPLsDHnzGbYiIqJism8MbwxnBMVExUTHwwbszFvmM2wERUTFRMfmM2wMX+PqJiomLjGbIaN2Qwbc4uomKiY+GA4Z86ZW8xGVExUTFxjzg0b84aomKiY+MC8MWzMLaJiomLikWFjbhk2ZiMqJiomHjHnhjdExUTFfgCl1h2VCPg01QAAAABJRU5ErkJg\">"
      ],
      "text/plain": [
       "13×100 Matrix{Gray{Bool}}:\n",
       " 1  1  1  1  1  1  1  1  1  1  1  1  1  …  1  1  1  1  1  1  1  1  1  1  1  1\n",
       " 0  0  0  0  0  0  0  0  0  0  0  0  0     1  1  1  1  1  1  1  1  1  1  1  1\n",
       " 1  1  1  1  1  1  1  1  1  1  1  1  1     0  0  1  1  1  1  1  1  1  1  1  1\n",
       " 0  0  0  0  0  0  0  0  0  0  0  0  0     1  1  0  0  0  0  0  0  0  0  0  0\n",
       " 1  1  1  1  1  1  1  1  1  1  1  1  1     0  0  0  0  0  0  0  0  0  0  0  0\n",
       " 1  1  1  1  1  1  1  1  1  1  1  1  1  …  1  1  0  0  0  0  0  0  0  0  0  0\n",
       " 1  1  1  1  1  1  1  1  1  1  1  1  1     1  1  0  0  0  0  0  0  0  0  0  0\n",
       " 1  1  1  1  1  1  1  1  1  1  1  1  1     1  1  0  0  0  0  0  0  0  0  0  0\n",
       " 1  1  1  1  1  1  1  1  1  1  1  1  1     1  1  1  1  1  1  1  1  1  1  1  1\n",
       " 1  1  1  1  1  1  1  1  1  1  1  1  1     1  1  1  1  1  1  1  1  1  1  1  1\n",
       " 1  1  1  1  1  1  1  1  1  1  1  1  1  …  1  1  1  1  1  1  1  1  1  1  1  1\n",
       " 1  1  1  1  1  1  1  1  1  1  1  1  1     0  0  1  1  1  1  1  1  1  1  1  1\n",
       " 1  1  1  1  1  1  1  1  1  1  1  1  1     0  0  1  1  1  1  1  1  1  1  1  1"
      ]
     },
     "metadata": {},
     "output_type": "display_data"
    }
   ],
   "source": [
    "chords = [rand(N_out).>.75 for j in 1:10]\n",
    "target(t) = E1*ones(N_out) + 20*Float64.(chords[Int(t÷10+1)]);\n",
    "broadcast.(Gray, (!).(mapreduce(permutedims,vcat,repeat(chords, inner=10))'))"
   ]
  },
  {
   "cell_type": "markdown",
   "metadata": {},
   "source": [
    "---"
   ]
  },
  {
   "cell_type": "code",
   "execution_count": 28,
   "metadata": {},
   "outputs": [],
   "source": [
    "B = Float64.(rand(N_latent, N) .< 1/N);"
   ]
  },
  {
   "cell_type": "markdown",
   "metadata": {},
   "source": [
    "Bellow, red is target only, cyan is produced only, black is both, white is neither"
   ]
  },
  {
   "cell_type": "code",
   "execution_count": 30,
   "metadata": {},
   "outputs": [
    {
     "data": {
      "image/png": "[encoded data removed]",
      "text/html": [
       "<img src=\"data:image/png;base64,iVBORw0KGgoAAAANSUhEUgAAASwAAAAnCAIAAAA6r+JVAAAABGdBTUEAALGPC/xhBQAAAAFzUkdCAK7OHOkAAAAgY0hSTQAAeiYAAICEAAD6AAAAgOgAAHUwAADqYAAAOpgAABdwnLpRPAAAAXNJREFUeAHtwVFuwkAQRMHX0tz/yh1pRT42yMLAmrFDV5VtLkdiEKvZPGIiVioiolUREa0KiUFch83MLCLxiHiJzQYTX62IiFZFRLQqbAZzHRIzsYjNBnNj4rwkcRCbmVmjiIhWRUS0Kklcjs0G830kZmIRm0fMudjmIBKDuBFrFBHRqoiIVoXNzMQBJGbiPxB/mVYSg7iMIiJaFRHRqrgiiZlYxGY38wybmYkD2AxmNYmZWKOIiFZFRLQq7ogbc1Y2M7OIxExsEs+w2c3E6YijFBHRqoiIVsU2cWO+hs3MvEX8kthNPMNmg3mPxCDeYu7YXI35S6xRRESrIiJalbkgiZk4PZtHzMnYDCbAZmbWKCKiVRERrYrTEx9kMzOnJ/GIeInNzMR6RUS0KiKiVXF65o5NbBOLSMzEIjaDCYqIaFVERKsiPkNig3iPzW7mv5MYxGo2u5knFBHRqoiIVkV8hs0Gc1YSu4nAvKKIiFZFRLT6AZtEXogUzwHxAAAAAElFTkSuQmCC\">"
      ],
      "text/plain": [
       "13×100 Matrix{RGB{N0f8}}:\n",
       " RGB(1.0, 1.0, 1.0)  RGB(1.0, 1.0, 1.0)  …  RGB(1.0, 1.0, 1.0)\n",
       " RGB(1.0, 0.0, 0.0)  RGB(0.0, 0.0, 0.0)     RGB(1.0, 1.0, 1.0)\n",
       " RGB(1.0, 1.0, 1.0)  RGB(1.0, 1.0, 1.0)     RGB(1.0, 1.0, 1.0)\n",
       " RGB(0.0, 0.0, 0.0)  RGB(0.0, 0.0, 0.0)     RGB(0.0, 0.0, 0.0)\n",
       " RGB(0.0, 1.0, 1.0)  RGB(0.0, 1.0, 1.0)     RGB(0.0, 0.0, 0.0)\n",
       " RGB(0.0, 1.0, 1.0)  RGB(0.0, 1.0, 1.0)  …  RGB(0.0, 0.0, 0.0)\n",
       " RGB(0.0, 1.0, 1.0)  RGB(0.0, 1.0, 1.0)     RGB(0.0, 0.0, 0.0)\n",
       " RGB(0.0, 1.0, 1.0)  RGB(0.0, 1.0, 1.0)     RGB(0.0, 0.0, 0.0)\n",
       " RGB(1.0, 1.0, 1.0)  RGB(1.0, 1.0, 1.0)     RGB(1.0, 1.0, 1.0)\n",
       " RGB(1.0, 1.0, 1.0)  RGB(1.0, 1.0, 1.0)     RGB(1.0, 1.0, 1.0)\n",
       " RGB(1.0, 1.0, 1.0)  RGB(1.0, 1.0, 1.0)  …  RGB(1.0, 1.0, 1.0)\n",
       " RGB(1.0, 1.0, 1.0)  RGB(1.0, 1.0, 1.0)     RGB(1.0, 1.0, 1.0)\n",
       " RGB(1.0, 1.0, 1.0)  RGB(1.0, 1.0, 1.0)     RGB(1.0, 1.0, 1.0)"
      ]
     },
     "metadata": {},
     "output_type": "display_data"
    },
    {
     "data": {
      "image/png": "[encoded data removed]",
      "text/html": [
       "<img src=\"data:image/png;base64,iVBORw0KGgoAAAANSUhEUgAAASwAAAAnCAIAAAA6r+JVAAAABGdBTUEAALGPC/xhBQAAAAFzUkdCAK7OHOkAAAAgY0hSTQAAeiYAAICEAAD6AAAAgOgAAHUwAADqYAAAOpgAABdwnLpRPAAAAXZJREFUeAHtwVFug0AQRMHX0tz/yh0J4Y9VhMBmyUDcVWWbx5FYiNls9piImYqIaFVERKtCYiGew2aDOUdig1iJj9hsMPHViohoVUREq8JmYZ5DYiRW4hybPSbuSxIXsdlgTikiolUREa1KEo9js8F8H4mFmM1mj7kX21xEYiRW4pQiIloVEdGqsBmZuIDESPwHYmXuQWIhHqOIiFZFRLQqnkhiJCaxOcy8w2Zk4gI2CzObxEjMUUREqyIiWhW/iJW5K5uRmURiJDaJd9gcZuJ2xFWKiGhVRESrYptYma9hMzKniBeJw8Q7bA4z75BYiE+YbTZPY1ZisiIiWhUR0arMA0mMxO3ZHGbuwWZhAmwWZrIiIloVEdGqeA5xPZsN5q4k9oiP2OwxcVYREa2KiGhVPId5sYlfxGwSe8RHbEbmexUR0aqIiFZF/A2JkZjE5jDz30ksxGw2h5k3FBHRqoiIVkX8DZuRuT2Jw0RgPlFERKsiIlr9AMedXYuSDXF+AAAAAElFTkSuQmCC\">"
      ],
      "text/plain": [
       "13×100 Matrix{RGB{N0f8}}:\n",
       " RGB(1.0, 1.0, 1.0)  RGB(1.0, 1.0, 1.0)  …  RGB(1.0, 1.0, 1.0)\n",
       " RGB(1.0, 0.0, 0.0)  RGB(0.0, 0.0, 0.0)     RGB(1.0, 1.0, 1.0)\n",
       " RGB(1.0, 1.0, 1.0)  RGB(1.0, 1.0, 1.0)     RGB(1.0, 1.0, 1.0)\n",
       " RGB(0.0, 0.0, 0.0)  RGB(0.0, 0.0, 0.0)     RGB(0.0, 0.0, 0.0)\n",
       " RGB(0.0, 1.0, 1.0)  RGB(0.0, 1.0, 1.0)     RGB(0.0, 0.0, 0.0)\n",
       " RGB(0.0, 1.0, 1.0)  RGB(0.0, 1.0, 1.0)  …  RGB(0.0, 0.0, 0.0)\n",
       " RGB(0.0, 1.0, 1.0)  RGB(0.0, 1.0, 1.0)     RGB(0.0, 0.0, 0.0)\n",
       " RGB(0.0, 1.0, 1.0)  RGB(0.0, 1.0, 1.0)     RGB(0.0, 0.0, 0.0)\n",
       " RGB(1.0, 1.0, 1.0)  RGB(1.0, 1.0, 1.0)     RGB(1.0, 1.0, 1.0)\n",
       " RGB(1.0, 1.0, 1.0)  RGB(1.0, 1.0, 1.0)     RGB(1.0, 1.0, 1.0)\n",
       " RGB(1.0, 1.0, 1.0)  RGB(1.0, 1.0, 1.0)  …  RGB(1.0, 1.0, 1.0)\n",
       " RGB(1.0, 1.0, 1.0)  RGB(1.0, 1.0, 1.0)     RGB(1.0, 1.0, 1.0)\n",
       " RGB(1.0, 1.0, 1.0)  RGB(1.0, 1.0, 1.0)     RGB(1.0, 1.0, 1.0)"
      ]
     },
     "metadata": {},
     "output_type": "display_data"
    },
    {
     "data": {
      "image/png": "[encoded data removed]",
      "text/html": [
       "<img src=\"data:image/png;base64,iVBORw0KGgoAAAANSUhEUgAAASwAAAAnCAIAAAA6r+JVAAAABGdBTUEAALGPC/xhBQAAAAFzUkdCAK7OHOkAAAAgY0hSTQAAeiYAAICEAAD6AAAAgOgAAHUwAADqYAAAOpgAABdwnLpRPAAAAXFJREFUeAHtwYFq3EAQRMHXMP//yx0iTIjiLNKedB6t3VVlm+VIbMTdbE4zETcoIqJVERGtComNWIfNaWaGxEYcEzNs9kzEb0VEtCoiolVhszHrkNgTQ2KGzRETDyYxIK6xmWeOFRHRqoiIViWJ5dgMmJ9HYk/cxOaIeRibAXONxIAYEseKiGhVRESrwmbPxBtIDIiFiX+ZVhID4qGKiGhVRESrYkUSe+ImNvPMCTYDJu5jM2CukThNTCgiolUREa2KT8QH81Q2e+YmEhsxQZxgM8/EAsQlRUS0KiKiVRF/s9mYm0linjjB5k0k3sM234j5IF5RRESrIiJalVmQxJ54PJvTzDPYxB82R8wriohoVUREq2JB4m1sBsxTSRwRL7E5zcSLiohoVUREq2JBtolPxN0kThMzbI6Yn6KIiFZFRLQq4mtI7Imb2Mwz35TEgLjG5gIzVEREqyIiWhXxNWz2zONJHBHxH2ZCERGtioho9QueQ1qM54NQRwAAAABJRU5ErkJg\">"
      ],
      "text/plain": [
       "13×100 Matrix{RGB{N0f8}}:\n",
       " RGB(1.0, 1.0, 1.0)  RGB(1.0, 1.0, 1.0)  …  RGB(1.0, 1.0, 1.0)\n",
       " RGB(1.0, 0.0, 0.0)  RGB(0.0, 0.0, 0.0)     RGB(1.0, 1.0, 1.0)\n",
       " RGB(1.0, 1.0, 1.0)  RGB(1.0, 1.0, 1.0)     RGB(1.0, 1.0, 1.0)\n",
       " RGB(0.0, 0.0, 0.0)  RGB(0.0, 0.0, 0.0)     RGB(0.0, 0.0, 0.0)\n",
       " RGB(0.0, 1.0, 1.0)  RGB(0.0, 1.0, 1.0)     RGB(0.0, 0.0, 0.0)\n",
       " RGB(0.0, 1.0, 1.0)  RGB(0.0, 1.0, 1.0)  …  RGB(0.0, 0.0, 0.0)\n",
       " RGB(0.0, 1.0, 1.0)  RGB(0.0, 1.0, 1.0)     RGB(0.0, 0.0, 0.0)\n",
       " RGB(0.0, 1.0, 1.0)  RGB(0.0, 1.0, 1.0)     RGB(0.0, 0.0, 0.0)\n",
       " RGB(1.0, 1.0, 1.0)  RGB(1.0, 1.0, 1.0)     RGB(1.0, 1.0, 1.0)\n",
       " RGB(1.0, 1.0, 1.0)  RGB(1.0, 1.0, 1.0)     RGB(1.0, 1.0, 1.0)\n",
       " RGB(1.0, 1.0, 1.0)  RGB(1.0, 1.0, 1.0)  …  RGB(1.0, 1.0, 1.0)\n",
       " RGB(1.0, 1.0, 1.0)  RGB(1.0, 1.0, 1.0)     RGB(1.0, 1.0, 1.0)\n",
       " RGB(1.0, 1.0, 1.0)  RGB(1.0, 1.0, 1.0)     RGB(1.0, 1.0, 1.0)"
      ]
     },
     "metadata": {},
     "output_type": "display_data"
    },
    {
     "data": {
      "image/png": "[encoded data removed]",
      "text/html": [
       "<img src=\"data:image/png;base64,iVBORw0KGgoAAAANSUhEUgAAASwAAAAnCAIAAAA6r+JVAAAABGdBTUEAALGPC/xhBQAAAAFzUkdCAK7OHOkAAAAgY0hSTQAAeiYAAICEAAD6AAAAgOgAAHUwAADqYAAAOpgAABdwnLpRPAAAAW1JREFUeAHtwQGK3EAQBMEs6P9/uQzizlgGeSTt7LVmXRFlm+VIbMRsNiMmYqYiIloVEdGqkNiIddhcZ8YkMSJusdmYiJ0iIloVEdGqsNmYdUhsxAXiBJsREw8mMSJusTnNXFBERKsiIlqVJJZjc8D8fyT2xCQ2I+ZhbEbMLRIHxN/EBUVEtCoiolVhc8DEPBIHxMLEF/MMEnvi6YqIaFVERKtiRRJ7YhKb08wVNgdMzGOzZyaRGBF3FBHRqoiIVsWKbPbMJBIbMSausDnNxErES4qIaFVERKsi/mSzMZNJ4jRxhc2bSExlvtl8EPNF3FFERKsiIlqVWZDEnng8m9PMM9jEbzYj5o4iIloVEdGqWJB4G5sR8zASB8RrbE4zcVMREa2KiGhVLMg28U28jcRp4gqb08yHKyKiVRERrYr4GRJ7YhKb08ynkzggXmPzAnOoiIhWRUS0KuJn2OyZx5MYEfEvZqyIiFZFRLT6BegRWYzouDW/AAAAAElFTkSuQmCC\">"
      ],
      "text/plain": [
       "13×100 Matrix{RGB{N0f8}}:\n",
       " RGB(1.0, 1.0, 1.0)  RGB(1.0, 1.0, 1.0)  …  RGB(1.0, 1.0, 1.0)\n",
       " RGB(1.0, 0.0, 0.0)  RGB(0.0, 0.0, 0.0)     RGB(1.0, 1.0, 1.0)\n",
       " RGB(1.0, 1.0, 1.0)  RGB(1.0, 1.0, 1.0)     RGB(1.0, 1.0, 1.0)\n",
       " RGB(0.0, 0.0, 0.0)  RGB(0.0, 0.0, 0.0)     RGB(0.0, 0.0, 0.0)\n",
       " RGB(0.0, 1.0, 1.0)  RGB(0.0, 1.0, 1.0)     RGB(0.0, 0.0, 0.0)\n",
       " RGB(0.0, 1.0, 1.0)  RGB(0.0, 1.0, 1.0)  …  RGB(0.0, 0.0, 0.0)\n",
       " RGB(0.0, 1.0, 1.0)  RGB(0.0, 1.0, 1.0)     RGB(0.0, 0.0, 0.0)\n",
       " RGB(0.0, 1.0, 1.0)  RGB(0.0, 1.0, 1.0)     RGB(0.0, 0.0, 0.0)\n",
       " RGB(1.0, 1.0, 1.0)  RGB(1.0, 1.0, 1.0)     RGB(1.0, 1.0, 1.0)\n",
       " RGB(1.0, 1.0, 1.0)  RGB(1.0, 1.0, 1.0)     RGB(1.0, 1.0, 1.0)\n",
       " RGB(1.0, 1.0, 1.0)  RGB(1.0, 1.0, 1.0)  …  RGB(1.0, 1.0, 1.0)\n",
       " RGB(1.0, 1.0, 1.0)  RGB(1.0, 1.0, 1.0)     RGB(1.0, 1.0, 1.0)\n",
       " RGB(1.0, 1.0, 1.0)  RGB(1.0, 1.0, 1.0)     RGB(1.0, 1.0, 1.0)"
      ]
     },
     "metadata": {},
     "output_type": "display_data"
    },
    {
     "data": {
      "image/png": "[encoded data removed]",
      "text/html": [
       "<img src=\"data:image/png;base64,iVBORw0KGgoAAAANSUhEUgAAASwAAAAnCAIAAAA6r+JVAAAABGdBTUEAALGPC/xhBQAAAAFzUkdCAK7OHOkAAAAgY0hSTQAAeiYAAICEAAD6AAAAgOgAAHUwAADqYAAAOpgAABdwnLpRPAAAAW5JREFUeAHtwQuK3EAQRMGXUPe/chrE2tBe2vpMz5bkyYiyzeNIbMRqNntMxEpFRLQqIqJVIbERz2Gzx1wisRFT4hKbCRMfrYiIVkVEtCpsNuY5JDZiSlxis8fEjUlMiNfYHGZOKCKiVRERrUoSj2MzYT6PxEgsYjNh7spmwrxGYiSmxAlFRLQqIqJVYTMy8QYSE+J5xN/MPUiMxN0VEdGqiIhWxRNJjMQiNnvMJTYTJtaxGZlFJCbES4qIaFVERKviG/HF3JXNyCwisRFT4hKbw0x8kCIiWhUR0aqYE1/Mx7DZmMUkcZg4w+ZNJN7DNvFbERGtiohoVeaBJEbi9mwOM/dgE3/YTJiXFBHRqoiIVsUDibexmTB3JTESi9gcZuKiIiJaFRHRqngg28Q3YjWJw8QZNoeZ/1wREa2KiGhVxM+Q2IjVbPaYjyExEovYnGf2FRHRqoiIVkX8DJuNeQ6JCRH/Yk4oIqJVERGtfgHlDFqLiojOFgAAAABJRU5ErkJg\">"
      ],
      "text/plain": [
       "13×100 Matrix{RGB{N0f8}}:\n",
       " RGB(1.0, 1.0, 1.0)  RGB(1.0, 1.0, 1.0)  …  RGB(1.0, 1.0, 1.0)\n",
       " RGB(1.0, 0.0, 0.0)  RGB(0.0, 0.0, 0.0)     RGB(1.0, 1.0, 1.0)\n",
       " RGB(1.0, 1.0, 1.0)  RGB(1.0, 1.0, 1.0)     RGB(1.0, 1.0, 1.0)\n",
       " RGB(0.0, 0.0, 0.0)  RGB(0.0, 0.0, 0.0)     RGB(0.0, 0.0, 0.0)\n",
       " RGB(0.0, 1.0, 1.0)  RGB(0.0, 1.0, 1.0)     RGB(0.0, 0.0, 0.0)\n",
       " RGB(0.0, 1.0, 1.0)  RGB(0.0, 1.0, 1.0)  …  RGB(0.0, 0.0, 0.0)\n",
       " RGB(0.0, 1.0, 1.0)  RGB(0.0, 1.0, 1.0)     RGB(0.0, 0.0, 0.0)\n",
       " RGB(0.0, 1.0, 1.0)  RGB(0.0, 1.0, 1.0)     RGB(0.0, 0.0, 0.0)\n",
       " RGB(1.0, 1.0, 1.0)  RGB(1.0, 1.0, 1.0)     RGB(1.0, 1.0, 1.0)\n",
       " RGB(1.0, 1.0, 1.0)  RGB(1.0, 1.0, 1.0)     RGB(1.0, 1.0, 1.0)\n",
       " RGB(1.0, 1.0, 1.0)  RGB(1.0, 1.0, 1.0)  …  RGB(1.0, 1.0, 1.0)\n",
       " RGB(1.0, 1.0, 1.0)  RGB(1.0, 1.0, 1.0)     RGB(1.0, 1.0, 1.0)\n",
       " RGB(1.0, 1.0, 1.0)  RGB(1.0, 1.0, 1.0)     RGB(1.0, 1.0, 1.0)"
      ]
     },
     "metadata": {},
     "output_type": "display_data"
    },
    {
     "data": {
      "image/png": "[encoded data removed]",
      "text/html": [
       "<img src=\"data:image/png;base64,iVBORw0KGgoAAAANSUhEUgAAASwAAAAnCAIAAAA6r+JVAAAABGdBTUEAALGPC/xhBQAAAAFzUkdCAK7OHOkAAAAgY0hSTQAAeiYAAICEAAD6AAAAgOgAAHUwAADqYAAAOpgAABdwnLpRPAAAAWxJREFUeAHtwYGK20AQRMHXMP//y30gnMDeZZEtr26kuKvKNrcjsRGr2ewxESsVEdGqiIhWhcRG3IfNhHmPxEZMiUNsJkx8tCIiWhUR0aqw2Zj7kNiI78R7bPaYuDCJkVjE5mnmBUVEtCoiolVJ4nZsJsznkRiJRWwmzFXZjMwiEiMxJV5QRESrIiJaFTYjEyeQGIkbEw/mYiRG4uqKiGhVRESr4o4kRmIRmz3mEJuRiRPYjMwiEhPiLUVEtCoiolXxg3gwV2UzMotIbMSUOMRmj4lPVEREqyIiWhVz4sF8DJuNWU1iI6bEITYnkTiHbeKPIiJaFRHRqswNSYzE5dnsMRdjE3/ZTJi3FBHRqoiIVsUNidPYTJirkhiJRWyeZuKgIiJaFRHRqrgh28QPYjWJp4lX2DzN/OeKiGhVRESrIn6FJE5is8d8DImRWMTmaeYFRUS0KiKiVRG/wja3IzEh4h/MEUVEtCoiotUXNe5ai+wF7gUAAAAASUVORK5C\">"
      ],
      "text/plain": [
       "13×100 Matrix{RGB{N0f8}}:\n",
       " RGB(1.0, 1.0, 1.0)  RGB(1.0, 1.0, 1.0)  …  RGB(1.0, 1.0, 1.0)\n",
       " RGB(1.0, 0.0, 0.0)  RGB(0.0, 0.0, 0.0)     RGB(1.0, 1.0, 1.0)\n",
       " RGB(1.0, 1.0, 1.0)  RGB(1.0, 1.0, 1.0)     RGB(1.0, 1.0, 1.0)\n",
       " RGB(0.0, 0.0, 0.0)  RGB(0.0, 0.0, 0.0)     RGB(0.0, 0.0, 0.0)\n",
       " RGB(0.0, 1.0, 1.0)  RGB(0.0, 1.0, 1.0)     RGB(0.0, 0.0, 0.0)\n",
       " RGB(0.0, 1.0, 1.0)  RGB(0.0, 1.0, 1.0)  …  RGB(0.0, 0.0, 0.0)\n",
       " RGB(0.0, 1.0, 1.0)  RGB(0.0, 1.0, 1.0)     RGB(0.0, 0.0, 0.0)\n",
       " RGB(0.0, 1.0, 1.0)  RGB(0.0, 1.0, 1.0)     RGB(0.0, 0.0, 0.0)\n",
       " RGB(1.0, 1.0, 1.0)  RGB(1.0, 1.0, 1.0)     RGB(1.0, 1.0, 1.0)\n",
       " RGB(1.0, 1.0, 1.0)  RGB(1.0, 1.0, 1.0)     RGB(1.0, 1.0, 1.0)\n",
       " RGB(1.0, 1.0, 1.0)  RGB(1.0, 1.0, 1.0)  …  RGB(1.0, 1.0, 1.0)\n",
       " RGB(1.0, 1.0, 1.0)  RGB(1.0, 1.0, 1.0)     RGB(1.0, 1.0, 1.0)\n",
       " RGB(1.0, 1.0, 1.0)  RGB(1.0, 1.0, 1.0)     RGB(1.0, 1.0, 1.0)"
      ]
     },
     "metadata": {},
     "output_type": "display_data"
    },
    {
     "data": {
      "image/png": "[encoded data removed]",
      "text/html": [
       "<img src=\"data:image/png;base64,iVBORw0KGgoAAAANSUhEUgAAASwAAAAnCAIAAAA6r+JVAAAABGdBTUEAALGPC/xhBQAAAAFzUkdCAK7OHOkAAAAgY0hSTQAAeiYAAICEAAD6AAAAgOgAAHUwAADqYAAAOpgAABdwnLpRPAAAAWxJREFUeAHtwYFqrFAQRMHTMP//y/1Algc3wei614zGrirb3I7EQsxms8VEzFRERKsiIloVEgtxHzYrzGckRuIrcYjNChOPVkREqyIiWhU2C3MfEgvxlfiMzRYTFyYxEpPY7GbeUEREqyIiWpUkbsdmhXkeiYWYzWaFuSqbkZlEYiRWiTcUEdGqiIhWhc3IxAkkRiJOIDESV1dERKsiIloVdyQxEpPYbDGH2IxMnMBmZCaRGIk5iohoVUREq+Ib8WKuymZkJpFYiFXiEJstJp6oiIhWRUS0KtaJF/MYNgszm8RCrBKH2JxE4iQ2C3Nj5kV8pIiIVkVEtCpzQxIjcXk2W8zF2MR/NivMR4qIaFVERKvihsRpbFaYq5IYiUlsdjNxUBERrYqIaFXckG3iGzGbxG7iHTa7mT+uiIhWRUS0KuJXSOIkNlvMY0iMxCQ2u5k3FBHRqoiIVkX8CtvcjsRIxE/MEUVEtCoiotU/gghai74LNIMAAAAASUVORK5C\">"
      ],
      "text/plain": [
       "13×100 Matrix{RGB{N0f8}}:\n",
       " RGB(1.0, 1.0, 1.0)  RGB(1.0, 1.0, 1.0)  …  RGB(1.0, 1.0, 1.0)\n",
       " RGB(1.0, 0.0, 0.0)  RGB(0.0, 0.0, 0.0)     RGB(1.0, 1.0, 1.0)\n",
       " RGB(1.0, 1.0, 1.0)  RGB(1.0, 1.0, 1.0)     RGB(1.0, 1.0, 1.0)\n",
       " RGB(0.0, 0.0, 0.0)  RGB(0.0, 0.0, 0.0)     RGB(0.0, 0.0, 0.0)\n",
       " RGB(0.0, 1.0, 1.0)  RGB(0.0, 1.0, 1.0)     RGB(0.0, 0.0, 0.0)\n",
       " RGB(0.0, 1.0, 1.0)  RGB(0.0, 1.0, 1.0)  …  RGB(0.0, 0.0, 0.0)\n",
       " RGB(0.0, 1.0, 1.0)  RGB(0.0, 1.0, 1.0)     RGB(0.0, 0.0, 0.0)\n",
       " RGB(0.0, 1.0, 1.0)  RGB(0.0, 1.0, 1.0)     RGB(0.0, 0.0, 0.0)\n",
       " RGB(1.0, 1.0, 1.0)  RGB(1.0, 1.0, 1.0)     RGB(1.0, 1.0, 1.0)\n",
       " RGB(1.0, 1.0, 1.0)  RGB(1.0, 1.0, 1.0)     RGB(1.0, 1.0, 1.0)\n",
       " RGB(1.0, 1.0, 1.0)  RGB(1.0, 1.0, 1.0)  …  RGB(1.0, 1.0, 1.0)\n",
       " RGB(1.0, 1.0, 1.0)  RGB(1.0, 1.0, 1.0)     RGB(1.0, 1.0, 1.0)\n",
       " RGB(1.0, 1.0, 1.0)  RGB(1.0, 1.0, 1.0)     RGB(1.0, 1.0, 1.0)"
      ]
     },
     "metadata": {},
     "output_type": "display_data"
    },
    {
     "data": {
      "image/png": "[encoded data removed]",
      "text/html": [
       "<img src=\"data:image/png;base64,iVBORw0KGgoAAAANSUhEUgAAASwAAAAnCAIAAAA6r+JVAAAABGdBTUEAALGPC/xhBQAAAAFzUkdCAK7OHOkAAAAgY0hSTQAAeiYAAICEAAD6AAAAgOgAAHUwAADqYAAAOpgAABdwnLpRPAAAAWpJREFUeAHtwYFq40AQRMHXMP//y30gQrhNUGTLq4w27qqyzXIkNmI2myMmYqYiIloVEdGqkNiIddjsMK+RGImvxCk2O0y8tSIiWhUR0aqw2Zh1SGzEV+I1NkdM3JjESExi8zDzhCIiWhUR0aoksRybHeb9SGzEbDY7zF3ZjMwkEiOxSzyhiIhWRUS0KmxGJi4gMRJxAYmRuLsiIloVEdGqWJHESExic8ScYjMycQGbkZlEYiTmKCKiVRERrYpvxAdzVzYjM4nERuwSp9gcMfGOiohoVUREqyL+Z7Mxs0lsxC5xis1FJC5iszELMx/ES4qIaFVERKsyC5IYiduzOWJuxiY+2ewwLykiolUREa2KBYnL2OwwdyUxEpPYPMzESUVEtCoiolWxINvEN2I2iYeJZ9g8zPxxRUS0KiKiVRG/QhIXsTli3obESExi8zDzhCIiWhUR0aqIX2Gb5UiMRPzEnFFERKsiIlr9A0lOWYv+vzGcAAAAAElFTkSuQmCC\">"
      ],
      "text/plain": [
       "13×100 Matrix{RGB{N0f8}}:\n",
       " RGB(1.0, 1.0, 1.0)  RGB(1.0, 1.0, 1.0)  …  RGB(1.0, 1.0, 1.0)\n",
       " RGB(1.0, 0.0, 0.0)  RGB(0.0, 0.0, 0.0)     RGB(1.0, 1.0, 1.0)\n",
       " RGB(1.0, 1.0, 1.0)  RGB(1.0, 1.0, 1.0)     RGB(1.0, 1.0, 1.0)\n",
       " RGB(0.0, 0.0, 0.0)  RGB(0.0, 0.0, 0.0)     RGB(0.0, 0.0, 0.0)\n",
       " RGB(0.0, 1.0, 1.0)  RGB(0.0, 1.0, 1.0)     RGB(0.0, 0.0, 0.0)\n",
       " RGB(0.0, 1.0, 1.0)  RGB(0.0, 1.0, 1.0)  …  RGB(0.0, 0.0, 0.0)\n",
       " RGB(0.0, 1.0, 1.0)  RGB(0.0, 1.0, 1.0)     RGB(0.0, 0.0, 0.0)\n",
       " RGB(0.0, 1.0, 1.0)  RGB(0.0, 1.0, 1.0)     RGB(0.0, 0.0, 0.0)\n",
       " RGB(1.0, 1.0, 1.0)  RGB(1.0, 1.0, 1.0)     RGB(1.0, 1.0, 1.0)\n",
       " RGB(1.0, 1.0, 1.0)  RGB(1.0, 1.0, 1.0)     RGB(1.0, 1.0, 1.0)\n",
       " RGB(1.0, 1.0, 1.0)  RGB(1.0, 1.0, 1.0)  …  RGB(1.0, 1.0, 1.0)\n",
       " RGB(1.0, 1.0, 1.0)  RGB(1.0, 1.0, 1.0)     RGB(1.0, 1.0, 1.0)\n",
       " RGB(1.0, 1.0, 1.0)  RGB(1.0, 1.0, 1.0)     RGB(1.0, 1.0, 1.0)"
      ]
     },
     "metadata": {},
     "output_type": "display_data"
    },
    {
     "data": {
      "image/png": "[encoded data removed]",
      "text/html": [
       "<img src=\"data:image/png;base64,iVBORw0KGgoAAAANSUhEUgAAASwAAAAnCAIAAAA6r+JVAAAABGdBTUEAALGPC/xhBQAAAAFzUkdCAK7OHOkAAAAgY0hSTQAAeiYAAICEAAD6AAAAgOgAAHUwAADqYAAAOpgAABdwnLpRPAAAAWpJREFUeAHtwYGK20AQRMHXMP//y30gjpC9i5AtrzzauKvKNsuR2IjZbI6YiJmKiGhVRESrQmIj1mGzw7xGYiR+EqfY7DDx0YqIaFVERKvCZmPWIbERP4nX2BwxcWMSIzGJzcPME4qIaFVERKuSxHJsRuaDSWzEbDZHzM3YjMwkEiOxSzyhiIhWRUS0KmxGJi4gMRILM3clMRJ3V0REqyIiWhUrkhiJSWyOmFNsRiYuYDMyk0iMxBxFRLQqIqJV8Yv4Zu7KZmQmkdiIXeIUmyMmPlEREa2KiGhVxN9sNmY2iY3YJU6xuYjERWw2ZmHmm3hJERGtiohoVWZBEiNxezZHzM3YxB82O8xLiohoVUREq2JB4jI2O8xdSYzEJDYPM3FSERGtiohoVSzINvEGEg8Tz7B5mPnPFRHRqoiIVkW8hSQuYnPEfAyJkZjE5mHmCUVEtCoiolURb2Gb5UjsEPEP5owiIloVEdHqC6L5WokmIbaZAAAAAElFTkSuQmCC\">"
      ],
      "text/plain": [
       "13×100 Matrix{RGB{N0f8}}:\n",
       " RGB(1.0, 1.0, 1.0)  RGB(1.0, 1.0, 1.0)  …  RGB(1.0, 1.0, 1.0)\n",
       " RGB(1.0, 0.0, 0.0)  RGB(0.0, 0.0, 0.0)     RGB(1.0, 1.0, 1.0)\n",
       " RGB(1.0, 1.0, 1.0)  RGB(1.0, 1.0, 1.0)     RGB(1.0, 1.0, 1.0)\n",
       " RGB(0.0, 0.0, 0.0)  RGB(0.0, 0.0, 0.0)     RGB(0.0, 0.0, 0.0)\n",
       " RGB(0.0, 1.0, 1.0)  RGB(0.0, 1.0, 1.0)     RGB(0.0, 0.0, 0.0)\n",
       " RGB(0.0, 1.0, 1.0)  RGB(0.0, 1.0, 1.0)  …  RGB(0.0, 0.0, 0.0)\n",
       " RGB(0.0, 1.0, 1.0)  RGB(0.0, 1.0, 1.0)     RGB(0.0, 0.0, 0.0)\n",
       " RGB(0.0, 1.0, 1.0)  RGB(0.0, 1.0, 1.0)     RGB(0.0, 0.0, 0.0)\n",
       " RGB(1.0, 1.0, 1.0)  RGB(1.0, 1.0, 1.0)     RGB(1.0, 1.0, 1.0)\n",
       " RGB(1.0, 1.0, 1.0)  RGB(1.0, 1.0, 1.0)     RGB(1.0, 1.0, 1.0)\n",
       " RGB(1.0, 1.0, 1.0)  RGB(1.0, 1.0, 1.0)  …  RGB(1.0, 1.0, 1.0)\n",
       " RGB(1.0, 1.0, 1.0)  RGB(1.0, 1.0, 1.0)     RGB(1.0, 1.0, 1.0)\n",
       " RGB(1.0, 1.0, 1.0)  RGB(1.0, 1.0, 1.0)     RGB(1.0, 1.0, 1.0)"
      ]
     },
     "metadata": {},
     "output_type": "display_data"
    },
    {
     "data": {
      "image/png": "[encoded data removed]",
      "text/html": [
       "<img src=\"data:image/png;base64,iVBORw0KGgoAAAANSUhEUgAAASwAAAAnCAIAAAA6r+JVAAAABGdBTUEAALGPC/xhBQAAAAFzUkdCAK7OHOkAAAAgY0hSTQAAeiYAAICEAAD6AAAAgOgAAHUwAADqYAAAOpgAABdwnLpRPAAAAWtJREFUeAHtwYGK4zAQRMHXMP//y30gluW0d8ZZR8lYpKvKNtuRGMRqNmdMxEpFRLQqIqJVITGIfdgcMM+RmImfxCU2B0x8tCIiWhUR0aqwGcw+JAbxk3iOzRkTNyYxE4vYnDFXFBHRqoiIViWJ7djMzAeTGMRqNmfMzdjMzCISM/GTuKKIiFZFRLQqbGYmXkBiJjZm7kpiJu6uiIhWRUS0KnYkMROL2Jwxl9jMTLyAzcwsIjETaxQR0aqIiFbFP8QXc1c2M7OIxCAOiUtszpj4REVEtCoiolURf7MZzGoSgzgkLrF5EYkXsRnMxswX8ZQiIloVEdGqzIYkZuL2bM6Ym7GJbzYHzFOKiGhVRESrYkPiZWwOmLuSmIlFbB5m4qIiIloVEdGq2JBt4g0kHiZ+w+aM+RRFRLQqIqJVEe8hMYjVbM6YjyExE4vYPMz8QhERrYqIaFXEe9gMZh8SB0T8h7miiIhWRUS0+gOr8FqJL08KxAAAAABJRU5ErkJg\">"
      ],
      "text/plain": [
       "13×100 Matrix{RGB{N0f8}}:\n",
       " RGB(1.0, 1.0, 1.0)  RGB(1.0, 1.0, 1.0)  …  RGB(1.0, 1.0, 1.0)\n",
       " RGB(1.0, 0.0, 0.0)  RGB(0.0, 0.0, 0.0)     RGB(1.0, 1.0, 1.0)\n",
       " RGB(1.0, 1.0, 1.0)  RGB(1.0, 1.0, 1.0)     RGB(1.0, 1.0, 1.0)\n",
       " RGB(0.0, 0.0, 0.0)  RGB(0.0, 0.0, 0.0)     RGB(0.0, 0.0, 0.0)\n",
       " RGB(0.0, 1.0, 1.0)  RGB(0.0, 1.0, 1.0)     RGB(0.0, 0.0, 0.0)\n",
       " RGB(0.0, 1.0, 1.0)  RGB(0.0, 1.0, 1.0)  …  RGB(0.0, 0.0, 0.0)\n",
       " RGB(0.0, 1.0, 1.0)  RGB(0.0, 1.0, 1.0)     RGB(0.0, 0.0, 0.0)\n",
       " RGB(0.0, 1.0, 1.0)  RGB(0.0, 1.0, 1.0)     RGB(0.0, 0.0, 0.0)\n",
       " RGB(1.0, 1.0, 1.0)  RGB(1.0, 1.0, 1.0)     RGB(1.0, 1.0, 1.0)\n",
       " RGB(1.0, 1.0, 1.0)  RGB(1.0, 1.0, 1.0)     RGB(1.0, 1.0, 1.0)\n",
       " RGB(1.0, 1.0, 1.0)  RGB(1.0, 1.0, 1.0)  …  RGB(1.0, 1.0, 1.0)\n",
       " RGB(1.0, 1.0, 1.0)  RGB(1.0, 1.0, 1.0)     RGB(1.0, 1.0, 1.0)\n",
       " RGB(1.0, 1.0, 1.0)  RGB(1.0, 1.0, 1.0)     RGB(1.0, 1.0, 1.0)"
      ]
     },
     "metadata": {},
     "output_type": "display_data"
    }
   ],
   "source": [
    "train!(u, v, rbar, W, target, T, N_trials)"
   ]
  },
  {
   "cell_type": "markdown",
   "metadata": {},
   "source": [
    "---"
   ]
  },
  {
   "cell_type": "code",
   "execution_count": 18,
   "metadata": {},
   "outputs": [
    {
     "data": {
      "text/plain": [
       "BenchmarkTools.Trial: 10000 samples with 8 evaluations.\n",
       " Range \u001b[90m(\u001b[39m\u001b[36m\u001b[1mmin\u001b[22m\u001b[39m … \u001b[35mmax\u001b[39m\u001b[90m):  \u001b[39m\u001b[36m\u001b[1m3.611 μs\u001b[22m\u001b[39m … \u001b[35m 1.581 ms\u001b[39m  \u001b[90m┊\u001b[39m GC \u001b[90m(\u001b[39mmin … max\u001b[90m): \u001b[39m0.00% … 99.22%\n",
       " Time  \u001b[90m(\u001b[39m\u001b[34m\u001b[1mmedian\u001b[22m\u001b[39m\u001b[90m):     \u001b[39m\u001b[34m\u001b[1m3.864 μs              \u001b[22m\u001b[39m\u001b[90m┊\u001b[39m GC \u001b[90m(\u001b[39mmedian\u001b[90m):    \u001b[39m0.00%\n",
       " Time  \u001b[90m(\u001b[39m\u001b[32m\u001b[1mmean\u001b[22m\u001b[39m ± \u001b[32mσ\u001b[39m\u001b[90m):   \u001b[39m\u001b[32m\u001b[1m4.616 μs\u001b[22m\u001b[39m ± \u001b[32m20.789 μs\u001b[39m  \u001b[90m┊\u001b[39m GC \u001b[90m(\u001b[39mmean ± σ\u001b[90m):  \u001b[39m6.31% ±  1.40%\n",
       "\n",
       "  \u001b[39m \u001b[39m \u001b[39m \u001b[39m▇\u001b[39m█\u001b[39m▂\u001b[39m \u001b[34m \u001b[39m\u001b[39m \u001b[39m \u001b[39m \u001b[39m \u001b[39m \u001b[39m \u001b[39m \u001b[39m \u001b[39m \u001b[39m \u001b[39m \u001b[39m \u001b[39m \u001b[39m \u001b[39m \u001b[39m \u001b[39m \u001b[39m \u001b[39m \u001b[32m \u001b[39m\u001b[39m \u001b[39m \u001b[39m \u001b[39m \u001b[39m \u001b[39m \u001b[39m \u001b[39m \u001b[39m \u001b[39m \u001b[39m \u001b[39m \u001b[39m \u001b[39m \u001b[39m \u001b[39m \u001b[39m \u001b[39m \u001b[39m \u001b[39m \u001b[39m \u001b[39m \u001b[39m \u001b[39m \u001b[39m \u001b[39m \u001b[39m \u001b[39m \u001b[39m \u001b[39m \u001b[39m \u001b[39m \n",
       "  \u001b[39m▁\u001b[39m▂\u001b[39m▇\u001b[39m█\u001b[39m█\u001b[39m█\u001b[39m▅\u001b[34m▃\u001b[39m\u001b[39m▂\u001b[39m▂\u001b[39m▁\u001b[39m▁\u001b[39m▁\u001b[39m▁\u001b[39m▁\u001b[39m▁\u001b[39m▁\u001b[39m▁\u001b[39m▁\u001b[39m▁\u001b[39m▁\u001b[39m▁\u001b[39m▁\u001b[39m▁\u001b[39m▁\u001b[39m▁\u001b[39m▁\u001b[32m▁\u001b[39m\u001b[39m▁\u001b[39m▃\u001b[39m▆\u001b[39m▆\u001b[39m▄\u001b[39m▃\u001b[39m▂\u001b[39m▃\u001b[39m▅\u001b[39m▅\u001b[39m▄\u001b[39m▃\u001b[39m▂\u001b[39m▂\u001b[39m▂\u001b[39m▂\u001b[39m▁\u001b[39m▁\u001b[39m▁\u001b[39m▁\u001b[39m▁\u001b[39m▁\u001b[39m▁\u001b[39m▁\u001b[39m▁\u001b[39m▁\u001b[39m▁\u001b[39m▁\u001b[39m▁\u001b[39m▁\u001b[39m \u001b[39m▂\n",
       "  3.61 μs\u001b[90m        Histogram: frequency by time\u001b[39m        5.77 μs \u001b[0m\u001b[1m<\u001b[22m\n",
       "\n",
       " Memory estimate\u001b[90m: \u001b[39m\u001b[33m3.33 KiB\u001b[39m, allocs estimate\u001b[90m: \u001b[39m\u001b[33m18\u001b[39m."
      ]
     },
     "metadata": {},
     "output_type": "display_data"
    }
   ],
   "source": [
    "using BenchmarkTools\n",
    "u_tgt_bench::Vector{Float64} = E1*ones(N_out) + 20*Float64.(rand(N_out).<.5);\n",
    "@benchmark step!($u, $u_tgt_bench, $v, $rbar, $W)"
   ]
  },
  {
   "cell_type": "markdown",
   "metadata": {},
   "source": [
    "On my way to simplification:\n",
    "\n",
    "$$v_{t+1} = \\gamma_v v_t + W_tr_{t-\\tau_d}$$\n",
    "$$u^l_{t+1} = \\gamma_u u^l_t + \\alpha_d v^l_t + \\alpha_e B r_{t-\\tau_e} \\odot (1-u^l_t) + \\alpha_i B r_{t-\\tau_e-\\delta} \\odot (-1-u^l_t)$$\n",
    "$$u^o_{t+1} = \\gamma_u u^o_t + \\alpha_d v^o_t - \\alpha_t(u^o_t-u_{tgt})$$\n",
    "$$\\bar{r}_{t+1} = \\gamma_r \\bar{r}_t + \\alpha_{r} r_{t-\\tau_d}$$\n",
    "$$W_{t+1} = W_t + \\eta\\left[r_t-\\rho(\\alpha_v v_t+k)\\right]\\bar{r}_t^T$$"
   ]
  },
  {
   "cell_type": "markdown",
   "metadata": {},
   "source": []
  }
 ],
 "metadata": {
  "kernelspec": {
   "display_name": "Julia 1.11.1",
   "language": "julia",
   "name": "julia-1.11"
  },
  "language_info": {
   "file_extension": ".jl",
   "mimetype": "application/julia",
   "name": "julia",
   "version": "1.11.1"
  }
 },
 "nbformat": 4,
 "nbformat_minor": 2
}
