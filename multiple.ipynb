{
 "cells": [
  {
   "cell_type": "code",
   "execution_count": 86,
   "metadata": {},
   "outputs": [],
   "source": [
    "include(\"src/Elise.jl\");"
   ]
  },
  {
   "cell_type": "code",
   "execution_count": 87,
   "metadata": {},
   "outputs": [],
   "source": [
    "Random.seed!(1234);"
   ]
  },
  {
   "cell_type": "markdown",
   "metadata": {},
   "source": [
    "---"
   ]
  },
  {
   "cell_type": "markdown",
   "metadata": {},
   "source": [
    "## Config"
   ]
  },
  {
   "cell_type": "code",
   "execution_count": 88,
   "metadata": {},
   "outputs": [
    {
     "name": "stdout",
     "output_type": "stream",
     "text": [
      "Config\n",
      "  dt: Float64 0.1\n",
      "  E_exc: Float64 1.0\n",
      "  E_inh: Float64 -1.0\n",
      "  g_l: Float64 0.1\n",
      "  g_den: Float64 2.0\n",
      "  g_e: Float64 0.3\n",
      "  g_i: Float64 0.9\n",
      "  δ: Float64 25.0\n",
      "  η: Float64 1.0e-5\n",
      "  λ: Float64 0.6\n",
      "  a: Float64 21.0\n",
      "  b: Float64 0.18\n"
     ]
    }
   ],
   "source": [
    "const cfg = Config(η=1e-5)\n",
    "dump(cfg)"
   ]
  },
  {
   "cell_type": "markdown",
   "metadata": {},
   "source": [
    "---"
   ]
  },
  {
   "cell_type": "markdown",
   "metadata": {},
   "source": [
    "## Data"
   ]
  },
  {
   "cell_type": "markdown",
   "metadata": {},
   "source": [
    "Reading target from midi file. We also get the needed number of output neurons (with possibly some silent in the middle, it is just the highest note - the lowest note) and the needed simulation time in ms."
   ]
  },
  {
   "cell_type": "code",
   "execution_count": 66,
   "metadata": {},
   "outputs": [
    {
     "data": {
      "text/plain": [
       "158"
      ]
     },
     "metadata": {},
     "output_type": "display_data"
    }
   ],
   "source": [
    "T_min::Float64 = 0.\n",
    "T_max::Float64 = 158 #T_end = size(Target, 2) / cfg.dt - cfg.dt"
   ]
  },
  {
   "cell_type": "code",
   "execution_count": 89,
   "metadata": {},
   "outputs": [],
   "source": [
    "Targets::Vector{Matrix{Bool}} = [from_midi(\"Well Tempered Clavier/Preludes/Prelude\"*string(i)*\".mid\") for i in [4,9,18,21]];\n",
    "trim(M) = M[findfirst(i->any(M[i,:]),1:size(M,1)):findlast(i->any(M[i,:]),1:size(M,1)),\n",
    "            findfirst(i->any(M[:,i]),1:size(M,2)):findlast(i->any(M[:,i]),1:size(M,2))]\n",
    "Target::Matrix{Bool} = vcat([trim(t[:,1:1 + floor(Int,T_max*cfg.dt)]) for t in Targets]...)\n",
    "target = t->Float64.(Target[:,1 + floor(Int,t*cfg.dt)]);"
   ]
  },
  {
   "cell_type": "code",
   "execution_count": 90,
   "metadata": {},
   "outputs": [
    {
     "data": {
      "image/png": "[encoded data removed]",
      "text/html": [
       "<img src=\"data:image/png;base64,iVBORw0KGgoAAAANSUhEUgAAAJ8AAABgCAAAAAAmtP/wAAAABGdBTUEAALGPC/xhBQAAAAFzUkdCAK7OHOkAAAAgY0hSTQAAeiYAAICEAAD6AAAAgOgAAHUwAADqYAAAOpgAABdwnLpRPAAAAaRJREFUaAXNwUFu4EAMA8EmwP9/mXuJ9yLDUMbjjKrMIaHFHCJazGxmNjObQyW+F1oszhAt5kaoxBHmhhjDNIVKVKESVWgxTaIKlegRLeYF8TnzB0IlWswfEMvMbGY2M5uZzcxmZjOzmdnMbGY2h9Es1oVKVKESLeYFUYVKVOEiHpjNRI9oMceFiyjMceKBaQqV2CsUpkl8TxRmNnMjVOIIc0OMYWYzszlUYgyL0cxsZjYzm5nNzGYOCS3mhbBOtJgXxOfMbGY2h9Es5giFGUQUZjYzm3khVGIr84KoQiWWmc3EVubXwkX0hEq0mF8TvyWWmRvhIr4SWsx/4SKqcBE7iBbzn3gijnC4iCpcxBEWT8RhZjYzm5nN3AiVOMLcEGOYptAjtjJN4giHSqwLlegJF/HDYi9RhUpcwkUU5g+IJ+KBwzqxLlxEFX5YrAvrxBPxw2wmtjIviM+Z2cxsDuvEXqGwmEMUZjazWVgnCrOZ2MrMZmZzqEQVKvE5iypU4ghzQ4xhNguVqEIlCrOZ6BEt5oVQiSpUosW8IHrEMjObGSQU/wBWwDilnV1LPQAAAABJRU5ErkJg\">"
      ],
      "text/plain": [
       "96×159 Matrix{Gray{Float64}}:\n",
       " 0.0  0.0  0.0  0.0  0.0  0.0  0.0  0.0  …  1.0  1.0  1.0  1.0  1.0  1.0  1.0\n",
       " 0.0  0.0  0.0  0.0  0.0  0.0  0.0  0.0     0.0  0.0  0.0  0.0  0.0  0.0  0.0\n",
       " 0.0  0.0  0.0  0.0  0.0  0.0  0.0  0.0     0.0  0.0  0.0  0.0  0.0  0.0  0.0\n",
       " 0.0  0.0  0.0  0.0  0.0  0.0  0.0  0.0     0.0  0.0  0.0  0.0  0.0  0.0  0.0\n",
       " 0.0  0.0  0.0  0.0  0.0  0.0  0.0  0.0     0.0  0.0  0.0  0.0  0.0  0.0  0.0\n",
       " 1.0  1.0  1.0  1.0  1.0  1.0  1.0  1.0  …  1.0  1.0  1.0  1.0  1.0  1.0  1.0\n",
       " 0.0  0.0  0.0  0.0  0.0  0.0  0.0  0.0     0.0  0.0  0.0  0.0  0.0  0.0  0.0\n",
       " 0.0  0.0  0.0  0.0  0.0  0.0  0.0  0.0     0.0  0.0  0.0  0.0  0.0  0.0  0.0\n",
       " 0.0  0.0  0.0  0.0  0.0  0.0  0.0  0.0     0.0  0.0  0.0  0.0  0.0  0.0  0.0\n",
       " 0.0  0.0  0.0  0.0  0.0  0.0  0.0  0.0     1.0  1.0  1.0  1.0  1.0  1.0  1.0\n",
       " ⋮                        ⋮              ⋱                 ⋮              \n",
       " 1.0  1.0  1.0  1.0  1.0  1.0  1.0  1.0     0.0  0.0  0.0  0.0  0.0  0.0  0.0\n",
       " 0.0  0.0  0.0  0.0  0.0  0.0  0.0  0.0     0.0  0.0  0.0  0.0  0.0  0.0  0.0\n",
       " 0.0  0.0  0.0  0.0  0.0  0.0  0.0  0.0     0.0  0.0  0.0  0.0  0.0  0.0  0.0\n",
       " 0.0  0.0  0.0  0.0  0.0  0.0  0.0  0.0  …  0.0  0.0  0.0  0.0  0.0  0.0  0.0\n",
       " 0.0  0.0  0.0  0.0  0.0  0.0  0.0  0.0     0.0  0.0  0.0  0.0  0.0  0.0  0.0\n",
       " 0.0  0.0  0.0  0.0  0.0  0.0  0.0  0.0     0.0  0.0  0.0  0.0  0.0  0.0  0.0\n",
       " 0.0  0.0  0.0  0.0  0.0  0.0  0.0  0.0     0.0  0.0  0.0  0.0  0.0  0.0  0.0\n",
       " 0.0  0.0  0.0  0.0  0.0  0.0  0.0  0.0     0.0  0.0  0.0  0.0  0.0  0.0  0.0\n",
       " 0.0  0.0  0.0  0.0  0.0  0.0  0.0  0.0  …  1.0  1.0  1.0  1.0  1.0  1.0  1.0"
      ]
     },
     "metadata": {},
     "output_type": "display_data"
    }
   ],
   "source": [
    "Gray.(reduce(hcat,[target(t) for t in T_min:T_max]))"
   ]
  },
  {
   "cell_type": "markdown",
   "metadata": {},
   "source": [
    "---"
   ]
  },
  {
   "cell_type": "markdown",
   "metadata": {},
   "source": [
    "## Parameters"
   ]
  },
  {
   "cell_type": "code",
   "execution_count": 91,
   "metadata": {},
   "outputs": [
    {
     "data": {
      "text/plain": [
       "(N = 384, N_latent = 288, N_out = 96)"
      ]
     },
     "metadata": {},
     "output_type": "display_data"
    }
   ],
   "source": [
    "N_out::Int = size(Target, 1)\n",
    "N_latent::Int = 3 * N_out;\n",
    "N::Int = N_out + N_latent;\n",
    "(N=N, N_latent=N_latent, N_out=N_out)"
   ]
  },
  {
   "cell_type": "code",
   "execution_count": 92,
   "metadata": {},
   "outputs": [
    {
     "name": "stderr",
     "output_type": "stream",
     "text": [
      "WARNING: redefinition of constant Main.B. This may fail, cause incorrect answers, or produce other errors.\n",
      "WARNING: redefinition of constant Main.τ_d. This may fail, cause incorrect answers, or produce other errors.\n",
      "WARNING: redefinition of constant Main.τ_s. This may fail, cause incorrect answers, or produce other errors.\n"
     ]
    }
   ],
   "source": [
    "W::Matrix{Float64} = rand(Normal(0., 0.0005), N, N);\n",
    "const B::Matrix{Float64} = Float64.(rand(N_latent, N) .< 1.5/N);\n",
    "const τ_d::Vector{Float64} = rand(Uniform(1., 20.), N);\n",
    "const τ_s::Vector{Float64} = rand(Uniform(1., 20.), N);"
   ]
  },
  {
   "cell_type": "code",
   "execution_count": 93,
   "metadata": {},
   "outputs": [],
   "source": [
    "args = [W, B, τ_d, τ_s, cfg, target, T_min, T_max];"
   ]
  },
  {
   "cell_type": "markdown",
   "metadata": {},
   "source": [
    "---"
   ]
  },
  {
   "cell_type": "markdown",
   "metadata": {},
   "source": [
    "## Training "
   ]
  },
  {
   "cell_type": "code",
   "execution_count": 94,
   "metadata": {},
   "outputs": [],
   "source": [
    "train!(args..., 100)"
   ]
  },
  {
   "cell_type": "markdown",
   "metadata": {},
   "source": [
    "---"
   ]
  },
  {
   "cell_type": "markdown",
   "metadata": {},
   "source": [
    "## Testing"
   ]
  },
  {
   "cell_type": "code",
   "execution_count": 95,
   "metadata": {},
   "outputs": [
    {
     "data": {
      "text/plain": [
       "0.7812840043525572"
      ]
     },
     "metadata": {},
     "output_type": "display_data"
    }
   ],
   "source": [
    "θ::Float64 = 0.5;\n",
    "metric = (r,t;θ=θ) -> sum((r.>θ).&(t.>θ)) / sum((r.>θ).|(t.>θ))\n",
    "test!(args..., metric, N_out)"
   ]
  },
  {
   "cell_type": "code",
   "execution_count": 96,
   "metadata": {},
   "outputs": [],
   "source": [
    "N_run::Int = 5\n",
    "nudge_on_run_nb(n) = n % 4 == 0\n",
    "r, u, v = run!(args..., N_run, nudge_on_run_nb);"
   ]
  },
  {
   "cell_type": "code",
   "execution_count": 97,
   "metadata": {},
   "outputs": [
    {
     "data": {
      "image/png": "[encoded data removed]",
      "text/html": [
       "<img src=\"data:image/png;base64,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\">"
      ],
      "text/plain": [
       "291×795 Matrix{RGB{N0f8}}:\n",
       " RGB(1.0, 1.0, 1.0)  RGB(1.0, 1.0, 1.0)  …  RGB(0.0, 0.0, 0.0)\n",
       " RGB(1.0, 1.0, 1.0)  RGB(1.0, 1.0, 1.0)     RGB(0.0, 0.0, 0.0)\n",
       " RGB(1.0, 1.0, 1.0)  RGB(1.0, 1.0, 1.0)     RGB(0.333, 0.333, 0.333)\n",
       " RGB(1.0, 1.0, 1.0)  RGB(1.0, 1.0, 1.0)     RGB(0.667, 0.667, 0.667)\n",
       " RGB(1.0, 1.0, 1.0)  RGB(1.0, 1.0, 1.0)     RGB(1.0, 1.0, 1.0)\n",
       " RGB(1.0, 1.0, 1.0)  RGB(1.0, 1.0, 1.0)  …  RGB(1.0, 1.0, 1.0)\n",
       " RGB(1.0, 1.0, 1.0)  RGB(1.0, 1.0, 1.0)     RGB(1.0, 1.0, 1.0)\n",
       " RGB(1.0, 1.0, 1.0)  RGB(1.0, 1.0, 1.0)     RGB(1.0, 1.0, 1.0)\n",
       " RGB(1.0, 1.0, 1.0)  RGB(1.0, 1.0, 1.0)     RGB(1.0, 1.0, 1.0)\n",
       " RGB(1.0, 1.0, 1.0)  RGB(1.0, 1.0, 1.0)     RGB(1.0, 1.0, 1.0)\n",
       " ⋮                                       ⋱  \n",
       " RGB(1.0, 1.0, 1.0)  RGB(1.0, 1.0, 1.0)     RGB(1.0, 1.0, 1.0)\n",
       " RGB(1.0, 1.0, 1.0)  RGB(1.0, 1.0, 1.0)     RGB(1.0, 1.0, 1.0)\n",
       " RGB(1.0, 1.0, 1.0)  RGB(1.0, 1.0, 1.0)     RGB(1.0, 1.0, 1.0)\n",
       " RGB(1.0, 1.0, 1.0)  RGB(1.0, 1.0, 1.0)  …  RGB(1.0, 1.0, 1.0)\n",
       " RGB(1.0, 1.0, 1.0)  RGB(1.0, 1.0, 1.0)     RGB(1.0, 1.0, 1.0)\n",
       " RGB(1.0, 1.0, 1.0)  RGB(1.0, 1.0, 1.0)     RGB(0.667, 0.667, 0.667)\n",
       " RGB(1.0, 1.0, 1.0)  RGB(1.0, 1.0, 1.0)     RGB(0.333, 0.333, 0.333)\n",
       " RGB(1.0, 1.0, 1.0)  RGB(1.0, 1.0, 1.0)     RGB(0.0, 0.0, 0.0)\n",
       " RGB(1.0, 1.0, 1.0)  RGB(1.0, 1.0, 1.0)  …  RGB(0.0, 0.0, 0.0)"
      ]
     },
     "metadata": {},
     "output_type": "display_data"
    }
   ],
   "source": [
    "plot(r[1:N_out,:], target, T_min, T_max, N_run, θ, ratio=(3,1), vsizes=[25,50,77])"
   ]
  },
  {
   "cell_type": "code",
   "execution_count": null,
   "metadata": {},
   "outputs": [],
   "source": [
    "using BenchmarkTools\n",
    "\n",
    "u, v, rbar, m_den, m_som_exc, m_som_inh = initialize(τ_d, τ_s, cfg)\n",
    "u_tgt_bench::Vector{Float64} = Float64.(rand(N_out).>3/4);\n",
    "\n",
    "@benchmark step!($u, $u_tgt_bench, $v, $rbar, $W, $B, $cfg, $m_den, $m_som_exc, $m_som_inh)"
   ]
  }
 ],
 "metadata": {
  "kernelspec": {
   "display_name": "Julia 1.11.2",
   "language": "julia",
   "name": "julia-1.11"
  },
  "language_info": {
   "file_extension": ".jl",
   "mimetype": "application/julia",
   "name": "julia",
   "version": "1.11.2"
  }
 },
 "nbformat": 4,
 "nbformat_minor": 2
}
