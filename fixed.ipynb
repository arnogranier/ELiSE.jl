{
 "cells": [
  {
   "cell_type": "code",
   "execution_count": 2,
   "metadata": {},
   "outputs": [],
   "source": [
    "include(\"src/Elise.jl\");"
   ]
  },
  {
   "cell_type": "code",
   "execution_count": 23,
   "metadata": {},
   "outputs": [],
   "source": [
    "Random.seed!(1234);"
   ]
  },
  {
   "cell_type": "markdown",
   "metadata": {},
   "source": [
    "---"
   ]
  },
  {
   "cell_type": "markdown",
   "metadata": {},
   "source": [
    "## Config"
   ]
  },
  {
   "cell_type": "code",
   "execution_count": 5,
   "metadata": {},
   "outputs": [
    {
     "name": "stdout",
     "output_type": "stream",
     "text": [
      "Config\n",
      "  dt: Float64 0.1\n",
      "  E_exc: Float64 1.0\n",
      "  E_inh: Float64 -1.0\n",
      "  g_l: Float64 0.1\n",
      "  g_den: Float64 2.0\n",
      "  g_e: Float64 0.3\n",
      "  g_i: Float64 0.9\n",
      "  δ: Float64 25.0\n",
      "  η: Float64 1.0e-5\n",
      "  λ: Float64 0.6\n",
      "  a: Float64 21.0\n",
      "  b: Float64 0.18\n"
     ]
    }
   ],
   "source": [
    "const cfg = Config(η=1e-5)\n",
    "dump(cfg)"
   ]
  },
  {
   "cell_type": "markdown",
   "metadata": {},
   "source": [
    "---"
   ]
  },
  {
   "cell_type": "markdown",
   "metadata": {},
   "source": [
    "## Data"
   ]
  },
  {
   "cell_type": "markdown",
   "metadata": {},
   "source": [
    "Reading target from midi file. We also get the needed number of output neurons (with possibly some silent in the middle, it is just the highest note - the lowest note) and the needed simulation time in ms."
   ]
  },
  {
   "cell_type": "code",
   "execution_count": 3,
   "metadata": {},
   "outputs": [],
   "source": [
    "Target::Matrix{Bool} = from_midi(\"Well Tempered Clavier/Preludes/Prelude2.mid\");\n",
    "target = t->Float64.(Target[:,1 + floor(Int,t*cfg.dt)]);"
   ]
  },
  {
   "cell_type": "code",
   "execution_count": 6,
   "metadata": {},
   "outputs": [
    {
     "data": {
      "image/png": "[encoded data removed]",
      "text/html": [
       "<img src=\"data:image/png;base64,iVBORw0KGgoAAAANSUhEUgAAAMoAAABaCAAAAADcaJY3AAAABGdBTUEAALGPC/xhBQAAAAFzUkdCAK7OHOkAAAAgY0hSTQAAeiYAAICEAAD6AAAAgOgAAHUwAADqYAAAOpgAABdwnLpRPAAAAQxJREFUeAHdwcEJA0EQBLFqqPxTHgcw91jMYh8tSQ2pITWkhtSQGlJDakgNqSE1pIbUkBpSQ2o4bOE9hi08kRqGdwunpIbUkBpSQ2pIDakhNaSG1JAaUkNqSA2pIQ+GLWzDFrZhC9uwhW3YgtSQB2EbtnAmbMMWzoRtkBpyKNwV7gpSQy4btvALUkMuC/8iNaSG1JAaUkNqSA15MGxhG7awDVvYhi1swxakhjwIZ8KZcCacCU+khhwatvC9YQvfG6SGHAp3hbuC1JDLhi38gtSQy8K/SA2pITUctvAewxaeSA3Du4VTUkNqSA2pITWkhtSQGlJDakgNqSE1pIbUkBpSQ2pIDakhNaSG1PgAS1MXe9RVYdwAAAAASUVORK5C\">"
      ],
      "text/plain": [
       "45×101 Matrix{Gray{Float64}}:\n",
       " 0.0  0.0  0.0  0.0  0.0  0.0  0.0  0.0  …  0.0  0.0  0.0  0.0  0.0  0.0  0.0\n",
       " 0.0  0.0  0.0  0.0  0.0  0.0  0.0  0.0     0.0  0.0  0.0  0.0  0.0  0.0  0.0\n",
       " 0.0  0.0  0.0  0.0  0.0  0.0  0.0  0.0     0.0  0.0  0.0  0.0  0.0  0.0  0.0\n",
       " 0.0  0.0  0.0  0.0  0.0  0.0  0.0  0.0     0.0  0.0  0.0  0.0  0.0  0.0  0.0\n",
       " 0.0  0.0  0.0  0.0  0.0  0.0  0.0  0.0     0.0  0.0  0.0  0.0  0.0  0.0  0.0\n",
       " 0.0  0.0  0.0  0.0  0.0  0.0  0.0  0.0  …  0.0  0.0  0.0  0.0  0.0  0.0  0.0\n",
       " 0.0  0.0  0.0  0.0  0.0  0.0  0.0  0.0     0.0  0.0  0.0  0.0  0.0  0.0  0.0\n",
       " 0.0  0.0  0.0  0.0  0.0  0.0  0.0  0.0     0.0  0.0  0.0  0.0  0.0  0.0  0.0\n",
       " 1.0  1.0  1.0  1.0  1.0  1.0  1.0  1.0     0.0  0.0  0.0  0.0  0.0  0.0  0.0\n",
       " 0.0  0.0  0.0  0.0  0.0  0.0  0.0  0.0     0.0  0.0  0.0  0.0  0.0  0.0  0.0\n",
       " ⋮                        ⋮              ⋱       ⋮                        ⋮\n",
       " 0.0  0.0  0.0  0.0  0.0  0.0  0.0  0.0     0.0  0.0  0.0  0.0  0.0  0.0  0.0\n",
       " 0.0  0.0  0.0  0.0  0.0  0.0  0.0  0.0     0.0  0.0  0.0  0.0  0.0  0.0  0.0\n",
       " 0.0  0.0  0.0  0.0  0.0  0.0  0.0  0.0     0.0  0.0  0.0  0.0  0.0  0.0  0.0\n",
       " 0.0  0.0  0.0  0.0  0.0  0.0  0.0  0.0     0.0  0.0  0.0  0.0  0.0  0.0  0.0\n",
       " 0.0  0.0  0.0  0.0  0.0  0.0  0.0  0.0  …  0.0  0.0  0.0  0.0  0.0  0.0  0.0\n",
       " 0.0  0.0  0.0  0.0  0.0  0.0  0.0  0.0     0.0  0.0  0.0  0.0  0.0  0.0  0.0\n",
       " 0.0  0.0  0.0  0.0  0.0  0.0  0.0  0.0     0.0  0.0  0.0  0.0  0.0  0.0  0.0\n",
       " 0.0  0.0  0.0  0.0  0.0  0.0  0.0  0.0     0.0  0.0  0.0  0.0  0.0  0.0  0.0\n",
       " 0.0  0.0  0.0  0.0  0.0  0.0  0.0  0.0     0.0  0.0  0.0  0.0  0.0  0.0  0.0"
      ]
     },
     "metadata": {},
     "output_type": "display_data"
    }
   ],
   "source": [
    "T_min::Float64 = 0.\n",
    "T_max::Float64 = 100 #T_end = size(Target, 2) / cfg.dt - cfg.dt\n",
    "Gray.(reduce(hcat,[target(t) for t in T_min:T_max]))"
   ]
  },
  {
   "cell_type": "markdown",
   "metadata": {},
   "source": [
    "---"
   ]
  },
  {
   "cell_type": "markdown",
   "metadata": {},
   "source": [
    "## Parameters"
   ]
  },
  {
   "cell_type": "code",
   "execution_count": 62,
   "metadata": {},
   "outputs": [
    {
     "data": {
      "text/plain": [
       "(N = 180, N_latent = 135, N_out = 45)"
      ]
     },
     "metadata": {},
     "output_type": "display_data"
    }
   ],
   "source": [
    "N_out::Int = size(Target, 1)\n",
    "N_latent::Int = 3 * N_out;\n",
    "N::Int = N_out + N_latent;\n",
    "(N=N, N_latent=N_latent, N_out=N_out)"
   ]
  },
  {
   "cell_type": "code",
   "execution_count": 63,
   "metadata": {},
   "outputs": [
    {
     "name": "stderr",
     "output_type": "stream",
     "text": [
      "WARNING: redefinition of constant Main.B. This may fail, cause incorrect answers, or produce other errors.\n",
      "WARNING: redefinition of constant Main.τ_d. This may fail, cause incorrect answers, or produce other errors.\n",
      "WARNING: redefinition of constant Main.τ_s. This may fail, cause incorrect answers, or produce other errors.\n"
     ]
    }
   ],
   "source": [
    "W::Matrix{Float64} = rand(Normal(0., 0.0005), N, N);\n",
    "const B::Matrix{Float64} = Float64.(rand(N_latent, N) .< 1.5/N);\n",
    "const τ_d::Vector{Float64} = 10*ones(N);\n",
    "const τ_s::Vector{Float64} = 10*ones(N);"
   ]
  },
  {
   "cell_type": "code",
   "execution_count": 64,
   "metadata": {},
   "outputs": [],
   "source": [
    "args = [W, B, τ_d, τ_s, cfg, target, T_min, T_max];"
   ]
  },
  {
   "cell_type": "markdown",
   "metadata": {},
   "source": [
    "---"
   ]
  },
  {
   "cell_type": "markdown",
   "metadata": {},
   "source": [
    "## Training "
   ]
  },
  {
   "cell_type": "code",
   "execution_count": 77,
   "metadata": {},
   "outputs": [
    {
     "name": "stderr",
     "output_type": "stream",
     "text": [
      "\u001b[32mProgress: 100%|█████████████████████████████████████████| Time: 0:00:05\u001b[39m\u001b[K\n"
     ]
    }
   ],
   "source": [
    "train!(args..., 100)"
   ]
  },
  {
   "cell_type": "markdown",
   "metadata": {},
   "source": [
    "---"
   ]
  },
  {
   "cell_type": "markdown",
   "metadata": {},
   "source": [
    "## Testing"
   ]
  },
  {
   "cell_type": "code",
   "execution_count": 78,
   "metadata": {},
   "outputs": [
    {
     "data": {
      "text/plain": [
       "0.569377990430622"
      ]
     },
     "metadata": {},
     "output_type": "display_data"
    }
   ],
   "source": [
    "θ::Float64 = 0.5;\n",
    "metric = (r,t;θ=θ) -> sum((r.>θ).&(t.>θ)) / sum((r.>θ).|(t.>θ))\n",
    "test!(args..., metric)"
   ]
  },
  {
   "cell_type": "markdown",
   "metadata": {},
   "source": [
    "---"
   ]
  },
  {
   "cell_type": "markdown",
   "metadata": {},
   "source": [
    "## Running and plotting"
   ]
  },
  {
   "cell_type": "code",
   "execution_count": 79,
   "metadata": {},
   "outputs": [],
   "source": [
    "N_run::Int = 5\n",
    "nudge_on_run_nb(n) = n % 4 == 0\n",
    "r, u, v = run!(args..., N_run, nudge_on_run_nb);"
   ]
  },
  {
   "cell_type": "code",
   "execution_count": 80,
   "metadata": {},
   "outputs": [
    {
     "data": {
      "image/png": "[encoded data removed]",
      "text/html": [
       "<img src=\"data:image/png;base64,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\">"
      ],
      "text/plain": [
       "135×795 Matrix{RGB{N0f8}}:\n",
       " RGB(1.0, 1.0, 1.0)  RGB(1.0, 1.0, 1.0)  …  RGB(1.0, 1.0, 1.0)\n",
       " RGB(1.0, 1.0, 1.0)  RGB(1.0, 1.0, 1.0)     RGB(1.0, 1.0, 1.0)\n",
       " RGB(1.0, 1.0, 1.0)  RGB(1.0, 1.0, 1.0)     RGB(1.0, 1.0, 1.0)\n",
       " RGB(1.0, 1.0, 1.0)  RGB(1.0, 1.0, 1.0)     RGB(1.0, 1.0, 1.0)\n",
       " RGB(1.0, 1.0, 1.0)  RGB(1.0, 1.0, 1.0)     RGB(1.0, 1.0, 1.0)\n",
       " RGB(1.0, 1.0, 1.0)  RGB(1.0, 1.0, 1.0)  …  RGB(1.0, 1.0, 1.0)\n",
       " RGB(1.0, 1.0, 1.0)  RGB(1.0, 1.0, 1.0)     RGB(1.0, 1.0, 1.0)\n",
       " RGB(1.0, 1.0, 1.0)  RGB(1.0, 1.0, 1.0)     RGB(1.0, 1.0, 1.0)\n",
       " RGB(1.0, 1.0, 1.0)  RGB(1.0, 1.0, 1.0)     RGB(1.0, 1.0, 1.0)\n",
       " RGB(1.0, 1.0, 1.0)  RGB(1.0, 1.0, 1.0)     RGB(1.0, 1.0, 1.0)\n",
       " ⋮                                       ⋱  \n",
       " RGB(1.0, 1.0, 1.0)  RGB(1.0, 1.0, 1.0)     RGB(1.0, 1.0, 1.0)\n",
       " RGB(1.0, 1.0, 1.0)  RGB(1.0, 1.0, 1.0)     RGB(1.0, 1.0, 1.0)\n",
       " RGB(1.0, 1.0, 1.0)  RGB(1.0, 1.0, 1.0)     RGB(1.0, 1.0, 1.0)\n",
       " RGB(1.0, 1.0, 1.0)  RGB(1.0, 1.0, 1.0)     RGB(1.0, 1.0, 1.0)\n",
       " RGB(1.0, 1.0, 1.0)  RGB(1.0, 1.0, 1.0)  …  RGB(1.0, 1.0, 1.0)\n",
       " RGB(1.0, 1.0, 1.0)  RGB(1.0, 1.0, 1.0)     RGB(1.0, 1.0, 1.0)\n",
       " RGB(1.0, 1.0, 1.0)  RGB(1.0, 1.0, 1.0)     RGB(1.0, 1.0, 1.0)\n",
       " RGB(1.0, 1.0, 1.0)  RGB(1.0, 1.0, 1.0)     RGB(1.0, 1.0, 1.0)\n",
       " RGB(1.0, 1.0, 1.0)  RGB(1.0, 1.0, 1.0)     RGB(1.0, 1.0, 1.0)"
      ]
     },
     "metadata": {},
     "output_type": "display_data"
    }
   ],
   "source": [
    "plot(r[1:N_out,:], target, T_min, T_max, N_run, θ, ratio=(3,1))"
   ]
  },
  {
   "cell_type": "code",
   "execution_count": 34,
   "metadata": {},
   "outputs": [
    {
     "data": {
      "image/png": "[encoded data removed]",
      "text/html": [
       "<img src=\"data:image/png;base64,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\">"
      ],
      "text/plain": [
       "138×795 Matrix{Gray{Float64}}:\n",
       " 0.978292  0.98027   0.980515  0.980603  …  0.99238   0.992409  0.99245\n",
       " 0.977687  0.977663  0.97763   0.9776       0.976978  0.976816  0.976641\n",
       " 0.978881  0.982502  0.982898  0.983028     0.993404  0.993265  0.993168\n",
       " 0.977687  0.977696  0.977708  0.977719     0.98012   0.980008  0.979855\n",
       " 0.978292  0.980352  0.980704  0.980892     0.991151  0.991131  0.99115\n",
       " 0.978292  0.980233  0.980429  0.980471  …  0.988151  0.988004  0.987875\n",
       " 0.978881  0.982493  0.982876  0.982996     0.994374  0.994353  0.994353\n",
       " 0.978292  0.980255  0.98048   0.980549     0.99391   0.9938    0.993702\n",
       " 0.977687  0.977715  0.977754  0.97779      0.982611  0.982387  0.982152\n",
       " 0.977687  0.977737  0.977805  0.977869     0.981766  0.981556  0.981311\n",
       " ⋮                                       ⋱                      \n",
       " 0.978292  0.980279  0.980536  0.980635     0.992388  0.99234   0.992304\n",
       " 0.978292  0.980285  0.980551  0.980657  …  0.99079   0.990858  0.990939\n",
       " 0.977687  0.977728  0.977785  0.977837     0.976002  0.975717  0.975442\n",
       " 0.978881  0.982475  0.982836  0.982933     0.993744  0.993675  0.99364\n",
       " 0.978292  0.980235  0.980434  0.980479     0.988891  0.988833  0.988821\n",
       " 0.979454  0.984405  0.984846  0.984952     0.997279  0.997262  0.997257\n",
       " 0.978292  0.980243  0.980453  0.980508  …  0.992484  0.992448  0.992442\n",
       " 0.978881  0.98227   0.98236   0.982202     0.563069  0.639765  0.714735\n",
       " 0.978881  0.982533  0.98297   0.983137     0.994119  0.994382  0.994659"
      ]
     },
     "metadata": {},
     "output_type": "display_data"
    }
   ],
   "source": [
    "plot(r[N_out+1:end,:], T_min, T_max, N_run)"
   ]
  },
  {
   "cell_type": "markdown",
   "metadata": {},
   "source": [
    "---"
   ]
  },
  {
   "cell_type": "code",
   "execution_count": 35,
   "metadata": {},
   "outputs": [
    {
     "ename": "ArgumentError",
     "evalue": "ArgumentError: Package BenchmarkTools not found in current path.\n- Run `import Pkg; Pkg.add(\"BenchmarkTools\")` to install the BenchmarkTools package.",
     "output_type": "error",
     "traceback": [
      "ArgumentError: Package BenchmarkTools not found in current path.\n",
      "- Run `import Pkg; Pkg.add(\"BenchmarkTools\")` to install the BenchmarkTools package.\n",
      "\n",
      "Stacktrace:\n",
      "  [1] macro expansion\n",
      "    @ ./loading.jl:2296 [inlined]\n",
      "  [2] macro expansion\n",
      "    @ ./lock.jl:273 [inlined]\n",
      "  [3] __require(into::Module, mod::Symbol)\n",
      "    @ Base ./loading.jl:2271\n",
      "  [4] #invoke_in_world#3\n",
      "    @ ./essentials.jl:1089 [inlined]\n",
      "  [5] invoke_in_world\n",
      "    @ ./essentials.jl:1086 [inlined]\n",
      "  [6] require(into::Module, mod::Symbol)\n",
      "    @ Base ./loading.jl:2260\n",
      "  [7] eval\n",
      "    @ ./boot.jl:430 [inlined]\n",
      "  [8] include_string(mapexpr::typeof(REPL.softscope), mod::Module, code::String, filename::String)\n",
      "    @ Base ./loading.jl:2734\n",
      "  [9] #invokelatest#2\n",
      "    @ ./essentials.jl:1055 [inlined]\n",
      " [10] invokelatest\n",
      "    @ ./essentials.jl:1052 [inlined]\n",
      " [11] (::VSCodeServer.var\"#217#218\"{VSCodeServer.NotebookRunCellArguments, String})()\n",
      "    @ VSCodeServer ~/.vscode/extensions/julialang.language-julia-1.127.2/scripts/packages/VSCodeServer/src/serve_notebook.jl:24\n",
      " [12] withpath(f::VSCodeServer.var\"#217#218\"{VSCodeServer.NotebookRunCellArguments, String}, path::String)\n",
      "    @ VSCodeServer ~/.vscode/extensions/julialang.language-julia-1.127.2/scripts/packages/VSCodeServer/src/repl.jl:276\n",
      " [13] notebook_runcell_request(conn::VSCodeServer.JSONRPC.JSONRPCEndpoint{Base.PipeEndpoint, Base.PipeEndpoint}, params::VSCodeServer.NotebookRunCellArguments)\n",
      "    @ VSCodeServer ~/.vscode/extensions/julialang.language-julia-1.127.2/scripts/packages/VSCodeServer/src/serve_notebook.jl:13\n",
      " [14] dispatch_msg(x::VSCodeServer.JSONRPC.JSONRPCEndpoint{Base.PipeEndpoint, Base.PipeEndpoint}, dispatcher::VSCodeServer.JSONRPC.MsgDispatcher, msg::Dict{String, Any})\n",
      "    @ VSCodeServer.JSONRPC ~/.vscode/extensions/julialang.language-julia-1.127.2/scripts/packages/JSONRPC/src/typed.jl:67\n",
      " [15] serve_notebook(pipename::String, debugger_pipename::String, outputchannel_logger::Base.CoreLogging.SimpleLogger; error_handler::var\"#5#10\"{String})\n",
      "    @ VSCodeServer ~/.vscode/extensions/julialang.language-julia-1.127.2/scripts/packages/VSCodeServer/src/serve_notebook.jl:147\n",
      " [16] top-level scope\n",
      "    @ ~/.vscode/extensions/julialang.language-julia-1.127.2/scripts/notebook/notebook.jl:35"
     ]
    }
   ],
   "source": [
    "using BenchmarkTools\n",
    "\n",
    "u, v, rbar, m_den, m_som_exc, m_som_inh = initialize(τ_d, τ_s, cfg)\n",
    "u_tgt_bench::Vector{Float64} = Float64.(rand(N_out).>3/4);\n",
    "\n",
    "@benchmark step!($u, $u_tgt_bench, $v, $rbar, $W, $B, $cfg, $m_den, $m_som_exc, $m_som_inh)"
   ]
  },
  {
   "cell_type": "code",
   "execution_count": 90,
   "metadata": {},
   "outputs": [
    {
     "data": {
      "text/plain": [
       "24-element Vector{String}:\n",
       " \"Prelude1.mid\"\n",
       " \"Prelude10.mid\"\n",
       " \"Prelude11.mid\"\n",
       " \"Prelude12.mid\"\n",
       " \"Prelude13.mid\"\n",
       " \"Prelude14.mid\"\n",
       " \"Prelude15.mid\"\n",
       " \"Prelude16.mid\"\n",
       " \"Prelude17.mid\"\n",
       " \"Prelude18.mid\"\n",
       " ⋮\n",
       " \"Prelude23.mid\"\n",
       " \"Prelude24.mid\"\n",
       " \"Prelude3.mid\"\n",
       " \"Prelude4.mid\"\n",
       " \"Prelude5.mid\"\n",
       " \"Prelude6.mid\"\n",
       " \"Prelude7.mid\"\n",
       " \"Prelude8.mid\"\n",
       " \"Prelude9.mid\""
      ]
     },
     "metadata": {},
     "output_type": "display_data"
    }
   ],
   "source": [
    "readdir(\"Well Tempered Clavier/Preludes/\")"
   ]
  },
  {
   "cell_type": "code",
   "execution_count": null,
   "metadata": {},
   "outputs": [],
   "source": []
  }
 ],
 "metadata": {
  "kernelspec": {
   "display_name": "Julia 1.11.2",
   "language": "julia",
   "name": "julia-1.11"
  },
  "language_info": {
   "file_extension": ".jl",
   "mimetype": "application/julia",
   "name": "julia",
   "version": "1.11.2"
  }
 },
 "nbformat": 4,
 "nbformat_minor": 2
}
